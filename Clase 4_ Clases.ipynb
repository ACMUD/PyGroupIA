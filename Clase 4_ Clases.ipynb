{
  "nbformat": 4,
  "nbformat_minor": 0,
  "metadata": {
    "colab": {
      "name": "Clase 4: Clases.ipynb",
      "provenance": [],
      "authorship_tag": "ABX9TyPIUdSRjg46M412vc/mDVW4"
    },
    "kernelspec": {
      "name": "python3",
      "display_name": "Python 3"
    },
    "language_info": {
      "name": "python"
    }
  },
  "cells": [
    {
      "cell_type": "markdown",
      "metadata": {
        "id": "fVpIgZeWYv7W"
      },
      "source": [
        "#Clases\n",
        "\n",
        "Son estructuras que tienen atributos y metodos, actuan igual que un tipo de dato.\n"
      ]
    },
    {
      "cell_type": "markdown",
      "metadata": {
        "id": "3saOLupSZh2A"
      },
      "source": [
        "**Constructor**\n",
        "\n",
        "El constructor es una funcion que inicia el objeto cuando se instancia\n",
        "\n",
        "\n",
        "```python\n",
        "class <nombre>:\n",
        "  def __init__(self,<atributos>):\n",
        "    <estamentos>\n",
        "```\n",
        "\n",
        "Los objetos tienen atributos y metodos\n",
        "\n",
        "```python\n",
        "class <nombre>:\n",
        "  <atributos accesibles desde la clase>\n",
        "  def __init__(self,<atributos>):\n",
        "    <estamentos y atributos accesibles desde el objeto>\n",
        "  def <metodo 1>(<parametros>):\n",
        "    <estamentos>\n",
        "  .\n",
        "  .\n",
        "  .\n",
        "  def <metodo n>(<parametros>):\n",
        "    <estamentos>\n",
        "```\n",
        "\n"
      ]
    },
    {
      "cell_type": "markdown",
      "metadata": {
        "id": "LNo-nlDB4Ow3"
      },
      "source": [
        "Una clase puede estar con el unico objetivo de guardar ciertos valores, de forma que no se cree un constructor sino que se accede a los atributos para obtener un valor"
      ]
    },
    {
      "cell_type": "code",
      "metadata": {
        "id": "ChggRrf74biq",
        "colab": {
          "base_uri": "https://localhost:8080/"
        },
        "outputId": "0522be0a-8b03-43ae-c112-18a5b0485138"
      },
      "source": [
        "class fisica:\n",
        "  K=9e9\n",
        "  G=6e-11\n",
        "  g=9.8\n",
        "print(fisica.g)"
      ],
      "execution_count": null,
      "outputs": [
        {
          "output_type": "stream",
          "name": "stdout",
          "text": [
            "9.8\n"
          ]
        }
      ]
    },
    {
      "cell_type": "markdown",
      "metadata": {
        "id": "qUTV4V1b6ssS"
      },
      "source": [
        "El uso principal de las clases es abstraer las propiedades de un objeto o de una familia de objetos a una estructura facil de manipular dentro del codigo"
      ]
    },
    {
      "cell_type": "code",
      "metadata": {
        "id": "5-z1MQYIZt8A",
        "colab": {
          "base_uri": "https://localhost:8080/"
        },
        "outputId": "f7818b03-98e6-4a28-822c-54c64926afca"
      },
      "source": [
        "class Vector:\n",
        "  def __init__(self,i,j,k):\n",
        "    self.i=i\n",
        "    self.j=j\n",
        "    self.k=k\n",
        "  def magn(self):\n",
        "    return pow(pow(self.i,2)+pow(self.j,2)+pow(self.k,2),1/2)\n",
        "\n",
        "  def ppunto(vec1,vec2):\n",
        "    return vec1.i*vec2.i+vec1.j*vec2.j+vec1.k*vec2.k\n",
        "\n",
        "  def normalizar(vec):\n",
        "    mag=vec.magn()\n",
        "    return Vector(vec.i/mag, vec.j/mag, vec.k/mag)\n",
        "\n",
        "vec=Vector(2,3,4)\n",
        "print(\"{}i + {}j + {}k\".format(vec.i,vec.j,vec.k))\n",
        "print(vec.magn())\n",
        "\n",
        "print(Vector.ppunto(vec,Vector(5,6,2)))\n",
        "\n",
        "vn=Vector.normalizar(vec)\n",
        "\n",
        "print(\"{}i + {}j + {}k\".format(vn.i,vn.j,vn.k))\n",
        "print(vn.magn())"
      ],
      "execution_count": null,
      "outputs": [
        {
          "output_type": "stream",
          "name": "stdout",
          "text": [
            "2i + 3j + 4k\n",
            "5.385164807134504\n",
            "36\n",
            "0.3713906763541037i + 0.5570860145311556j + 0.7427813527082074k\n",
            "1.0\n"
          ]
        }
      ]
    },
    {
      "cell_type": "markdown",
      "metadata": {
        "id": "JVxdswHWciEx"
      },
      "source": [
        "**Herencia**\n",
        "\n",
        "La herencia es una forma de hacer que una nueva clase \"herede\" los atributos y metodos de la clase padre, ademas puede agregar nuevos atributos y metodos.\n",
        "\n",
        "Siempre se recomienda que cuando se hace un proyecto se debe construir clases muy abstractas y estables para construir a partir de ellas."
      ]
    },
    {
      "cell_type": "code",
      "metadata": {
        "id": "g-Dqy3JyKTrB",
        "colab": {
          "base_uri": "https://localhost:8080/"
        },
        "outputId": "8a8df025-6a60-402e-e038-ea9df6d37195"
      },
      "source": [
        "class Persona:\n",
        "  def __init__(self,id,nombre,apellido):\n",
        "    self.id=id\n",
        "    self.nombre=nombre\n",
        "    self.apellido=apellido\n",
        "  def presentarse(self):\n",
        "    return \"Hola, soy {} {}\".format(self.nombre,self.apellido)\n",
        "\n",
        "\n",
        "class Estudiante(Persona):\n",
        "  def __init__(self,id,nombre,apellido,codigo,carrera):\n",
        "    super().__init__(id,nombre,apellido)\n",
        "    self.codigo=codigo\n",
        "    self.carrera=carrera\n",
        "  def presentarEstudiante(self):\n",
        "    return \"Hola, soy {} {} codigo {} de la carrera de {}\".format(self.nombre,self.apellido,self.codigo,self.carrera)\n",
        "\n",
        "import numpy as np\n",
        "EST=Estudiante(np.random.randint(1000000000,9999999999),\"Juan\",\"Rodriguez\",np.random.randint(100000000,999999999),\"Ing. Sistemas\")\n",
        "\n",
        "print(EST.presentarse())\n",
        "print(EST.presentarEstudiante())\n",
        "\n",
        "    "
      ],
      "execution_count": null,
      "outputs": [
        {
          "output_type": "stream",
          "name": "stdout",
          "text": [
            "Hola, soy Juan Rodriguez\n",
            "Hola, soy Juan Rodriguez codigo 399109040 de la carrera de Ing. Sistemas\n"
          ]
        }
      ]
    },
    {
      "cell_type": "markdown",
      "metadata": {
        "id": "NSe-AztpdWAT"
      },
      "source": [
        "#Grafos\n",
        "\n",
        "Para ilustrar el uso de clases y herencia entre clases se puede tomar el ejemplo de los grafos.\n",
        "\n"
      ]
    },
    {
      "cell_type": "markdown",
      "metadata": {
        "id": "vWdc7_NfSTq6"
      },
      "source": [
        "##Listas ligadas\n",
        "\n",
        "Una lista ligada son elementos dinamicos que guardan una informacion de forma sucesiva, se puede ver como un grafo dirigido en el cual un nodo apunta al siguiente nodo y asi sucesivamente hasta no hayan mas, son similares a las listas nativas de python.\n",
        "\n",
        "![Imagen2.png](data:image/png;base64,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)\n",
        "\n",
        "\n",
        "Nodo | Siguiente\n",
        "---|---\n",
        "A|B\n",
        "B|C\n",
        "C|D\n",
        "D|E\n",
        "E|None"
      ]
    },
    {
      "cell_type": "code",
      "metadata": {
        "id": "HvgrLGcVi0ZI"
      },
      "source": [
        "class Lista:\n",
        "  def __init__(self,siguiente=None):\n",
        "    self.siguiente=siguiente\n",
        "  def append(self,lista):\n",
        "    w=self\n",
        "    while w.siguiente!=None:\n",
        "      w=w.siguiente\n",
        "    w.siguiente=lista"
      ],
      "execution_count": null,
      "outputs": []
    },
    {
      "cell_type": "markdown",
      "metadata": {
        "id": "r62A8uQGWJqn"
      },
      "source": [
        "**Ejemplo 1**"
      ]
    },
    {
      "cell_type": "code",
      "metadata": {
        "id": "f0S-Z9p6lWfn",
        "colab": {
          "base_uri": "https://localhost:8080/"
        },
        "outputId": "8aecd3a8-b4a9-4619-9194-ca9779f8770e"
      },
      "source": [
        "class Edificio(Lista):\n",
        "  def __init__(self,piso,disponible,siguiente=None):\n",
        "    super().__init__(siguiente)\n",
        "    self.piso=piso\n",
        "    self.disponible=disponible\n",
        "  def info(self):\n",
        "    print(\"Piso {:10}, Disponibilidad: {}\".format(self.piso,self.disponible))\n",
        "\n",
        "a=Edificio(1,True)\n",
        "b=Edificio(2,False)\n",
        "a.append(b)\n",
        "\n",
        "\n",
        "a.info()\n",
        "a.siguiente.info()\n",
        "\n",
        "b.disponible=True\n",
        "\n",
        "a.info()\n",
        "a.siguiente.info()"
      ],
      "execution_count": null,
      "outputs": [
        {
          "output_type": "stream",
          "name": "stdout",
          "text": [
            "Piso          1, Disponibilidad: True\n",
            "Piso          2, Disponibilidad: False\n",
            "Piso          1, Disponibilidad: True\n",
            "Piso          2, Disponibilidad: True\n"
          ]
        }
      ]
    },
    {
      "cell_type": "markdown",
      "source": [
        "**Ejemplo 2**"
      ],
      "metadata": {
        "id": "vhVvu8dPY44T"
      }
    },
    {
      "cell_type": "code",
      "metadata": {
        "id": "G3ZUZUfbDq--"
      },
      "source": [
        "class Lista:\n",
        "  def __init__(self, siguiente=None, inicio=None, n=0):\n",
        "    self.siguiente=siguiente\n",
        "    self.n=n\n",
        "    self.inicio=inicio\n",
        "  def last(self):\n",
        "    w=self\n",
        "    n=0\n",
        "    while w.siguiente!=None:\n",
        "      w=w.siguiente\n",
        "      n+=1\n",
        "    return w, n\n",
        "  def append(self,lista):\n",
        "    w,n=self.last()\n",
        "    w.siguiente=lista\n",
        "    w.siguiente.n=n+1"
      ],
      "execution_count": null,
      "outputs": []
    },
    {
      "cell_type": "code",
      "metadata": {
        "id": "emyqZpYp2Xyh",
        "colab": {
          "base_uri": "https://localhost:8080/"
        },
        "outputId": "448a712d-a4b9-498d-ab27-e731699b7ade"
      },
      "source": [
        "class ListaI(Lista):\n",
        "  def append(self,lista):\n",
        "    w,n=self.last()\n",
        "    w.siguiente=lista\n",
        "    w.siguiente.n=n+1\n",
        "    w.siguiente.inicio=self\n",
        "  def info(self):\n",
        "    return \"{:5} inicio: {:}, siguiente: {:}\".format(self.n,(self.inicio.n if self.inicio!=None else \"None\"),(self.siguiente.n if self.siguiente!=None else \"None\"))\n",
        "  def Mostrar_lista(self):\n",
        "    w=self\n",
        "    while w!=None:\n",
        "      print(w.info())\n",
        "      w=w.siguiente\n",
        "\n",
        "\n",
        "a=ListaI()\n",
        "for i in range(10):\n",
        "  a.append(ListaI())\n",
        "\n",
        "a.Mostrar_lista()"
      ],
      "execution_count": null,
      "outputs": [
        {
          "output_type": "stream",
          "name": "stdout",
          "text": [
            "    0 inicio: None, siguiente: 1\n",
            "    1 inicio: 0, siguiente: 2\n",
            "    2 inicio: 0, siguiente: 3\n",
            "    3 inicio: 0, siguiente: 4\n",
            "    4 inicio: 0, siguiente: 5\n",
            "    5 inicio: 0, siguiente: 6\n",
            "    6 inicio: 0, siguiente: 7\n",
            "    7 inicio: 0, siguiente: 8\n",
            "    8 inicio: 0, siguiente: 9\n",
            "    9 inicio: 0, siguiente: 10\n",
            "   10 inicio: 0, siguiente: None\n"
          ]
        }
      ]
    },
    {
      "cell_type": "code",
      "metadata": {
        "id": "mxVEqe8dFpfU",
        "colab": {
          "base_uri": "https://localhost:8080/"
        },
        "outputId": "ef4aee21-da95-41b1-b5e1-d2cd22fa1b35"
      },
      "source": [
        "class Persona(ListaI):\n",
        "  def __init__(self, nombre, edad, sexo, rol, siguiente=None, inicio=None, n=0):\n",
        "    super().__init__(siguiente, inicio, n)\n",
        "    self.nombre=nombre\n",
        "    self.edad=edad\n",
        "    self.sexo=sexo\n",
        "    self.rol=rol\n",
        "  def info(self):\n",
        "    return \"Nombre {:10} Edad {:10} Sexo {:10} {}\".format(self.nombre,self.edad,self.sexo,self.rol)\n",
        "  def append(self,lista):\n",
        "    super().append(lista)\n",
        "\n",
        "vendedores={\n",
        "    1: Persona(\"Alejandro A\",24,\"Masculino\",\"Vendedor\"),\n",
        "    2: Persona(\"Luis R\", 28,\"Masculino\",\"Vendedor\")\n",
        "}\n",
        "\n",
        "clientes={\n",
        "    1: Persona(\"Alfonso H\", 34,\"Masculino\", \"Cliente\"),\n",
        "    2: Persona(\"Fernando R\", 24,\"Masculino\",\"Cliente\"),\n",
        "    3: Persona(\"Laura A\", 20, \"Femenino\", \"Cliente\"),\n",
        "    4: Persona(\"Eduardo B\", 39, \"Masculino\",\"Cliente\"),\n",
        "    5: Persona(\"Luz R\", 45, \"Femenino\", \"Cliente\")\n",
        "}\n",
        "\n",
        "\n",
        "\n",
        "\n",
        "vendedores[1].append(clientes[1])\n",
        "vendedores[1].append(clientes[3])\n",
        "vendedores[1].append(clientes[5])\n",
        "\n",
        "vendedores[2].append(clientes[2])\n",
        "vendedores[2].append(clientes[4])\n",
        "\n",
        "print(\"Buscar los clientes desde los vendedores\")\n",
        "vendedores[1].Mostrar_lista()\n",
        "print(\"\\n\\n\")\n",
        "vendedores[2].Mostrar_lista()\n",
        "print(\"\\n\\n\")\n",
        "\n",
        "print(\"Buscar los vendedores desde los clientes\")\n",
        "for i in range(1,5):\n",
        "  print(i,clientes[i].inicio.info())"
      ],
      "execution_count": null,
      "outputs": [
        {
          "output_type": "stream",
          "name": "stdout",
          "text": [
            "Buscar los clientes desde los vendedores\n",
            "Nombre Alejandro A Edad         24 Sexo Masculino  Vendedor\n",
            "Nombre Alfonso H  Edad         34 Sexo Masculino  Cliente\n",
            "Nombre Laura A    Edad         20 Sexo Femenino   Cliente\n",
            "Nombre Luz R      Edad         45 Sexo Femenino   Cliente\n",
            "\n",
            "\n",
            "\n",
            "Nombre Luis R     Edad         28 Sexo Masculino  Vendedor\n",
            "Nombre Fernando R Edad         24 Sexo Masculino  Cliente\n",
            "Nombre Eduardo B  Edad         39 Sexo Masculino  Cliente\n",
            "\n",
            "\n",
            "\n",
            "Buscar los vendedores desde los clientes\n",
            "1 Nombre Alejandro A Edad         24 Sexo Masculino  Vendedor\n",
            "2 Nombre Luis R     Edad         28 Sexo Masculino  Vendedor\n",
            "3 Nombre Alejandro A Edad         24 Sexo Masculino  Vendedor\n",
            "4 Nombre Luis R     Edad         28 Sexo Masculino  Vendedor\n"
          ]
        }
      ]
    }
  ]
}