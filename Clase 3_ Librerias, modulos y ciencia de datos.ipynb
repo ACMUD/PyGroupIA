{
  "nbformat": 4,
  "nbformat_minor": 0,
  "metadata": {
    "colab": {
      "name": "Clase 3: Librerias y Modulos.ipynb",
      "provenance": [],
      "collapsed_sections": [
        "gmaoFW-WxsP-",
        "_0n1eMMUxxkN",
        "-DfPRR9mx3I-",
        "6Pm9TFbC4BXd",
        "EUU16wBc4Ucr"
      ]
    },
    "kernelspec": {
      "name": "python3",
      "display_name": "Python 3"
    },
    "language_info": {
      "name": "python"
    }
  },
  "cells": [
    {
      "cell_type": "code",
      "source": [
        "import numpy as np\n",
        "import matplotlib.pyplot as plt\n",
        "import pandas as pd\n",
        "import scipy as sp"
      ],
      "metadata": {
        "id": "dQ89wsAuJ2Q4"
      },
      "execution_count": 1,
      "outputs": []
    },
    {
      "cell_type": "markdown",
      "metadata": {
        "id": "rdBs5LfDwhlP"
      },
      "source": [
        "#Introducción al uso de librerías\n",
        "\n",
        "Algunas de las librerías más utilizadas son:\n",
        "\n",
        "1.   [NumPy](https://numpy.org/doc/stable/numpy-ref.pdf)\n",
        "2.   [Matplotlib](https://matplotlib.org/)\n",
        "3.   [Pandas](https://pandas.pydata.org/docs/)\n",
        "\n",
        "4.   [SciPy](https://docs.scipy.org/doc/scipy/)"
      ]
    },
    {
      "cell_type": "markdown",
      "metadata": {
        "id": "gmaoFW-WxsP-"
      },
      "source": [
        "#Numpy\n",
        "\n",
        "Numpy es una libreria para el procesamiento numérico, la cual es muy útil para todo tipo de aplicaciones."
      ]
    },
    {
      "cell_type": "code",
      "metadata": {
        "id": "60O3XDVMxpQp"
      },
      "source": [
        "import numpy as np"
      ],
      "execution_count": null,
      "outputs": []
    },
    {
      "cell_type": "markdown",
      "source": [
        "##Numpy básico"
      ],
      "metadata": {
        "id": "AWUcuFCU8-WR"
      }
    },
    {
      "cell_type": "markdown",
      "metadata": {
        "id": "mwYRuMWux7N1"
      },
      "source": [
        "###Funciones y constantes matemáticas\n",
        "\n",
        "**Constantes:**\n",
        "\n",
        "Constante | Uso\n",
        "---|---\n",
        "$\\pi$| pi\n",
        "$e$|e\n",
        "$\\infty$| inf\n",
        "$-\\infty$|NINF\n",
        "$\\gamma$| euler_gamma\n",
        "None | newaxis\n",
        "\n",
        "**Funciones trigonométricas:**\n",
        "\n",
        "Las funciones trigonométricas en numpy reciben como parametro un ángulo en radianes.\n",
        "\n",
        "Función | Uso\n",
        "---|---\n",
        "seno| sin\n",
        "coseno| cos\n",
        "tangente| tan\n",
        "arcoseno| arcsin\n",
        "arcocoseno | arccos\n",
        "arcotangente | arctan\n",
        "\n",
        "Las funciones trigonométricas hiperbólicas son iguales solo que tienen una h al final del nombre por ejemplo: seno hiperbólico: sinh\n",
        "\n",
        "\n",
        "para transformar ángulos de grados a radianes:\n",
        "\n",
        "\n",
        "```python\n",
        "numpy.radians(360)\n",
        ">>6.283185307179586\n",
        "```\n",
        "\n"
      ]
    },
    {
      "cell_type": "code",
      "metadata": {
        "id": "9xbWp7L-zPSa"
      },
      "source": [
        "for i in range(36):\n",
        "  print(3*np.sin(np.radians(i*10)))"
      ],
      "execution_count": null,
      "outputs": []
    },
    {
      "cell_type": "markdown",
      "metadata": {
        "id": "5KB1p74S2m0K"
      },
      "source": [
        "###Arreglos y matrices\n",
        "\n",
        "Probablemente uno de los usos más provechosos que se le puede dar a numpy es el manejo de arreglos y matrices ya que es muy sencillo de manejar.\n",
        "\n",
        "\n",
        "**Arreglos**\n",
        "Hay varias formas de hacer un arreglo en numpy, por ejemplo con `numpy.array()`\n",
        "\n",
        "\n",
        "Otro arreglo que puede ser útil es mediante la función `numpy.linspace`\n",
        "\n",
        "\n",
        "```python\n",
        "np.linspace(<número inicial>,<número final>,<divisíones>)\n",
        "```\n",
        "\n",
        "Una ventaja que poseen los arreglos es que pueden evaluarse al tiempo en una función y pueden operarse por posiciones o como si fueran vectores.\n",
        "\n",
        "\n"
      ]
    },
    {
      "cell_type": "code",
      "metadata": {
        "id": "vFOQf3tf3kTp"
      },
      "source": [
        "x=np.linspace(0.1,10,40)\n",
        "y=lambda x: np.sin(x)+1.5*np.cos(x)/x\n",
        "\n",
        "print(x)\n",
        "print(y(x))"
      ],
      "execution_count": null,
      "outputs": []
    },
    {
      "cell_type": "code",
      "source": [
        "#@title Grafica\n",
        "import matplotlib.pyplot as plt\n",
        "plt.plot(x,y(x))\n",
        "plt.show()"
      ],
      "metadata": {
        "cellView": "form",
        "id": "FtYylRyPxdOh",
        "colab": {
          "base_uri": "https://localhost:8080/",
          "height": 265
        },
        "outputId": "34bcf101-fe09-46bd-b963-aa8e98d90942"
      },
      "execution_count": null,
      "outputs": [
        {
          "output_type": "display_data",
          "data": {
            "text/plain": [
              "<Figure size 432x288 with 1 Axes>"
            ],
            "image/png": "[encoded data removed]"
          },
          "metadata": {
            "needs_background": "light"
          }
        }
      ]
    },
    {
      "cell_type": "code",
      "metadata": {
        "id": "qQAJUqbN35kg"
      },
      "source": [
        "notas=np.array([5,2,4,4])\n",
        "valores=np.array([.5,.25,.2,.05])\n",
        "print(notas*valores)\n",
        "print(sum(notas*valores))"
      ],
      "execution_count": null,
      "outputs": []
    },
    {
      "cell_type": "code",
      "metadata": {
        "id": "48FmO_cV6zUd",
        "colab": {
          "base_uri": "https://localhost:8080/"
        },
        "outputId": "304449f4-c0ce-487b-92e5-b08b04f6aa49"
      },
      "source": [
        "print(notas@valores)"
      ],
      "execution_count": null,
      "outputs": [
        {
          "output_type": "stream",
          "name": "stdout",
          "text": [
            "4.0\n"
          ]
        }
      ]
    },
    {
      "cell_type": "code",
      "metadata": {
        "id": "k4NoQzBd60bQ",
        "colab": {
          "base_uri": "https://localhost:8080/"
        },
        "outputId": "f160f484-311e-41fa-f762-7c24d94feb35"
      },
      "source": [
        "v=np.array([1,2,3])\n",
        "u=np.array([3,2,1])\n",
        "print(v+u)"
      ],
      "execution_count": null,
      "outputs": [
        {
          "output_type": "stream",
          "name": "stdout",
          "text": [
            "[4 4 4]\n"
          ]
        }
      ]
    },
    {
      "cell_type": "markdown",
      "metadata": {
        "id": "1vvTpx1Ec7OL"
      },
      "source": [
        "Hay otro tipo de arreglos que pueden ser útiles, como por ejemplo, uno lleno de 1 o de 0, estos pueden generarse fácilmente con `numpy.zeros` y `numpy.ones`\n",
        "\n"
      ]
    },
    {
      "cell_type": "code",
      "metadata": {
        "id": "XnGY0WiLdWyP",
        "colab": {
          "base_uri": "https://localhost:8080/"
        },
        "outputId": "86764f41-8019-45e6-9862-cf3f300612e6"
      },
      "source": [
        "a=np.zeros(10)\n",
        "print(a)\n",
        "b=np.ones(10)\n",
        "print(b)"
      ],
      "execution_count": null,
      "outputs": [
        {
          "output_type": "stream",
          "name": "stdout",
          "text": [
            "[0. 0. 0. 0. 0. 0. 0. 0. 0. 0.]\n",
            "[1. 1. 1. 1. 1. 1. 1. 1. 1. 1.]\n"
          ]
        }
      ]
    },
    {
      "cell_type": "code",
      "source": [
        "np.cross(np.array([1,2,3]),np.array([2,3,4]))"
      ],
      "metadata": {
        "colab": {
          "base_uri": "https://localhost:8080/"
        },
        "id": "gND0ln68vB37",
        "outputId": "ac56f524-4844-41dc-fe53-a40c6eb43027"
      },
      "execution_count": null,
      "outputs": [
        {
          "output_type": "execute_result",
          "data": {
            "text/plain": [
              "array([-1,  2, -1])"
            ]
          },
          "metadata": {},
          "execution_count": 19
        }
      ]
    },
    {
      "cell_type": "markdown",
      "metadata": {
        "id": "Lj0VZrnX4w5m"
      },
      "source": [
        "**Matrices**\n",
        "\n",
        "Las matrices son arreglos multi-dimensionales es decir que tienen filas y columnas, y pueden crearse de dos formas: con `np.matrix()` y `np.array()`\n",
        "\n",
        "Las matrices tienen muchas funciones entre las cuales están la suma de matrices, multiplicación matricial, la inversión de matrices y la trasposición de matrices\n"
      ]
    },
    {
      "cell_type": "code",
      "metadata": {
        "id": "OOj1H0ze5DdL",
        "colab": {
          "base_uri": "https://localhost:8080/"
        },
        "outputId": "774e525b-313b-422d-ea72-f6839cff5659"
      },
      "source": [
        "s=np.matrix([[1,2,3],[3,4,5],[5,5,2]])\n",
        "d=np.matrix([[6,8,3],[4,5,1],[9,4,7]])\n",
        "\n",
        "print(d,\"\\n\",s)"
      ],
      "execution_count": null,
      "outputs": [
        {
          "output_type": "stream",
          "name": "stdout",
          "text": [
            "[[6 8 3]\n",
            " [4 5 1]\n",
            " [9 4 7]] \n",
            " [[1 2 3]\n",
            " [3 4 5]\n",
            " [5 5 2]]\n"
          ]
        }
      ]
    },
    {
      "cell_type": "code",
      "source": [
        "print(s+d)"
      ],
      "metadata": {
        "id": "9gt88Ri4ElHI",
        "colab": {
          "base_uri": "https://localhost:8080/"
        },
        "outputId": "2a01c69d-dedd-44b2-e20c-1d218b54a18d"
      },
      "execution_count": null,
      "outputs": [
        {
          "output_type": "stream",
          "name": "stdout",
          "text": [
            "[[ 7 10  6]\n",
            " [ 7  9  6]\n",
            " [14  9  9]]\n"
          ]
        }
      ]
    },
    {
      "cell_type": "code",
      "metadata": {
        "id": "2O1FT42E64qY",
        "colab": {
          "base_uri": "https://localhost:8080/"
        },
        "outputId": "e9416850-c127-41d0-d57c-fa5cd7806992"
      },
      "source": [
        "print(s*d)\n",
        "print(s@d)"
      ],
      "execution_count": null,
      "outputs": [
        {
          "output_type": "stream",
          "name": "stdout",
          "text": [
            "[[41 30 26]\n",
            " [79 64 48]\n",
            " [68 73 34]]\n",
            "[[41 30 26]\n",
            " [79 64 48]\n",
            " [68 73 34]]\n"
          ]
        }
      ]
    },
    {
      "cell_type": "code",
      "metadata": {
        "id": "Y4-AhKkz65_K",
        "colab": {
          "base_uri": "https://localhost:8080/"
        },
        "outputId": "3b13568a-8d4d-43e8-cb20-b270f4c56128"
      },
      "source": [
        "print(s.T)"
      ],
      "execution_count": null,
      "outputs": [
        {
          "output_type": "stream",
          "name": "stdout",
          "text": [
            "[[1 3 5]\n",
            " [2 4 5]\n",
            " [3 5 2]]\n"
          ]
        }
      ]
    },
    {
      "cell_type": "code",
      "metadata": {
        "id": "ESt5Bdhm668m",
        "colab": {
          "base_uri": "https://localhost:8080/"
        },
        "outputId": "217cf1b6-ca9c-4304-ecfe-77281fe72215"
      },
      "source": [
        "print(np.linalg.inv(s))\n",
        "print(np.linalg.inv(s)@s)"
      ],
      "execution_count": null,
      "outputs": [
        {
          "output_type": "stream",
          "name": "stdout",
          "text": [
            "[[-2.83333333  1.83333333 -0.33333333]\n",
            " [ 3.16666667 -2.16666667  0.66666667]\n",
            " [-0.83333333  0.83333333 -0.33333333]]\n",
            "[[ 1.00000000e+00 -1.49880108e-15 -1.44328993e-15]\n",
            " [ 1.11022302e-15  1.00000000e+00  0.00000000e+00]\n",
            " [-3.88578059e-16 -1.66533454e-16  1.00000000e+00]]\n"
          ]
        }
      ]
    },
    {
      "cell_type": "markdown",
      "metadata": {
        "id": "aQ1fs9oJ7LDz"
      },
      "source": [
        "###Módulo de álgebra lineal\n",
        "\n",
        "Con las matrices y los arreglos además de todas las posibles utilidades, también grácias al módulo de álgebra lineal pueden ayudar a solucionar sistemas de ecuaciones\n",
        "\n",
        "\n",
        "por ejemplo:\n",
        "\n",
        "$$3x+4y+z=6$$\n",
        "$$x+5y-z=-2$$\n",
        "$$3x-4y+2z=1$$"
      ]
    },
    {
      "cell_type": "code",
      "metadata": {
        "id": "-A1-pcPl7FiA",
        "colab": {
          "base_uri": "https://localhost:8080/"
        },
        "outputId": "71b56cc8-8716-4b40-d856-cb37701ecf5e"
      },
      "source": [
        "m=np.array([[3,4,1],\n",
        "            [1,5,-1],\n",
        "            [3,-4,2]])\n",
        "\n",
        "s=np.array([6,-2,1])\n",
        "\n",
        "r=np.linalg.solve(m,s)\n",
        "\n",
        "print(r)\n",
        "print(r@m.T,\"==\",s)"
      ],
      "execution_count": null,
      "outputs": [
        {
          "output_type": "stream",
          "name": "stdout",
          "text": [
            "[-2.42857143  1.52380952  7.19047619]\n",
            "[ 6. -2.  1.] == [ 6 -2  1]\n"
          ]
        }
      ]
    },
    {
      "cell_type": "markdown",
      "metadata": {
        "id": "QMgsVqvZz8qS"
      },
      "source": [
        "###Funciones para obtener valores aleatórios\n",
        "\n",
        "Con numpy se puede generar números aleatórios o escoger aleatóriamente entre los objetos de un arreglo\n",
        "\n",
        "\n",
        "\n",
        "```python\n",
        "np.random.randint(<límite inferior>, <límite superior>)\n",
        "```\n",
        "\n",
        "```python\n",
        "np.random.choice(<arreglo>)\n",
        "```\n"
      ]
    },
    {
      "cell_type": "code",
      "metadata": {
        "id": "jX_lR-9F0b6f"
      },
      "source": [
        "clases=[\"a\",\"b\",\"c\"]\n",
        "print(np.random.choice(clases))\n",
        "\n",
        "print(np.random.randint(10,50))"
      ],
      "execution_count": null,
      "outputs": []
    },
    {
      "cell_type": "markdown",
      "metadata": {
        "id": "IduIcmcWylwc"
      },
      "source": [
        "##Numpy para estadística\n",
        "\n",
        "Numpy también tiene múltiples funciones muy útiles para hacer estadística\n",
        "\n",
        "Si se tiene un arreglo se puede pedir el valor mínimo y el máximo utilizando\n",
        "\n",
        "```python\n",
        "np.min(<arreglo>)\n",
        "np.max(<arreglo>)\n",
        "```\n",
        "y el rango, es decir la diferencia entre el valor máximo y el mínimo con\n",
        "\n",
        "\n",
        "\n",
        "```python\n",
        "np.ptp(<arreglo>)\n",
        "```\n",
        "\n"
      ]
    },
    {
      "cell_type": "code",
      "metadata": {
        "id": "Qvxs_gOrynrO"
      },
      "source": [
        "ingresos=np.array([np.random.randint(15,70)*100 for _ in range(300)])\n",
        "print(ingresos)"
      ],
      "execution_count": null,
      "outputs": []
    },
    {
      "cell_type": "code",
      "metadata": {
        "id": "aCuRtRXt7T9B",
        "outputId": "ac35a0e4-fd79-4ebb-80b2-729bd88ab39d",
        "colab": {
          "base_uri": "https://localhost:8080/"
        }
      },
      "source": [
        "print(np.min(ingresos))\n",
        "print(np.max(ingresos))\n",
        "print(np.ptp(ingresos))"
      ],
      "execution_count": null,
      "outputs": [
        {
          "output_type": "stream",
          "name": "stdout",
          "text": [
            "1500\n",
            "6900\n",
            "5400\n"
          ]
        }
      ]
    },
    {
      "cell_type": "markdown",
      "metadata": {
        "id": "A5BrJePw9K03"
      },
      "source": [
        "Se puede ordenar utilizando `sort()`\n",
        "\n",
        "\n",
        "\n",
        "```python\n",
        "<arreglo>.sort()\n",
        "```\n",
        "\n"
      ]
    },
    {
      "cell_type": "code",
      "metadata": {
        "id": "t6DTjj6W9VGb",
        "colab": {
          "base_uri": "https://localhost:8080/"
        },
        "outputId": "c36dceb5-d49b-4e8b-9a5c-0610921da440"
      },
      "source": [
        "ingresos.sort()\n",
        "print(ingresos)"
      ],
      "execution_count": null,
      "outputs": [
        {
          "output_type": "stream",
          "name": "stdout",
          "text": [
            "[1500 1500 1500 1500 1600 1600 1600 1600 1600 1700 1700 1800 1800 1800\n",
            " 1800 1800 1900 1900 1900 1900 1900 1900 1900 2000 2000 2000 2000 2000\n",
            " 2000 2000 2100 2100 2100 2100 2200 2200 2200 2200 2200 2200 2200 2200\n",
            " 2200 2300 2300 2300 2300 2300 2300 2300 2300 2300 2400 2400 2400 2400\n",
            " 2400 2400 2500 2500 2500 2500 2500 2500 2500 2500 2500 2600 2600 2600\n",
            " 2600 2600 2600 2700 2700 2700 2800 2800 2900 2900 2900 2900 2900 2900\n",
            " 3000 3000 3000 3000 3000 3000 3100 3100 3100 3100 3100 3100 3100 3100\n",
            " 3200 3200 3300 3300 3300 3300 3300 3300 3300 3300 3300 3400 3400 3500\n",
            " 3500 3500 3600 3600 3600 3600 3600 3600 3600 3700 3700 3800 3800 3800\n",
            " 3800 3800 3800 3800 3800 3900 3900 3900 3900 3900 4000 4000 4000 4000\n",
            " 4100 4100 4100 4100 4100 4100 4100 4200 4200 4200 4300 4300 4300 4400\n",
            " 4400 4400 4400 4400 4400 4400 4400 4400 4500 4500 4500 4500 4500 4500\n",
            " 4500 4500 4600 4600 4600 4600 4600 4700 4700 4700 4700 4700 4800 4800\n",
            " 4800 4800 4800 4800 4900 4900 4900 4900 4900 4900 4900 4900 4900 5000\n",
            " 5100 5100 5100 5200 5200 5200 5200 5200 5200 5300 5300 5300 5300 5300\n",
            " 5300 5400 5400 5400 5400 5400 5400 5400 5400 5500 5500 5500 5500 5600\n",
            " 5600 5600 5600 5600 5600 5600 5700 5700 5700 5700 5700 5700 5700 5800\n",
            " 5800 5800 5800 5800 5900 5900 5900 5900 5900 5900 5900 5900 5900 6000\n",
            " 6000 6000 6100 6100 6100 6100 6100 6100 6100 6200 6200 6300 6300 6300\n",
            " 6300 6300 6300 6400 6400 6400 6400 6400 6400 6400 6400 6500 6500 6600\n",
            " 6600 6600 6600 6600 6700 6700 6700 6700 6700 6700 6800 6800 6900 6900\n",
            " 6900 6900 6900 6900 6900 6900]\n"
          ]
        }
      ]
    },
    {
      "cell_type": "markdown",
      "metadata": {
        "id": "uiRv77HeKXAc"
      },
      "source": [
        "Con numpy también es muy sencillo obtener la frecúencia con `unique`\n",
        "```python\n",
        "np.unique(<arreglo>, return_counts=True)\n",
        "```\n"
      ]
    },
    {
      "cell_type": "code",
      "metadata": {
        "id": "JqKGqjNBJ_2W",
        "colab": {
          "base_uri": "https://localhost:8080/"
        },
        "outputId": "0b33f506-beeb-4f4f-9b21-785d70ee080c"
      },
      "source": [
        "datos, conteo = np.unique(ingresos, return_counts=True)\n",
        "for i in range(len(datos)):\n",
        "  print(datos[i],\"\\t\",conteo[i])"
      ],
      "execution_count": null,
      "outputs": [
        {
          "output_type": "stream",
          "name": "stdout",
          "text": [
            "1500 \t 4\n",
            "1600 \t 5\n",
            "1700 \t 2\n",
            "1800 \t 5\n",
            "1900 \t 7\n",
            "2000 \t 7\n",
            "2100 \t 4\n",
            "2200 \t 9\n",
            "2300 \t 9\n",
            "2400 \t 6\n",
            "2500 \t 9\n",
            "2600 \t 6\n",
            "2700 \t 3\n",
            "2800 \t 2\n",
            "2900 \t 6\n",
            "3000 \t 6\n",
            "3100 \t 8\n",
            "3200 \t 2\n",
            "3300 \t 9\n",
            "3400 \t 2\n",
            "3500 \t 3\n",
            "3600 \t 7\n",
            "3700 \t 2\n",
            "3800 \t 8\n",
            "3900 \t 5\n",
            "4000 \t 4\n",
            "4100 \t 7\n",
            "4200 \t 3\n",
            "4300 \t 3\n",
            "4400 \t 9\n",
            "4500 \t 8\n",
            "4600 \t 5\n",
            "4700 \t 5\n",
            "4800 \t 6\n",
            "4900 \t 9\n",
            "5000 \t 1\n",
            "5100 \t 3\n",
            "5200 \t 6\n",
            "5300 \t 6\n",
            "5400 \t 8\n",
            "5500 \t 4\n",
            "5600 \t 7\n",
            "5700 \t 7\n",
            "5800 \t 5\n",
            "5900 \t 9\n",
            "6000 \t 3\n",
            "6100 \t 7\n",
            "6200 \t 2\n",
            "6300 \t 6\n",
            "6400 \t 8\n",
            "6500 \t 2\n",
            "6600 \t 5\n",
            "6700 \t 6\n",
            "6800 \t 2\n",
            "6900 \t 8\n"
          ]
        }
      ]
    },
    {
      "cell_type": "markdown",
      "metadata": {
        "id": "QGyR2C_W8i6G"
      },
      "source": [
        "Se puede obtener medidas de tendencia central como la media utilizando\n",
        "\n",
        "\n",
        "```python\n",
        "np.mean(<arreglo>)\n",
        "```\n",
        "\n"
      ]
    },
    {
      "cell_type": "code",
      "metadata": {
        "colab": {
          "base_uri": "https://localhost:8080/"
        },
        "id": "UrvIqv4T8gt4",
        "outputId": "56f39af0-cb61-4f3a-e6d8-369197ce4776"
      },
      "source": [
        "media=np.mean(ingresos)\n",
        "print(media)"
      ],
      "execution_count": null,
      "outputs": [
        {
          "output_type": "stream",
          "name": "stdout",
          "text": [
            "4189.666666666667\n"
          ]
        }
      ]
    },
    {
      "cell_type": "markdown",
      "metadata": {
        "id": "L-Cc9gte-MDk"
      },
      "source": [
        "Otra medida de tendencia central que puede ser obtenida facilmente es la mediana con\n",
        "```\n",
        "np.median(<arreglo>)\n",
        "```\n",
        "\n"
      ]
    },
    {
      "cell_type": "code",
      "metadata": {
        "colab": {
          "base_uri": "https://localhost:8080/"
        },
        "id": "aAb0717n-TBw",
        "outputId": "d78bbb5b-2923-43cb-c0dc-7e345c4f2ca2"
      },
      "source": [
        "print(np.median(ingresos))"
      ],
      "execution_count": null,
      "outputs": [
        {
          "output_type": "stream",
          "name": "stdout",
          "text": [
            "4250.0\n"
          ]
        }
      ]
    },
    {
      "cell_type": "markdown",
      "metadata": {
        "id": "9GhNjJ6KKLul"
      },
      "source": [
        "Moda"
      ]
    },
    {
      "cell_type": "code",
      "metadata": {
        "colab": {
          "base_uri": "https://localhost:8080/"
        },
        "id": "HtXYxl8YJhMg",
        "outputId": "988424ce-7549-48ea-92bb-f7b6c6c426b8"
      },
      "source": [
        "ingreso, conteo=np.unique(ingresos, return_counts=True)\n",
        "frecuencia=np.max(conteo)\n",
        "moda=ingreso[conteo==frecuencia]\n",
        "print(moda,frecuencia)"
      ],
      "execution_count": null,
      "outputs": [
        {
          "output_type": "stream",
          "name": "stdout",
          "text": [
            "[2200 2300 2500 3300 4400 4900 5900] 9\n"
          ]
        }
      ]
    },
    {
      "cell_type": "markdown",
      "metadata": {
        "id": "_0n1eMMUxxkN"
      },
      "source": [
        "#Matplotlib\n",
        "\n",
        "Matplotlib es una librería que permite graficar información, ya sea estadística o una gráfica de funciones en dos y tres dimensiones"
      ]
    },
    {
      "cell_type": "code",
      "metadata": {
        "id": "Fbks22bh-qtD"
      },
      "source": [
        "import matplotlib.pyplot as plt"
      ],
      "execution_count": null,
      "outputs": []
    },
    {
      "cell_type": "markdown",
      "metadata": {
        "id": "Ixt549ni9Ddh"
      },
      "source": [
        "###Grafico de dispersion\n",
        "\n",
        "Es un tipo de gáfica en la cual se colocan puntos en aquellos datos conocidos"
      ]
    },
    {
      "cell_type": "code",
      "metadata": {
        "id": "NQ2tntSjx5-u",
        "colab": {
          "base_uri": "https://localhost:8080/",
          "height": 312
        },
        "outputId": "646c5858-c675-4057-a7f9-4f4f331451c7"
      },
      "source": [
        "pesos=np.array([np.random.randint(60,80) for _ in range(100)])\n",
        "alturas=np.array([np.random.randint(160,180)/100 for _ in range(100)])\n",
        "\n",
        "plt.title(\"Pesos y alturas\")\n",
        "plt.xlabel(\"Peso\")\n",
        "plt.ylabel(\"altura\")\n",
        "plt.grid()\n",
        "plt.scatter(pesos,alturas)"
      ],
      "execution_count": null,
      "outputs": [
        {
          "output_type": "execute_result",
          "data": {
            "text/plain": [
              "<matplotlib.collections.PathCollection at 0x7f2c14758390>"
            ]
          },
          "metadata": {},
          "execution_count": 36
        },
        {
          "output_type": "display_data",
          "data": {
            "text/plain": [
              "<Figure size 432x288 with 1 Axes>"
            ],
            "image/png": "[encoded data removed]"
          },
          "metadata": {
            "needs_background": "light"
          }
        }
      ]
    },
    {
      "cell_type": "code",
      "metadata": {
        "id": "ES6w2rsX_cpb",
        "colab": {
          "base_uri": "https://localhost:8080/",
          "height": 475
        },
        "outputId": "8cdf8026-1d76-46d6-e1e3-1e67f6294626"
      },
      "source": [
        "sexos=[ np.random.choice([\"salmon\",\"lightblue\"]) for _ in range(100)]\n",
        "\n",
        "\n",
        "plt.figure(figsize=(7,7))\n",
        "plt.title(\"Pesos y alturas\")\n",
        "plt.xlabel(\"Peso\")\n",
        "plt.ylabel(\"altura\")\n",
        "plt.grid()\n",
        "\n",
        "\n",
        "plt.scatter(pesos,alturas, color=sexos)"
      ],
      "execution_count": null,
      "outputs": [
        {
          "output_type": "execute_result",
          "data": {
            "text/plain": [
              "<matplotlib.collections.PathCollection at 0x7f2c14289a50>"
            ]
          },
          "metadata": {},
          "execution_count": 37
        },
        {
          "output_type": "display_data",
          "data": {
            "text/plain": [
              "<Figure size 504x504 with 1 Axes>"
            ],
            "image/png": "[encoded data removed]"
          },
          "metadata": {
            "needs_background": "light"
          }
        }
      ]
    },
    {
      "cell_type": "markdown",
      "metadata": {
        "id": "wv0vTUfB1g3f"
      },
      "source": [
        "###Graficas de funciones"
      ]
    },
    {
      "cell_type": "code",
      "metadata": {
        "colab": {
          "base_uri": "https://localhost:8080/",
          "height": 265
        },
        "id": "LliICjCw1khV",
        "outputId": "7e586635-6321-4e97-ab59-1863764440ae"
      },
      "source": [
        "f=lambda x: x**2+4*np.sin(x)\n",
        "\n",
        "x=np.linspace(-10,10,100)\n",
        "plt.plot(x,f(x))\n",
        "plt.grid()\n",
        "plt.show()"
      ],
      "execution_count": null,
      "outputs": [
        {
          "output_type": "display_data",
          "data": {
            "text/plain": [
              "<Figure size 432x288 with 1 Axes>"
            ],
            "image/png": "[encoded data removed]"
          },
          "metadata": {
            "needs_background": "light"
          }
        }
      ]
    },
    {
      "cell_type": "markdown",
      "metadata": {
        "id": "5NZQdl_N1zYU"
      },
      "source": [
        "###Graficas de barras"
      ]
    },
    {
      "cell_type": "code",
      "metadata": {
        "colab": {
          "base_uri": "https://localhost:8080/",
          "height": 281
        },
        "id": "7cRDCnGa11TU",
        "outputId": "1dfed395-38bc-4f47-cb29-549b5536a41d"
      },
      "source": [
        "ingresos=np.array([np.random.randint(1,7)*1000 for _ in range(300)])\n",
        "\n",
        "datos, conteo=np.unique(ingresos, return_counts=True)\n",
        "\n",
        "plt.title(\"Ingresos\")\n",
        "plt.bar([str(i) for i in datos],conteo)\n",
        "plt.grid()"
      ],
      "execution_count": null,
      "outputs": [
        {
          "output_type": "display_data",
          "data": {
            "text/plain": [
              "<Figure size 432x288 with 1 Axes>"
            ],
            "image/png": "[encoded data removed]"
          },
          "metadata": {
            "needs_background": "light"
          }
        }
      ]
    },
    {
      "cell_type": "code",
      "metadata": {
        "colab": {
          "base_uri": "https://localhost:8080/",
          "height": 264
        },
        "id": "ArVs6Tqm3Op1",
        "outputId": "58042b1f-b58f-4919-f846-9204baef5a0f"
      },
      "source": [
        "ingresos=np.array([np.random.randint(1,7)*1000 for _ in range(300)])\n",
        "\n",
        "datos, conteo=np.unique(ingresos, return_counts=True)\n",
        "\n",
        "plt.title(\"Ingresos\")\n",
        "plt.pie(conteo, labels=[str(i) for i in datos],autopct='%1.1f%%')\n",
        "plt.grid()"
      ],
      "execution_count": null,
      "outputs": [
        {
          "output_type": "display_data",
          "data": {
            "text/plain": [
              "<Figure size 432x288 with 1 Axes>"
            ],
            "image/png": "[encoded data removed]"
          },
          "metadata": {}
        }
      ]
    },
    {
      "cell_type": "markdown",
      "metadata": {
        "id": "-DfPRR9mx3I-"
      },
      "source": [
        "#Pandas"
      ]
    },
    {
      "cell_type": "code",
      "metadata": {
        "id": "EZ8MqU-4_H4B"
      },
      "source": [
        "import pandas as pd"
      ],
      "execution_count": null,
      "outputs": []
    },
    {
      "cell_type": "code",
      "metadata": {
        "id": "kTSZ6ifu5iJ8"
      },
      "source": [
        "d=open(\"Datos.csv\",\"w\")\n",
        "d.write(\"Altura,Peso\\n\")\n",
        "for i in range(40):\n",
        "  d.write(str(np.random.randint(160,180)/100)+\",\"+str(np.random.randint(70,80))+\"\\n\")\n",
        "d.close()"
      ],
      "execution_count": null,
      "outputs": []
    },
    {
      "cell_type": "markdown",
      "metadata": {
        "id": "e0_cFRIw_IWy"
      },
      "source": [
        "###Obtencion de datos de un csv"
      ]
    },
    {
      "cell_type": "code",
      "metadata": {
        "id": "xDdLeHFwx6R6"
      },
      "source": [
        "dat=pd.read_csv(\"Datos.csv\",sep=',')\n",
        "dat.head(-1)"
      ],
      "execution_count": null,
      "outputs": []
    },
    {
      "cell_type": "code",
      "metadata": {
        "id": "wMHHbfUZ7bfM"
      },
      "source": [
        "dat[\"Altura\"]"
      ],
      "execution_count": null,
      "outputs": []
    },
    {
      "cell_type": "code",
      "metadata": {
        "id": "lg5TF6C78rel",
        "colab": {
          "base_uri": "https://localhost:8080/",
          "height": 336
        },
        "outputId": "41e22447-7937-415d-cd34-66ee622d8f06"
      },
      "source": [
        "datos, conteo=np.unique(dat[\"Altura\"], return_counts=True)\n",
        "\n",
        "plt.figure(figsize=(12,5))\n",
        "plt.title(\"Altura\")\n",
        "\n",
        "plt.bar([str(i) for i in datos],conteo)\n",
        "\n",
        "plt.grid()"
      ],
      "execution_count": null,
      "outputs": [
        {
          "output_type": "display_data",
          "data": {
            "text/plain": [
              "<Figure size 864x360 with 1 Axes>"
            ],
            "image/png": "[encoded data removed]"
          },
          "metadata": {
            "needs_background": "light"
          }
        }
      ]
    },
    {
      "cell_type": "markdown",
      "metadata": {
        "id": "Tj8dbo2Q_MhQ"
      },
      "source": [
        "###Creacion de dataframes"
      ]
    },
    {
      "cell_type": "code",
      "metadata": {
        "id": "kdnqzB9R_WQ5"
      },
      "source": [
        "ingresos=[np.random.randint(15,70)*100 for _ in range(50)]\n",
        "integrantes=[np.random.randint(1,5) for _ in range(50)]\n",
        "\n",
        "df=pd.DataFrame()\n",
        "df.head()\n",
        "df[\"Ingresos\"]=ingresos\n",
        "df[\"Integrantes\"]=integrantes\n",
        "\n",
        "df.head(-1)"
      ],
      "execution_count": null,
      "outputs": []
    },
    {
      "cell_type": "code",
      "metadata": {
        "id": "hNMtnf3bAKTW"
      },
      "source": [
        "df.sort_values(\"Ingresos\")"
      ],
      "execution_count": null,
      "outputs": []
    },
    {
      "cell_type": "markdown",
      "source": [
        "Mezcla de dataframes"
      ],
      "metadata": {
        "id": "ixI3GHn9ErLK"
      }
    },
    {
      "cell_type": "code",
      "source": [
        "EPI=pd.read_csv(\"./datos_de_EPI.csv\",\";\",header=None,names=[\"Pais\", \"EPI\",\"EPI desv\"]).dropna()\n",
        "ILE=pd.read_csv(\"./datos_de_ILE.csv\",\";\",header=None,names=[\"Pais\", \"ILE\",\"ILE desv\"]).dropna().reset_index()"
      ],
      "metadata": {
        "id": "SO5l_-1REtwA"
      },
      "execution_count": null,
      "outputs": []
    },
    {
      "cell_type": "code",
      "source": [
        "df=pd.merge(EPI,ILE, on=\"Pais\")"
      ],
      "metadata": {
        "id": "kgiEr1lMFIgZ"
      },
      "execution_count": null,
      "outputs": []
    },
    {
      "cell_type": "code",
      "source": [
        "df.head()"
      ],
      "metadata": {
        "id": "FAxfTZu_FtcS"
      },
      "execution_count": null,
      "outputs": []
    },
    {
      "cell_type": "code",
      "source": [
        "plt.xlabel(\"ILE\")\n",
        "plt.ylabel(\"EPI\")\n",
        "plt.scatter(df[\"ILE\"], df[\"EPI\"])"
      ],
      "metadata": {
        "colab": {
          "base_uri": "https://localhost:8080/",
          "height": 296
        },
        "id": "QIGpRMvc5_p-",
        "outputId": "5db756e4-b429-4279-e238-66ed529dec2a"
      },
      "execution_count": null,
      "outputs": [
        {
          "output_type": "execute_result",
          "data": {
            "text/plain": [
              "<matplotlib.collections.PathCollection at 0x7f2c08fa3550>"
            ]
          },
          "metadata": {},
          "execution_count": 65
        },
        {
          "output_type": "display_data",
          "data": {
            "text/plain": [
              "<Figure size 432x288 with 1 Axes>"
            ],
            "image/png": "[encoded data removed]"
          },
          "metadata": {
            "needs_background": "light"
          }
        }
      ]
    },
    {
      "cell_type": "code",
      "source": [
        "df[df[\"EPI\"]<40]"
      ],
      "metadata": {
        "id": "Yhr3SPHu6kF6"
      },
      "execution_count": null,
      "outputs": []
    },
    {
      "cell_type": "code",
      "source": [
        "df.to_csv('Indicadores.csv', index=False)"
      ],
      "metadata": {
        "id": "VU3Y9aVtF0-H"
      },
      "execution_count": null,
      "outputs": []
    },
    {
      "cell_type": "markdown",
      "source": [
        "Datos--experimento"
      ],
      "metadata": {
        "id": "UsIcofhc9-Ab"
      }
    },
    {
      "cell_type": "code",
      "source": [
        "d1=pd.read_csv(\"Datos.csv\", sep=\";\", encoding= 'unicode_escape',names=[\"Mt\", \"Correo\",\"Nombre\",\"Codigo\",\"Edad\",\"Sexo\",\"Carrera\",\"Semestre\",\"color f\"])\n",
        "d2=pd.read_csv(\"Datos2.csv\", sep=\";\", encoding= 'unicode_escape',names=[\"Mt\", \"Correo\",\"Codigo\",\"Helado\",\"konami\",\"quacks\",\"Entendio\",\"Nokia\",\"Standing\",\"no se\"])"
      ],
      "metadata": {
        "id": "azTib_jQ-AGc"
      },
      "execution_count": null,
      "outputs": []
    },
    {
      "cell_type": "code",
      "source": [
        "d2.head()"
      ],
      "metadata": {
        "id": "4p5_v0oIEDk_"
      },
      "execution_count": null,
      "outputs": []
    },
    {
      "cell_type": "code",
      "source": [
        "df=pd.merge(d1,d2,on=\"Codigo\")"
      ],
      "metadata": {
        "id": "aRW-tqZkA6Hd"
      },
      "execution_count": null,
      "outputs": []
    },
    {
      "cell_type": "code",
      "source": [
        "df.head(-1)"
      ],
      "metadata": {
        "colab": {
          "base_uri": "https://localhost:8080/",
          "height": 1000
        },
        "id": "UurKbxFmBKrT",
        "outputId": "3f4f698b-162a-437d-8e28-4c9cdf5fa0ed"
      },
      "execution_count": null,
      "outputs": [
        {
          "output_type": "execute_result",
          "data": {
            "text/plain": [
              "                  Mt_x                                Correo_x  \\\n",
              "0   5/31/2022 11:24:47   jjcastanedaa@correo.udistrital.edu.co   \n",
              "1   5/31/2022 11:24:48    jdsanabriaa@correo.udistrital.edu.co   \n",
              "2   5/31/2022 11:24:57      fvasquezc@correo.udistrital.edu.co   \n",
              "3   5/31/2022 11:25:02      ssduarter@correo.udistrital.edu.co   \n",
              "4   5/31/2022 11:25:03   julangarciag@correo.udistrital.edu.co   \n",
              "5   5/31/2022 11:25:09      jdacostam@correo.udistrital.edu.co   \n",
              "6   5/31/2022 11:25:10       idlopezd@correo.udistrital.edu.co   \n",
              "7   5/31/2022 11:25:27   cvillamizarb@correo.udistrital.edu.co   \n",
              "8   5/31/2022 11:25:29     judaperezc@correo.udistrital.edu.co   \n",
              "9   5/31/2022 11:25:38        donateh@correo.udistrital.edu.co   \n",
              "10  5/31/2022 11:25:58     saagarzonm@correo.udistrital.edu.co   \n",
              "11  5/31/2022 11:26:00    ldcubillose@correo.udistrital.edu.co   \n",
              "12  5/31/2022 11:26:00      smoralest@correo.udistrital.edu.co   \n",
              "13  5/31/2022 11:26:09       dclevesg@correo.udistrital.edu.co   \n",
              "14  5/31/2022 11:26:12  lumhernandezh@correo.udistrital.edu.co   \n",
              "15  5/31/2022 11:26:23      kaforerog@correo.udistrital.edu.co   \n",
              "\n",
              "                            Nombre       Codigo  Edad    Sexo  \\\n",
              "0   Jhon Javier Casta¤eda Alvarado  20211020100    18  Hombre   \n",
              "1                       Jose David  20171020044    21  Hombre   \n",
              "2          Fabian Vasquez Chaparoo  20211020014    18  Hombre   \n",
              "3                    Sergio Duarte  20211020013    19  Hombre   \n",
              "4    Julian Andres Garcia Guerrero  20171020011    23  Hombre   \n",
              "5         Juan Diego Acosta Molina  20211020044    18  Hombre   \n",
              "6            IVAN DARIO LOPEZ DIAZ  20182020141    22  Hombre   \n",
              "7    Cristian Villamizar Bohorquez  20201020078    19  Hombre   \n",
              "8      Juli n David Prez Chaparro  20192020017    21  Hombre   \n",
              "9           Daniel O¤ate Hernandez  20191020016    20  Hombre   \n",
              "10    Santiago Andrs Garzn Monroy  20192020103    20  Hombre   \n",
              "11  Laura Daniela Cubillos Escobar  20211020045    18   Mujer   \n",
              "12               Sebastian Morales  20182020039    21  Hombre   \n",
              "13             David Cleves Guzm n  20192020040    20  Hombre   \n",
              "14           Luis Miguel Hern ndez  20211020047    18  Hombre   \n",
              "15    Kevin Andrs Forero Guaitero  20181020120    21  Hombre   \n",
              "\n",
              "                   Carrera Semestre  color f                Mt_y  \\\n",
              "0    Ingeniera de Sistemas        3     azul  5/31/2022 11:25:43   \n",
              "1          Ing de sistemas      7mo     rojo  5/31/2022 11:29:06   \n",
              "2          ing de sistemas        3     azul  5/31/2022 11:26:40   \n",
              "3    Ingeniera de sistemas        3     Rojo  5/31/2022 11:26:26   \n",
              "4   Ingenieria de Sistemas       11     Rojo  5/31/2022 11:26:19   \n",
              "5    Ingeniera de sistemas        3     Rojo  5/31/2022 11:27:24   \n",
              "6   INGENIERIA DE SISTEMAS        6     ROJO  5/31/2022 11:26:16   \n",
              "7             Ing Sistemas        5  naranja  5/31/2022 11:26:27   \n",
              "8    Ingeniera de Sistemas        6     Rojo  5/31/2022 11:28:23   \n",
              "9            Ing. Sistemas        6    verde  5/31/2022 11:27:29   \n",
              "10   Ingeniera de sistemas        6     Gris  5/31/2022 11:26:02   \n",
              "11  Ingenieria de sistemas        3     Lila  5/31/2022 11:28:09   \n",
              "12   Ingeniera de sistemas        8     Rojo  5/31/2022 11:27:06   \n",
              "13  Ingenieria de Sistemas        6     Azul  5/31/2022 11:26:55   \n",
              "14   Ingeniera de sistemas        3    negro  5/31/2022 11:28:54   \n",
              "15   Ingeniera de Sistemas        5  Purpura  5/31/2022 11:27:48   \n",
              "\n",
              "                                  Correo_y  \\\n",
              "0    jjcastanedaa@correo.udistrital.edu.co   \n",
              "1     jdsanabriaa@correo.udistrital.edu.co   \n",
              "2       fvasquezc@correo.udistrital.edu.co   \n",
              "3       ssduarter@correo.udistrital.edu.co   \n",
              "4    julangarciag@correo.udistrital.edu.co   \n",
              "5       jdacostam@correo.udistrital.edu.co   \n",
              "6        idlopezd@correo.udistrital.edu.co   \n",
              "7    cvillamizarb@correo.udistrital.edu.co   \n",
              "8      judaperezc@correo.udistrital.edu.co   \n",
              "9         donateh@correo.udistrital.edu.co   \n",
              "10     saagarzonm@correo.udistrital.edu.co   \n",
              "11    ldcubillose@correo.udistrital.edu.co   \n",
              "12      smoralest@correo.udistrital.edu.co   \n",
              "13       dclevesg@correo.udistrital.edu.co   \n",
              "14  lumhernandezh@correo.udistrital.edu.co   \n",
              "15      kaforerog@correo.udistrital.edu.co   \n",
              "\n",
              "                                               Helado    konami  quacks  \\\n",
              "0                                                  Si  BA START      96   \n",
              "1                                                  Si        No      55   \n",
              "2                                                  Si  BA START      96   \n",
              "3   No confo en cosas con una temperatura por deba...  BA START      96   \n",
              "4                                                  Si         S      96   \n",
              "5   No confo en cosas con una temperatura por deba...         S     100   \n",
              "6                                                  Si         S      96   \n",
              "7                                                  Si         S     100   \n",
              "8                                                  Si        No      79   \n",
              "9                                             A veces         S      79   \n",
              "10                                                 Si         S      96   \n",
              "11                                                 Si        No      96   \n",
              "12                                                 Si         S      79   \n",
              "13                                                 Si  BA START      55   \n",
              "14                                                 Si  BA START      96   \n",
              "15                                                 Si         S      55   \n",
              "\n",
              "         Entendio                                         Nokia  \\\n",
              "0               S  Se crea una singularidad, consumindolo todo   \n",
              "1   Negacin de No  Se crea una singularidad, consumindolo todo   \n",
              "2               S  Se modifica la geografia del lugar donde cay   \n",
              "3   Negacin de No  Se modifica la geografia del lugar donde cay   \n",
              "4   Negacin de No  Se modifica la geografia del lugar donde cay   \n",
              "5   Negacin de No  Se crea una singularidad, consumindolo todo   \n",
              "6               S  Se modifica la geografia del lugar donde cay   \n",
              "7   Negacin de No                                          Nada   \n",
              "8               S                              Se da¤a el nokia   \n",
              "9               S  Se modifica la geografia del lugar donde cay   \n",
              "10  Negacin de No  Se modifica la geografia del lugar donde cay   \n",
              "11  Negacin de No  Se crea una singularidad, consumindolo todo   \n",
              "12              S  Se crea una singularidad, consumindolo todo   \n",
              "13  Negacin de No  Se crea una singularidad, consumindolo todo   \n",
              "14  Negacin de No  Se crea una singularidad, consumindolo todo   \n",
              "15  Negacin de No  Se modifica la geografia del lugar donde cay   \n",
              "\n",
              "                   Standing  no se  \n",
              "0      the right from wrong      3  \n",
              "1      the right from wrong      4  \n",
              "2      the right from wrong      2  \n",
              "3   I realize, you are just      3  \n",
              "4      the right from wrong      4  \n",
              "5   I realize, you are just      3  \n",
              "6   I realize, you are just      3  \n",
              "7      the right from wrong      1  \n",
              "8      the right from wrong      2  \n",
              "9   I realize, you are just      4  \n",
              "10  I realize, you are just      3  \n",
              "11  I realize, you are just      2  \n",
              "12   like me trying to make      1  \n",
              "13  I realize, you are just      4  \n",
              "14  I realize, you are just      3  \n",
              "15     the right from wrong      4  "
            ],
            "text/html": [
              "\n",
              "  <div id=\"df-2ed94b96-62c3-4df0-ae56-db1e9fbf06e0\">\n",
              "    <div class=\"colab-df-container\">\n",
              "      <div>\n",
              "<style scoped>\n",
              "    .dataframe tbody tr th:only-of-type {\n",
              "        vertical-align: middle;\n",
              "    }\n",
              "\n",
              "    .dataframe tbody tr th {\n",
              "        vertical-align: top;\n",
              "    }\n",
              "\n",
              "    .dataframe thead th {\n",
              "        text-align: right;\n",
              "    }\n",
              "</style>\n",
              "<table border=\"1\" class=\"dataframe\">\n",
              "  <thead>\n",
              "    <tr style=\"text-align: right;\">\n",
              "      <th></th>\n",
              "      <th>Mt_x</th>\n",
              "      <th>Correo_x</th>\n",
              "      <th>Nombre</th>\n",
              "      <th>Codigo</th>\n",
              "      <th>Edad</th>\n",
              "      <th>Sexo</th>\n",
              "      <th>Carrera</th>\n",
              "      <th>Semestre</th>\n",
              "      <th>color f</th>\n",
              "      <th>Mt_y</th>\n",
              "      <th>Correo_y</th>\n",
              "      <th>Helado</th>\n",
              "      <th>konami</th>\n",
              "      <th>quacks</th>\n",
              "      <th>Entendio</th>\n",
              "      <th>Nokia</th>\n",
              "      <th>Standing</th>\n",
              "      <th>no se</th>\n",
              "    </tr>\n",
              "  </thead>\n",
              "  <tbody>\n",
              "    <tr>\n",
              "      <th>0</th>\n",
              "      <td>5/31/2022 11:24:47</td>\n",
              "      <td>jjcastanedaa@correo.udistrital.edu.co</td>\n",
              "      <td>Jhon Javier Casta¤eda Alvarado</td>\n",
              "      <td>20211020100</td>\n",
              "      <td>18</td>\n",
              "      <td>Hombre</td>\n",
              "      <td>Ingeniera de Sistemas</td>\n",
              "      <td>3</td>\n",
              "      <td>azul</td>\n",
              "      <td>5/31/2022 11:25:43</td>\n",
              "      <td>jjcastanedaa@correo.udistrital.edu.co</td>\n",
              "      <td>Si</td>\n",
              "      <td>BA START</td>\n",
              "      <td>96</td>\n",
              "      <td>S</td>\n",
              "      <td>Se crea una singularidad, consumindolo todo</td>\n",
              "      <td>the right from wrong</td>\n",
              "      <td>3</td>\n",
              "    </tr>\n",
              "    <tr>\n",
              "      <th>1</th>\n",
              "      <td>5/31/2022 11:24:48</td>\n",
              "      <td>jdsanabriaa@correo.udistrital.edu.co</td>\n",
              "      <td>Jose David</td>\n",
              "      <td>20171020044</td>\n",
              "      <td>21</td>\n",
              "      <td>Hombre</td>\n",
              "      <td>Ing de sistemas</td>\n",
              "      <td>7mo</td>\n",
              "      <td>rojo</td>\n",
              "      <td>5/31/2022 11:29:06</td>\n",
              "      <td>jdsanabriaa@correo.udistrital.edu.co</td>\n",
              "      <td>Si</td>\n",
              "      <td>No</td>\n",
              "      <td>55</td>\n",
              "      <td>Negacin de No</td>\n",
              "      <td>Se crea una singularidad, consumindolo todo</td>\n",
              "      <td>the right from wrong</td>\n",
              "      <td>4</td>\n",
              "    </tr>\n",
              "    <tr>\n",
              "      <th>2</th>\n",
              "      <td>5/31/2022 11:24:57</td>\n",
              "      <td>fvasquezc@correo.udistrital.edu.co</td>\n",
              "      <td>Fabian Vasquez Chaparoo</td>\n",
              "      <td>20211020014</td>\n",
              "      <td>18</td>\n",
              "      <td>Hombre</td>\n",
              "      <td>ing de sistemas</td>\n",
              "      <td>3</td>\n",
              "      <td>azul</td>\n",
              "      <td>5/31/2022 11:26:40</td>\n",
              "      <td>fvasquezc@correo.udistrital.edu.co</td>\n",
              "      <td>Si</td>\n",
              "      <td>BA START</td>\n",
              "      <td>96</td>\n",
              "      <td>S</td>\n",
              "      <td>Se modifica la geografia del lugar donde cay</td>\n",
              "      <td>the right from wrong</td>\n",
              "      <td>2</td>\n",
              "    </tr>\n",
              "    <tr>\n",
              "      <th>3</th>\n",
              "      <td>5/31/2022 11:25:02</td>\n",
              "      <td>ssduarter@correo.udistrital.edu.co</td>\n",
              "      <td>Sergio Duarte</td>\n",
              "      <td>20211020013</td>\n",
              "      <td>19</td>\n",
              "      <td>Hombre</td>\n",
              "      <td>Ingeniera de sistemas</td>\n",
              "      <td>3</td>\n",
              "      <td>Rojo</td>\n",
              "      <td>5/31/2022 11:26:26</td>\n",
              "      <td>ssduarter@correo.udistrital.edu.co</td>\n",
              "      <td>No confo en cosas con una temperatura por deba...</td>\n",
              "      <td>BA START</td>\n",
              "      <td>96</td>\n",
              "      <td>Negacin de No</td>\n",
              "      <td>Se modifica la geografia del lugar donde cay</td>\n",
              "      <td>I realize, you are just</td>\n",
              "      <td>3</td>\n",
              "    </tr>\n",
              "    <tr>\n",
              "      <th>4</th>\n",
              "      <td>5/31/2022 11:25:03</td>\n",
              "      <td>julangarciag@correo.udistrital.edu.co</td>\n",
              "      <td>Julian Andres Garcia Guerrero</td>\n",
              "      <td>20171020011</td>\n",
              "      <td>23</td>\n",
              "      <td>Hombre</td>\n",
              "      <td>Ingenieria de Sistemas</td>\n",
              "      <td>11</td>\n",
              "      <td>Rojo</td>\n",
              "      <td>5/31/2022 11:26:19</td>\n",
              "      <td>julangarciag@correo.udistrital.edu.co</td>\n",
              "      <td>Si</td>\n",
              "      <td>S</td>\n",
              "      <td>96</td>\n",
              "      <td>Negacin de No</td>\n",
              "      <td>Se modifica la geografia del lugar donde cay</td>\n",
              "      <td>the right from wrong</td>\n",
              "      <td>4</td>\n",
              "    </tr>\n",
              "    <tr>\n",
              "      <th>5</th>\n",
              "      <td>5/31/2022 11:25:09</td>\n",
              "      <td>jdacostam@correo.udistrital.edu.co</td>\n",
              "      <td>Juan Diego Acosta Molina</td>\n",
              "      <td>20211020044</td>\n",
              "      <td>18</td>\n",
              "      <td>Hombre</td>\n",
              "      <td>Ingeniera de sistemas</td>\n",
              "      <td>3</td>\n",
              "      <td>Rojo</td>\n",
              "      <td>5/31/2022 11:27:24</td>\n",
              "      <td>jdacostam@correo.udistrital.edu.co</td>\n",
              "      <td>No confo en cosas con una temperatura por deba...</td>\n",
              "      <td>S</td>\n",
              "      <td>100</td>\n",
              "      <td>Negacin de No</td>\n",
              "      <td>Se crea una singularidad, consumindolo todo</td>\n",
              "      <td>I realize, you are just</td>\n",
              "      <td>3</td>\n",
              "    </tr>\n",
              "    <tr>\n",
              "      <th>6</th>\n",
              "      <td>5/31/2022 11:25:10</td>\n",
              "      <td>idlopezd@correo.udistrital.edu.co</td>\n",
              "      <td>IVAN DARIO LOPEZ DIAZ</td>\n",
              "      <td>20182020141</td>\n",
              "      <td>22</td>\n",
              "      <td>Hombre</td>\n",
              "      <td>INGENIERIA DE SISTEMAS</td>\n",
              "      <td>6</td>\n",
              "      <td>ROJO</td>\n",
              "      <td>5/31/2022 11:26:16</td>\n",
              "      <td>idlopezd@correo.udistrital.edu.co</td>\n",
              "      <td>Si</td>\n",
              "      <td>S</td>\n",
              "      <td>96</td>\n",
              "      <td>S</td>\n",
              "      <td>Se modifica la geografia del lugar donde cay</td>\n",
              "      <td>I realize, you are just</td>\n",
              "      <td>3</td>\n",
              "    </tr>\n",
              "    <tr>\n",
              "      <th>7</th>\n",
              "      <td>5/31/2022 11:25:27</td>\n",
              "      <td>cvillamizarb@correo.udistrital.edu.co</td>\n",
              "      <td>Cristian Villamizar Bohorquez</td>\n",
              "      <td>20201020078</td>\n",
              "      <td>19</td>\n",
              "      <td>Hombre</td>\n",
              "      <td>Ing Sistemas</td>\n",
              "      <td>5</td>\n",
              "      <td>naranja</td>\n",
              "      <td>5/31/2022 11:26:27</td>\n",
              "      <td>cvillamizarb@correo.udistrital.edu.co</td>\n",
              "      <td>Si</td>\n",
              "      <td>S</td>\n",
              "      <td>100</td>\n",
              "      <td>Negacin de No</td>\n",
              "      <td>Nada</td>\n",
              "      <td>the right from wrong</td>\n",
              "      <td>1</td>\n",
              "    </tr>\n",
              "    <tr>\n",
              "      <th>8</th>\n",
              "      <td>5/31/2022 11:25:29</td>\n",
              "      <td>judaperezc@correo.udistrital.edu.co</td>\n",
              "      <td>Juli n David Prez Chaparro</td>\n",
              "      <td>20192020017</td>\n",
              "      <td>21</td>\n",
              "      <td>Hombre</td>\n",
              "      <td>Ingeniera de Sistemas</td>\n",
              "      <td>6</td>\n",
              "      <td>Rojo</td>\n",
              "      <td>5/31/2022 11:28:23</td>\n",
              "      <td>judaperezc@correo.udistrital.edu.co</td>\n",
              "      <td>Si</td>\n",
              "      <td>No</td>\n",
              "      <td>79</td>\n",
              "      <td>S</td>\n",
              "      <td>Se da¤a el nokia</td>\n",
              "      <td>the right from wrong</td>\n",
              "      <td>2</td>\n",
              "    </tr>\n",
              "    <tr>\n",
              "      <th>9</th>\n",
              "      <td>5/31/2022 11:25:38</td>\n",
              "      <td>donateh@correo.udistrital.edu.co</td>\n",
              "      <td>Daniel O¤ate Hernandez</td>\n",
              "      <td>20191020016</td>\n",
              "      <td>20</td>\n",
              "      <td>Hombre</td>\n",
              "      <td>Ing. Sistemas</td>\n",
              "      <td>6</td>\n",
              "      <td>verde</td>\n",
              "      <td>5/31/2022 11:27:29</td>\n",
              "      <td>donateh@correo.udistrital.edu.co</td>\n",
              "      <td>A veces</td>\n",
              "      <td>S</td>\n",
              "      <td>79</td>\n",
              "      <td>S</td>\n",
              "      <td>Se modifica la geografia del lugar donde cay</td>\n",
              "      <td>I realize, you are just</td>\n",
              "      <td>4</td>\n",
              "    </tr>\n",
              "    <tr>\n",
              "      <th>10</th>\n",
              "      <td>5/31/2022 11:25:58</td>\n",
              "      <td>saagarzonm@correo.udistrital.edu.co</td>\n",
              "      <td>Santiago Andrs Garzn Monroy</td>\n",
              "      <td>20192020103</td>\n",
              "      <td>20</td>\n",
              "      <td>Hombre</td>\n",
              "      <td>Ingeniera de sistemas</td>\n",
              "      <td>6</td>\n",
              "      <td>Gris</td>\n",
              "      <td>5/31/2022 11:26:02</td>\n",
              "      <td>saagarzonm@correo.udistrital.edu.co</td>\n",
              "      <td>Si</td>\n",
              "      <td>S</td>\n",
              "      <td>96</td>\n",
              "      <td>Negacin de No</td>\n",
              "      <td>Se modifica la geografia del lugar donde cay</td>\n",
              "      <td>I realize, you are just</td>\n",
              "      <td>3</td>\n",
              "    </tr>\n",
              "    <tr>\n",
              "      <th>11</th>\n",
              "      <td>5/31/2022 11:26:00</td>\n",
              "      <td>ldcubillose@correo.udistrital.edu.co</td>\n",
              "      <td>Laura Daniela Cubillos Escobar</td>\n",
              "      <td>20211020045</td>\n",
              "      <td>18</td>\n",
              "      <td>Mujer</td>\n",
              "      <td>Ingenieria de sistemas</td>\n",
              "      <td>3</td>\n",
              "      <td>Lila</td>\n",
              "      <td>5/31/2022 11:28:09</td>\n",
              "      <td>ldcubillose@correo.udistrital.edu.co</td>\n",
              "      <td>Si</td>\n",
              "      <td>No</td>\n",
              "      <td>96</td>\n",
              "      <td>Negacin de No</td>\n",
              "      <td>Se crea una singularidad, consumindolo todo</td>\n",
              "      <td>I realize, you are just</td>\n",
              "      <td>2</td>\n",
              "    </tr>\n",
              "    <tr>\n",
              "      <th>12</th>\n",
              "      <td>5/31/2022 11:26:00</td>\n",
              "      <td>smoralest@correo.udistrital.edu.co</td>\n",
              "      <td>Sebastian Morales</td>\n",
              "      <td>20182020039</td>\n",
              "      <td>21</td>\n",
              "      <td>Hombre</td>\n",
              "      <td>Ingeniera de sistemas</td>\n",
              "      <td>8</td>\n",
              "      <td>Rojo</td>\n",
              "      <td>5/31/2022 11:27:06</td>\n",
              "      <td>smoralest@correo.udistrital.edu.co</td>\n",
              "      <td>Si</td>\n",
              "      <td>S</td>\n",
              "      <td>79</td>\n",
              "      <td>S</td>\n",
              "      <td>Se crea una singularidad, consumindolo todo</td>\n",
              "      <td>like me trying to make</td>\n",
              "      <td>1</td>\n",
              "    </tr>\n",
              "    <tr>\n",
              "      <th>13</th>\n",
              "      <td>5/31/2022 11:26:09</td>\n",
              "      <td>dclevesg@correo.udistrital.edu.co</td>\n",
              "      <td>David Cleves Guzm n</td>\n",
              "      <td>20192020040</td>\n",
              "      <td>20</td>\n",
              "      <td>Hombre</td>\n",
              "      <td>Ingenieria de Sistemas</td>\n",
              "      <td>6</td>\n",
              "      <td>Azul</td>\n",
              "      <td>5/31/2022 11:26:55</td>\n",
              "      <td>dclevesg@correo.udistrital.edu.co</td>\n",
              "      <td>Si</td>\n",
              "      <td>BA START</td>\n",
              "      <td>55</td>\n",
              "      <td>Negacin de No</td>\n",
              "      <td>Se crea una singularidad, consumindolo todo</td>\n",
              "      <td>I realize, you are just</td>\n",
              "      <td>4</td>\n",
              "    </tr>\n",
              "    <tr>\n",
              "      <th>14</th>\n",
              "      <td>5/31/2022 11:26:12</td>\n",
              "      <td>lumhernandezh@correo.udistrital.edu.co</td>\n",
              "      <td>Luis Miguel Hern ndez</td>\n",
              "      <td>20211020047</td>\n",
              "      <td>18</td>\n",
              "      <td>Hombre</td>\n",
              "      <td>Ingeniera de sistemas</td>\n",
              "      <td>3</td>\n",
              "      <td>negro</td>\n",
              "      <td>5/31/2022 11:28:54</td>\n",
              "      <td>lumhernandezh@correo.udistrital.edu.co</td>\n",
              "      <td>Si</td>\n",
              "      <td>BA START</td>\n",
              "      <td>96</td>\n",
              "      <td>Negacin de No</td>\n",
              "      <td>Se crea una singularidad, consumindolo todo</td>\n",
              "      <td>I realize, you are just</td>\n",
              "      <td>3</td>\n",
              "    </tr>\n",
              "    <tr>\n",
              "      <th>15</th>\n",
              "      <td>5/31/2022 11:26:23</td>\n",
              "      <td>kaforerog@correo.udistrital.edu.co</td>\n",
              "      <td>Kevin Andrs Forero Guaitero</td>\n",
              "      <td>20181020120</td>\n",
              "      <td>21</td>\n",
              "      <td>Hombre</td>\n",
              "      <td>Ingeniera de Sistemas</td>\n",
              "      <td>5</td>\n",
              "      <td>Purpura</td>\n",
              "      <td>5/31/2022 11:27:48</td>\n",
              "      <td>kaforerog@correo.udistrital.edu.co</td>\n",
              "      <td>Si</td>\n",
              "      <td>S</td>\n",
              "      <td>55</td>\n",
              "      <td>Negacin de No</td>\n",
              "      <td>Se modifica la geografia del lugar donde cay</td>\n",
              "      <td>the right from wrong</td>\n",
              "      <td>4</td>\n",
              "    </tr>\n",
              "  </tbody>\n",
              "</table>\n",
              "</div>\n",
              "      <button class=\"colab-df-convert\" onclick=\"convertToInteractive('df-2ed94b96-62c3-4df0-ae56-db1e9fbf06e0')\"\n",
              "              title=\"Convert this dataframe to an interactive table.\"\n",
              "              style=\"display:none;\">\n",
              "        \n",
              "  <svg xmlns=\"http://www.w3.org/2000/svg\" height=\"24px\"viewBox=\"0 0 24 24\"\n",
              "       width=\"24px\">\n",
              "    <path d=\"M0 0h24v24H0V0z\" fill=\"none\"/>\n",
              "    <path d=\"M18.56 5.44l.94 2.06.94-2.06 2.06-.94-2.06-.94-.94-2.06-.94 2.06-2.06.94zm-11 1L8.5 8.5l.94-2.06 2.06-.94-2.06-.94L8.5 2.5l-.94 2.06-2.06.94zm10 10l.94 2.06.94-2.06 2.06-.94-2.06-.94-.94-2.06-.94 2.06-2.06.94z\"/><path d=\"M17.41 7.96l-1.37-1.37c-.4-.4-.92-.59-1.43-.59-.52 0-1.04.2-1.43.59L10.3 9.45l-7.72 7.72c-.78.78-.78 2.05 0 2.83L4 21.41c.39.39.9.59 1.41.59.51 0 1.02-.2 1.41-.59l7.78-7.78 2.81-2.81c.8-.78.8-2.07 0-2.86zM5.41 20L4 18.59l7.72-7.72 1.47 1.35L5.41 20z\"/>\n",
              "  </svg>\n",
              "      </button>\n",
              "      \n",
              "  <style>\n",
              "    .colab-df-container {\n",
              "      display:flex;\n",
              "      flex-wrap:wrap;\n",
              "      gap: 12px;\n",
              "    }\n",
              "\n",
              "    .colab-df-convert {\n",
              "      background-color: #E8F0FE;\n",
              "      border: none;\n",
              "      border-radius: 50%;\n",
              "      cursor: pointer;\n",
              "      display: none;\n",
              "      fill: #1967D2;\n",
              "      height: 32px;\n",
              "      padding: 0 0 0 0;\n",
              "      width: 32px;\n",
              "    }\n",
              "\n",
              "    .colab-df-convert:hover {\n",
              "      background-color: #E2EBFA;\n",
              "      box-shadow: 0px 1px 2px rgba(60, 64, 67, 0.3), 0px 1px 3px 1px rgba(60, 64, 67, 0.15);\n",
              "      fill: #174EA6;\n",
              "    }\n",
              "\n",
              "    [theme=dark] .colab-df-convert {\n",
              "      background-color: #3B4455;\n",
              "      fill: #D2E3FC;\n",
              "    }\n",
              "\n",
              "    [theme=dark] .colab-df-convert:hover {\n",
              "      background-color: #434B5C;\n",
              "      box-shadow: 0px 1px 3px 1px rgba(0, 0, 0, 0.15);\n",
              "      filter: drop-shadow(0px 1px 2px rgba(0, 0, 0, 0.3));\n",
              "      fill: #FFFFFF;\n",
              "    }\n",
              "  </style>\n",
              "\n",
              "      <script>\n",
              "        const buttonEl =\n",
              "          document.querySelector('#df-2ed94b96-62c3-4df0-ae56-db1e9fbf06e0 button.colab-df-convert');\n",
              "        buttonEl.style.display =\n",
              "          google.colab.kernel.accessAllowed ? 'block' : 'none';\n",
              "\n",
              "        async function convertToInteractive(key) {\n",
              "          const element = document.querySelector('#df-2ed94b96-62c3-4df0-ae56-db1e9fbf06e0');\n",
              "          const dataTable =\n",
              "            await google.colab.kernel.invokeFunction('convertToInteractive',\n",
              "                                                     [key], {});\n",
              "          if (!dataTable) return;\n",
              "\n",
              "          const docLinkHtml = 'Like what you see? Visit the ' +\n",
              "            '<a target=\"_blank\" href=https://colab.research.google.com/notebooks/data_table.ipynb>data table notebook</a>'\n",
              "            + ' to learn more about interactive tables.';\n",
              "          element.innerHTML = '';\n",
              "          dataTable['output_type'] = 'display_data';\n",
              "          await google.colab.output.renderOutput(dataTable, element);\n",
              "          const docLink = document.createElement('div');\n",
              "          docLink.innerHTML = docLinkHtml;\n",
              "          element.appendChild(docLink);\n",
              "        }\n",
              "      </script>\n",
              "    </div>\n",
              "  </div>\n",
              "  "
            ]
          },
          "metadata": {},
          "execution_count": 10
        }
      ]
    },
    {
      "cell_type": "code",
      "source": [
        "df=df.drop(0)"
      ],
      "metadata": {
        "id": "JYxZ09stFBdD"
      },
      "execution_count": null,
      "outputs": []
    },
    {
      "cell_type": "code",
      "source": [
        "datos, conteo=np.unique(df[\"Standing\"], return_counts=True)\n",
        "\n",
        "plt.grid()\n",
        "plt.bar(datos,conteo)\n",
        "\n",
        "print(datos)"
      ],
      "metadata": {
        "id": "XnDfZCSuBR0l",
        "colab": {
          "base_uri": "https://localhost:8080/",
          "height": 282
        },
        "outputId": "f6008943-4132-4ef2-a588-10538acb7249"
      },
      "execution_count": null,
      "outputs": [
        {
          "output_type": "stream",
          "name": "stdout",
          "text": [
            "['I realize, you are just' 'like me trying to make' 'the right from wrong']\n"
          ]
        },
        {
          "output_type": "display_data",
          "data": {
            "text/plain": [
              "<Figure size 432x288 with 1 Axes>"
            ],
            "image/png": "[encoded data removed]"
          },
          "metadata": {
            "needs_background": "light"
          }
        }
      ]
    },
    {
      "cell_type": "code",
      "source": [
        "df.to_csv(\"Datos_encuesta.csv\", index=False)"
      ],
      "metadata": {
        "id": "QXCT2zfDHv_w"
      },
      "execution_count": null,
      "outputs": []
    },
    {
      "cell_type": "markdown",
      "source": [
        "#SciPy"
      ],
      "metadata": {
        "id": "-VGokQA5Wiwd"
      }
    },
    {
      "cell_type": "markdown",
      "source": [
        "Es una librería de uso científico y matematico."
      ],
      "metadata": {
        "id": "Roy15u9yZ4Ki"
      }
    },
    {
      "cell_type": "code",
      "source": [
        "import scipy as sp"
      ],
      "metadata": {
        "id": "arGdvX8iXGor"
      },
      "execution_count": null,
      "outputs": []
    },
    {
      "cell_type": "markdown",
      "source": [
        "###Conversiones"
      ],
      "metadata": {
        "id": "U83FmVla3_ee"
      }
    },
    {
      "cell_type": "markdown",
      "source": [
        "Scipy tiene multiples constantes que permiten realizar conversiones con velocidad. (Todas las constantes [click](https://docs.scipy.org/doc/scipy/reference/constants.html#module-scipy.constants))\n",
        "\n",
        "por ejemplo calcular la fuerza de un objeto con una masa de 34 libras y aceleracion de 14 pies/s^2."
      ],
      "metadata": {
        "id": "5PD-e8XP2ur0"
      }
    },
    {
      "cell_type": "code",
      "source": [
        "from scipy import constants as spc\n",
        "F=34*spc.pound*14*spc.foot\n",
        "print(F)"
      ],
      "metadata": {
        "colab": {
          "base_uri": "https://localhost:8080/"
        },
        "id": "E8WIMZSW2uct",
        "outputId": "b11023ec-8645-4776-bef9-537496a6f00c"
      },
      "execution_count": null,
      "outputs": [
        {
          "output_type": "stream",
          "name": "stdout",
          "text": [
            "65.80935828297598\n"
          ]
        }
      ]
    },
    {
      "cell_type": "markdown",
      "source": [
        "###Ajustar curva"
      ],
      "metadata": {
        "id": "6Pm9TFbC4BXd"
      }
    },
    {
      "cell_type": "markdown",
      "source": [
        "Muchas veces uno busca ajustar una curva a un conjunto de datos, para eso scipy tiene el módulo `optimize` el cual trae varios métodos de optimización, entre ellos el `sp.curve_fit()`"
      ],
      "metadata": {
        "id": "0ofoXbcJo1HS"
      }
    },
    {
      "cell_type": "code",
      "source": [
        "from scipy import optimize\n",
        "import matplotlib.pyplot as plt\n",
        "\n",
        "x=np.linspace(-10,10,21)\n",
        "\n",
        "f=lambda x: pow(x,3)-6*pow(x,2)+2*x\n",
        "\n",
        "f1=lambda x,a,b,c: a*pow(x,3)+b*pow(x,2)+c*x\n",
        "\n",
        "y=f(x+1)+np.random.rand(len(x))*500\n",
        "\n",
        "coef=optimize.curve_fit(f1,x,y)[0]\n",
        "\n",
        "plt.figure(figsize=(16,4.5))\n",
        "\n",
        "plt.subplot(1,2,1)\n",
        "plt.scatter(x,y)\n",
        "plt.grid()\n",
        "\n",
        "plt.subplot(1,2,2)\n",
        "plt.scatter(x,y)\n",
        "plt.plot(x,f1(x,coef[0],coef[1],coef[2]))\n",
        "plt.grid()\n",
        "plt.show()\n"
      ],
      "metadata": {
        "colab": {
          "base_uri": "https://localhost:8080/",
          "height": 293
        },
        "id": "TnyyxBOAZ_QX",
        "outputId": "b60e010e-d449-487d-b9cb-044ef4bfb354"
      },
      "execution_count": null,
      "outputs": [
        {
          "output_type": "display_data",
          "data": {
            "text/plain": [
              "<Figure size 1152x324 with 2 Axes>"
            ],
            "image/png": "[encoded data removed]"
          },
          "metadata": {
            "needs_background": "light"
          }
        }
      ]
    },
    {
      "cell_type": "markdown",
      "source": [
        "###Obtener puntos mínimos y máximos"
      ],
      "metadata": {
        "id": "EUU16wBc4Ucr"
      }
    },
    {
      "cell_type": "markdown",
      "source": [
        "scipy permite hallar los puntos mínimos de una función y tambien los máximos, la función más fácil de utilizar es `optimize.minimize_scalar(f)`\n"
      ],
      "metadata": {
        "id": "qi8M-hXQoz37"
      }
    },
    {
      "cell_type": "code",
      "source": [
        "f2=lambda x:-pow(x,2)+3*x\n",
        "try:\n",
        "  x0=optimize.minimize_scalar(f2)\n",
        "except:\n",
        "  x0=optimize.minimize_scalar(lambda x: -f2(x))\n",
        "  x0.fun=-x0.fun\n",
        "  \n",
        "print(\"x:\",x0.x,\"\\ny:\", x0.fun)\n",
        "plt.plot(x,f2(x))\n",
        "plt.scatter([x0.x], [x0.fun])\n",
        "plt.show()"
      ],
      "metadata": {
        "colab": {
          "base_uri": "https://localhost:8080/",
          "height": 300
        },
        "id": "v1u7GtQWu7th",
        "outputId": "740e5f15-aeb1-4d53-a02d-119be68ec9c9"
      },
      "execution_count": null,
      "outputs": [
        {
          "output_type": "stream",
          "name": "stdout",
          "text": [
            "x: 1.4999999999999998 \n",
            "y: 2.2499999999999996\n"
          ]
        },
        {
          "output_type": "display_data",
          "data": {
            "text/plain": [
              "<Figure size 432x288 with 1 Axes>"
            ],
            "image/png": "[encoded data removed]"
          },
          "metadata": {
            "needs_background": "light"
          }
        }
      ]
    },
    {
      "cell_type": "markdown",
      "source": [
        "###Integración"
      ],
      "metadata": {
        "id": "40Vs0msR8M4J"
      }
    },
    {
      "cell_type": "code",
      "source": [
        "from scipy import integrate"
      ],
      "metadata": {
        "id": "HHboGUO48UxL"
      },
      "execution_count": null,
      "outputs": []
    },
    {
      "cell_type": "code",
      "source": [
        "f=lambda x: pow(x,1/2)\n",
        "\n",
        "print(\"area:\",integrate.quad(f,0,1)[0])\n",
        "\n",
        "x=np.linspace(0,5,100)\n",
        "plt.plot(x,f(x))\n",
        "plt.fill_between(x,f(x),alpha=0.5)\n",
        "plt.grid()\n",
        "plt.show()"
      ],
      "metadata": {
        "id": "1waF5Fhq8VI-"
      },
      "execution_count": null,
      "outputs": []
    },
    {
      "cell_type": "markdown",
      "source": [
        "#Aplicación"
      ],
      "metadata": {
        "id": "dARe-lJUK96T"
      }
    },
    {
      "cell_type": "markdown",
      "source": [
        "##Ejemplo 1\n",
        "Se han recolectado datos dentro de la empresa sobre los trabajadores, especificamente se tienen sus sexos, ingresos y cargos."
      ],
      "metadata": {
        "id": "7mO1moY9JLxo"
      }
    },
    {
      "cell_type": "code",
      "source": [
        "#@title Datos\n",
        "print(\"El dataset se llama datos y es data frame de pandas.\")\n",
        "v=np.array([np.random.randint(10,50) for _ in range(4)])\n",
        "ing=[]\n",
        "tag=[]\n",
        "pst=[]\n",
        "h1=[np.random.randint(10,20) for _ in range(4)]\n",
        "h2=[np.random.randint(10,20) for _ in range(4)]\n",
        "k=[\"Vendedor\",\"Marketing\",\"Gerente\",\"Oficinista\",\"Maquinario\"]\n",
        "for i in range(len(h1)):\n",
        "  ing+=[v[i]]*h1[i]\n",
        "  tag+=[\"H\"]*h1[i]\n",
        "  pst+=[k[i]]*h1[i]\n",
        "for i in range(len(h2)):\n",
        "  ing+=[v[i]]*h2[i]\n",
        "  tag+=[\"M\"]*h2[i]\n",
        "  pst+=[k[i]]*h2[i]\n",
        "\n",
        "\n",
        "datos=pd.DataFrame()\n",
        "datos[\"sexo\"]=tag\n",
        "datos[\"ingresos\"]=ing\n",
        "datos[\"cargo\"]=pst\n",
        "datos"
      ],
      "metadata": {
        "cellView": "form",
        "id": "mYDeggrDJLZX",
        "outputId": "7b8db815-a85f-4338-de9b-2266053b383d",
        "colab": {
          "base_uri": "https://localhost:8080/"
        }
      },
      "execution_count": null,
      "outputs": [
        {
          "output_type": "execute_result",
          "data": {
            "text/plain": [
              "    sexo  ingresos       cargo\n",
              "0      H        27    Vendedor\n",
              "1      H        27    Vendedor\n",
              "2      H        27    Vendedor\n",
              "3      H        27    Vendedor\n",
              "4      H        27    Vendedor\n",
              "..   ...       ...         ...\n",
              "96     M        45  Oficinista\n",
              "97     M        45  Oficinista\n",
              "98     M        45  Oficinista\n",
              "99     M        45  Oficinista\n",
              "100    M        45  Oficinista\n",
              "\n",
              "[101 rows x 3 columns]"
            ],
            "text/html": [
              "\n",
              "  <div id=\"df-6c9297c5-7984-4373-9bd9-a57c57da3c11\">\n",
              "    <div class=\"colab-df-container\">\n",
              "      <div>\n",
              "<style scoped>\n",
              "    .dataframe tbody tr th:only-of-type {\n",
              "        vertical-align: middle;\n",
              "    }\n",
              "\n",
              "    .dataframe tbody tr th {\n",
              "        vertical-align: top;\n",
              "    }\n",
              "\n",
              "    .dataframe thead th {\n",
              "        text-align: right;\n",
              "    }\n",
              "</style>\n",
              "<table border=\"1\" class=\"dataframe\">\n",
              "  <thead>\n",
              "    <tr style=\"text-align: right;\">\n",
              "      <th></th>\n",
              "      <th>sexo</th>\n",
              "      <th>ingresos</th>\n",
              "      <th>cargo</th>\n",
              "    </tr>\n",
              "  </thead>\n",
              "  <tbody>\n",
              "    <tr>\n",
              "      <th>0</th>\n",
              "      <td>H</td>\n",
              "      <td>27</td>\n",
              "      <td>Vendedor</td>\n",
              "    </tr>\n",
              "    <tr>\n",
              "      <th>1</th>\n",
              "      <td>H</td>\n",
              "      <td>27</td>\n",
              "      <td>Vendedor</td>\n",
              "    </tr>\n",
              "    <tr>\n",
              "      <th>2</th>\n",
              "      <td>H</td>\n",
              "      <td>27</td>\n",
              "      <td>Vendedor</td>\n",
              "    </tr>\n",
              "    <tr>\n",
              "      <th>3</th>\n",
              "      <td>H</td>\n",
              "      <td>27</td>\n",
              "      <td>Vendedor</td>\n",
              "    </tr>\n",
              "    <tr>\n",
              "      <th>4</th>\n",
              "      <td>H</td>\n",
              "      <td>27</td>\n",
              "      <td>Vendedor</td>\n",
              "    </tr>\n",
              "    <tr>\n",
              "      <th>...</th>\n",
              "      <td>...</td>\n",
              "      <td>...</td>\n",
              "      <td>...</td>\n",
              "    </tr>\n",
              "    <tr>\n",
              "      <th>96</th>\n",
              "      <td>M</td>\n",
              "      <td>45</td>\n",
              "      <td>Oficinista</td>\n",
              "    </tr>\n",
              "    <tr>\n",
              "      <th>97</th>\n",
              "      <td>M</td>\n",
              "      <td>45</td>\n",
              "      <td>Oficinista</td>\n",
              "    </tr>\n",
              "    <tr>\n",
              "      <th>98</th>\n",
              "      <td>M</td>\n",
              "      <td>45</td>\n",
              "      <td>Oficinista</td>\n",
              "    </tr>\n",
              "    <tr>\n",
              "      <th>99</th>\n",
              "      <td>M</td>\n",
              "      <td>45</td>\n",
              "      <td>Oficinista</td>\n",
              "    </tr>\n",
              "    <tr>\n",
              "      <th>100</th>\n",
              "      <td>M</td>\n",
              "      <td>45</td>\n",
              "      <td>Oficinista</td>\n",
              "    </tr>\n",
              "  </tbody>\n",
              "</table>\n",
              "<p>101 rows × 3 columns</p>\n",
              "</div>\n",
              "      <button class=\"colab-df-convert\" onclick=\"convertToInteractive('df-6c9297c5-7984-4373-9bd9-a57c57da3c11')\"\n",
              "              title=\"Convert this dataframe to an interactive table.\"\n",
              "              style=\"display:none;\">\n",
              "        \n",
              "  <svg xmlns=\"http://www.w3.org/2000/svg\" height=\"24px\"viewBox=\"0 0 24 24\"\n",
              "       width=\"24px\">\n",
              "    <path d=\"M0 0h24v24H0V0z\" fill=\"none\"/>\n",
              "    <path d=\"M18.56 5.44l.94 2.06.94-2.06 2.06-.94-2.06-.94-.94-2.06-.94 2.06-2.06.94zm-11 1L8.5 8.5l.94-2.06 2.06-.94-2.06-.94L8.5 2.5l-.94 2.06-2.06.94zm10 10l.94 2.06.94-2.06 2.06-.94-2.06-.94-.94-2.06-.94 2.06-2.06.94z\"/><path d=\"M17.41 7.96l-1.37-1.37c-.4-.4-.92-.59-1.43-.59-.52 0-1.04.2-1.43.59L10.3 9.45l-7.72 7.72c-.78.78-.78 2.05 0 2.83L4 21.41c.39.39.9.59 1.41.59.51 0 1.02-.2 1.41-.59l7.78-7.78 2.81-2.81c.8-.78.8-2.07 0-2.86zM5.41 20L4 18.59l7.72-7.72 1.47 1.35L5.41 20z\"/>\n",
              "  </svg>\n",
              "      </button>\n",
              "      \n",
              "  <style>\n",
              "    .colab-df-container {\n",
              "      display:flex;\n",
              "      flex-wrap:wrap;\n",
              "      gap: 12px;\n",
              "    }\n",
              "\n",
              "    .colab-df-convert {\n",
              "      background-color: #E8F0FE;\n",
              "      border: none;\n",
              "      border-radius: 50%;\n",
              "      cursor: pointer;\n",
              "      display: none;\n",
              "      fill: #1967D2;\n",
              "      height: 32px;\n",
              "      padding: 0 0 0 0;\n",
              "      width: 32px;\n",
              "    }\n",
              "\n",
              "    .colab-df-convert:hover {\n",
              "      background-color: #E2EBFA;\n",
              "      box-shadow: 0px 1px 2px rgba(60, 64, 67, 0.3), 0px 1px 3px 1px rgba(60, 64, 67, 0.15);\n",
              "      fill: #174EA6;\n",
              "    }\n",
              "\n",
              "    [theme=dark] .colab-df-convert {\n",
              "      background-color: #3B4455;\n",
              "      fill: #D2E3FC;\n",
              "    }\n",
              "\n",
              "    [theme=dark] .colab-df-convert:hover {\n",
              "      background-color: #434B5C;\n",
              "      box-shadow: 0px 1px 3px 1px rgba(0, 0, 0, 0.15);\n",
              "      filter: drop-shadow(0px 1px 2px rgba(0, 0, 0, 0.3));\n",
              "      fill: #FFFFFF;\n",
              "    }\n",
              "  </style>\n",
              "\n",
              "      <script>\n",
              "        const buttonEl =\n",
              "          document.querySelector('#df-6c9297c5-7984-4373-9bd9-a57c57da3c11 button.colab-df-convert');\n",
              "        buttonEl.style.display =\n",
              "          google.colab.kernel.accessAllowed ? 'block' : 'none';\n",
              "\n",
              "        async function convertToInteractive(key) {\n",
              "          const element = document.querySelector('#df-6c9297c5-7984-4373-9bd9-a57c57da3c11');\n",
              "          const dataTable =\n",
              "            await google.colab.kernel.invokeFunction('convertToInteractive',\n",
              "                                                     [key], {});\n",
              "          if (!dataTable) return;\n",
              "\n",
              "          const docLinkHtml = 'Like what you see? Visit the ' +\n",
              "            '<a target=\"_blank\" href=https://colab.research.google.com/notebooks/data_table.ipynb>data table notebook</a>'\n",
              "            + ' to learn more about interactive tables.';\n",
              "          element.innerHTML = '';\n",
              "          dataTable['output_type'] = 'display_data';\n",
              "          await google.colab.output.renderOutput(dataTable, element);\n",
              "          const docLink = document.createElement('div');\n",
              "          docLink.innerHTML = docLinkHtml;\n",
              "          element.appendChild(docLink);\n",
              "        }\n",
              "      </script>\n",
              "    </div>\n",
              "  </div>\n",
              "  "
            ]
          },
          "metadata": {},
          "execution_count": 39
        }
      ]
    },
    {
      "cell_type": "code",
      "source": [
        "M=datos[datos[\"sexo\"]==\"M\"]\n",
        "H=datos[datos[\"sexo\"]==\"H\"]\n",
        "\n",
        "labels,valores=np.unique(M[\"cargo\"],return_counts=True)\n",
        "\n",
        "plt.bar(labels,valores,label=\"Mujeres\",width=.5,align=\"edge\")\n",
        "labels,valores=np.unique(H[\"cargo\"],return_counts=True)\n",
        "plt.bar(labels,valores,label=\"Hombres\",width=.5)\n",
        "plt.legend()\n",
        "plt.show()"
      ],
      "metadata": {
        "id": "TVIKFf3BNWrh",
        "outputId": "da4cc52e-26dd-4f0c-c322-41abfe407b66",
        "colab": {
          "base_uri": "https://localhost:8080/"
        }
      },
      "execution_count": null,
      "outputs": [
        {
          "output_type": "display_data",
          "data": {
            "text/plain": [
              "<Figure size 432x288 with 1 Axes>"
            ],
            "image/png": "[encoded data removed]"
          },
          "metadata": {
            "needs_background": "light"
          }
        }
      ]
    },
    {
      "cell_type": "markdown",
      "source": [
        "###Indicadores\n",
        "Hay que tener cuidado cuando se hace una operación para sacar una conclusion pues si se hace mal la información pierde valor pues esta retratando un mundo imaginario, más no el mundo real.\n",
        "\n",
        "un ejemplo seria con el mismo dataset restar los promedios o hacer el promedio de las diferencias de los promedios.\n",
        "\n",
        "Estas dos son muy diferentes pues tratan diferentes contextos, el primero habla de un contexto global, mientras que el otro habla de un contexto más especifico para cada cargo."
      ],
      "metadata": {
        "id": "8RIDTZ0kUHuJ"
      }
    },
    {
      "cell_type": "code",
      "source": [
        "#diferencia de medias, hace el promedio salarial total y hace la resta entre las dos cantidades\n",
        "print(\"Indicador 1: \", np.mean(M[\"ingresos\"])-np.mean(H[\"ingresos\"]))\n",
        "#diferencia de las medias de las diferencias, hace el promedio salarial por cargo, luego hace las resta y lo vuelve a promediar\n",
        "i1=np.array([np.mean(M[M[\"cargo\"]==i][\"ingresos\"]) for i in [\"Vendedor\",\"Marketing\",\"Gerente\",\"Oficinista\",\"Maquinario\"]])\n",
        "i2=np.array([np.mean(H[H[\"cargo\"]==i][\"ingresos\"]) for i in [\"Vendedor\",\"Marketing\",\"Gerente\",\"Oficinista\",\"Maquinario\"]])\n",
        "np.nan_to_num(i1,0)\n",
        "np.nan_to_num(i2,0)\n",
        "print(\"Indicador 2: \",np.mean(i1-i2))"
      ],
      "metadata": {
        "id": "oKbjCe3nRChA",
        "outputId": "c922607e-5352-41e5-dae8-c75946daae36",
        "colab": {
          "base_uri": "https://localhost:8080/"
        }
      },
      "execution_count": null,
      "outputs": [
        {
          "output_type": "stream",
          "name": "stdout",
          "text": [
            "Indicador 1:  -0.03448275862069039\n",
            "Indicador 2:  0.0\n"
          ]
        }
      ]
    },
    {
      "cell_type": "markdown",
      "source": [
        "#Ejemplo 2\n",
        "Una fábrica tiene una máquina que se calienta conforme se utiliza, un ingeniero recolectó la información y la escribió en una tabla\n",
        "\n",
        "1. Con esta información determine un modelo que describa la temperatura de la maquina en un instante de tiempo $t$.\n",
        "2. Teniendo en cuenta que por cada grado centígrado que gana la maquina la fábrica tiene que gastar $15um$ (um=Unidades monetarias) construya un modelo de costos."
      ],
      "metadata": {
        "id": "2uXIsW6ANAMv"
      }
    },
    {
      "cell_type": "code",
      "source": [
        "#@title Datos\n",
        "print(\"El dataset se llama datos y es data frame de pandas.\")\n",
        "t=np.arange(0,20)\n",
        "T=-5.7*pow(np.e,-0.3*t+4)+315+np.random.rand()*10\n",
        "datos=pd.DataFrame()\n",
        "datos[\"tiempo(h)\"]=t\n",
        "datos[\"Temperatura(c)\"]=T\n",
        "datos"
      ],
      "metadata": {
        "cellView": "form",
        "id": "KXVManw9N1zr"
      },
      "execution_count": null,
      "outputs": []
    },
    {
      "cell_type": "code",
      "source": [
        "t=datos[\"tiempo(h)\"]\n",
        "T=datos[\"Temperatura(c)\"]\n",
        "\n",
        "plt.scatter(t,T)"
      ],
      "metadata": {
        "id": "zYyuEEu9T1gH"
      },
      "execution_count": null,
      "outputs": []
    },
    {
      "cell_type": "code",
      "source": [
        "Tp=[T[i+1]-T[i] for i in range(len(t)-1)]\n",
        "tp=t[:-1]\n",
        "plt.scatter(tp,Tp)"
      ],
      "metadata": {
        "id": "T60_2oqjUN-_"
      },
      "execution_count": null,
      "outputs": []
    },
    {
      "cell_type": "code",
      "source": [
        "Y=np.log(Tp)\n",
        "plt.scatter(tp,Y)"
      ],
      "metadata": {
        "id": "e77PDbhBZxFT"
      },
      "execution_count": null,
      "outputs": []
    },
    {
      "cell_type": "code",
      "source": [
        "X=np.array([np.ones(len(tp)),tp])\n",
        "\n",
        "B=Y@X.T@np.linalg.inv(X@X.T)\n",
        "print(B)"
      ],
      "metadata": {
        "id": "mCWwnmU7Z6ht",
        "outputId": "cbdaaf1e-7f3c-46a6-e7ad-a7db7b1cf5dd",
        "colab": {
          "base_uri": "https://localhost:8080/"
        }
      },
      "execution_count": 79,
      "outputs": [
        {
          "output_type": "stream",
          "name": "stdout",
          "text": [
            "[ 4.39024056 -0.3       ]\n"
          ]
        }
      ]
    },
    {
      "cell_type": "code",
      "source": [
        "plt.plot(t,T)\n",
        "plt.plot(tp,np.exp(B[0])*np.exp(B[1]*tp)+300)"
      ],
      "metadata": {
        "id": "lf5cEfF3aVI9",
        "outputId": "4ee364f4-722d-4705-a278-941bbfb17b48",
        "colab": {
          "base_uri": "https://localhost:8080/",
          "height": 282
        }
      },
      "execution_count": 83,
      "outputs": [
        {
          "output_type": "execute_result",
          "data": {
            "text/plain": [
              "[<matplotlib.lines.Line2D at 0x7f8e12c4a0d0>]"
            ]
          },
          "metadata": {},
          "execution_count": 83
        },
        {
          "output_type": "display_data",
          "data": {
            "text/plain": [
              "<Figure size 432x288 with 1 Axes>"
            ],
            "image/png": "[encoded data removed]"
          },
          "metadata": {
            "needs_background": "light"
          }
        }
      ]
    }
  ]
}