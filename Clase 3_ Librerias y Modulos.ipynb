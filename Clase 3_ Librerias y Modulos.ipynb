{
  "nbformat": 4,
  "nbformat_minor": 0,
  "metadata": {
    "colab": {
      "name": "Clase 3: Librerias y Modulos.ipynb",
      "provenance": [],
      "collapsed_sections": [
        "gmaoFW-WxsP-",
        "_0n1eMMUxxkN",
        "-DfPRR9mx3I-",
        "6Pm9TFbC4BXd",
        "EUU16wBc4Ucr"
      ]
    },
    "kernelspec": {
      "name": "python3",
      "display_name": "Python 3"
    },
    "language_info": {
      "name": "python"
    }
  },
  "cells": [
    {
      "cell_type": "code",
      "source": [
        "import numpy as np\n",
        "import matplotlib.pyplot as plt\n",
        "import pandas as pd"
      ],
      "metadata": {
        "id": "dQ89wsAuJ2Q4"
      },
      "execution_count": 75,
      "outputs": []
    },
    {
      "cell_type": "markdown",
      "metadata": {
        "id": "rdBs5LfDwhlP"
      },
      "source": [
        "#Introducción al uso de librerías\n",
        "\n",
        "Algunas de las librerías más utilizadas son:\n",
        "\n",
        "1.   [NumPy](https://numpy.org/doc/stable/numpy-ref.pdf)\n",
        "2.   [Matplotlib](https://matplotlib.org/)\n",
        "3.   [Pandas](https://pandas.pydata.org/docs/)\n",
        "\n",
        "Recomendado:\n",
        "\n",
        "4.   [SciPy](https://docs.scipy.org/doc/scipy/)"
      ]
    },
    {
      "cell_type": "markdown",
      "metadata": {
        "id": "gmaoFW-WxsP-"
      },
      "source": [
        "#Numpy\n",
        "\n",
        "Numpy es una libreria para el procesamiento numérico, la cual es muy útil para todo tipo de aplicaciones."
      ]
    },
    {
      "cell_type": "markdown",
      "source": [
        "##Numpy básico"
      ],
      "metadata": {
        "id": "AWUcuFCU8-WR"
      }
    },
    {
      "cell_type": "markdown",
      "metadata": {
        "id": "mwYRuMWux7N1"
      },
      "source": [
        "###Funciones y constantes matemáticas\n",
        "\n",
        "**Constantes:**\n",
        "\n",
        "Constante | Uso\n",
        "---|---\n",
        "$\\pi$| pi\n",
        "$e$|e\n",
        "$\\infty$| inf\n",
        "$-\\infty$|NINF\n",
        "$\\gamma$| euler_gamma\n",
        "None | newaxis\n",
        "\n",
        "**Funciones trigonométricas:**\n",
        "\n",
        "Las funciones trigonométricas en numpy reciben como parametro un ángulo en radianes.\n",
        "\n",
        "Función | Uso\n",
        "---|---\n",
        "seno| sin\n",
        "coseno| cos\n",
        "tangente| tan\n",
        "arcoseno| arcsin\n",
        "arcocoseno | arccos\n",
        "arcotangente | arctan\n",
        "\n",
        "Las funciones trigonométricas hiperbólicas son iguales solo que tienen una h al final del nombre por ejemplo: seno hiperbólico: sinh\n",
        "\n",
        "\n",
        "para transformar ángulos de grados a radianes:\n",
        "\n",
        "\n",
        "```python\n",
        "numpy.radians(360)\n",
        ">>6.283185307179586\n",
        "```\n",
        "\n"
      ]
    },
    {
      "cell_type": "code",
      "metadata": {
        "id": "9xbWp7L-zPSa"
      },
      "source": [
        "for i in range(36):\n",
        "  print(3*np.sin(np.radians(i*10)))"
      ],
      "execution_count": null,
      "outputs": []
    },
    {
      "cell_type": "markdown",
      "metadata": {
        "id": "5KB1p74S2m0K"
      },
      "source": [
        "###Arreglos y matrices\n",
        "\n",
        "Probablemente uno de los usos más provechosos que se le puede dar a numpy es el manejo de arreglos y matrices ya que es muy sencillo de manejar.\n",
        "\n",
        "\n",
        "**Arreglos**\n",
        "Hay varias formas de hacer un arreglo en numpy, por ejemplo con `numpy.array()`\n",
        "\n",
        "\n",
        "Otro arreglo que puede ser útil es mediante la función `numpy.linspace`\n",
        "\n",
        "\n",
        "```python\n",
        "np.linspace(<número inicial>,<número final>,<divisíones>)\n",
        "```\n",
        "\n",
        "Una ventaja que poseen los arreglos es que pueden evaluarse al tiempo en una función y pueden operarse por posiciones o como si fueran vectores.\n",
        "\n",
        "\n"
      ]
    },
    {
      "cell_type": "code",
      "metadata": {
        "id": "vFOQf3tf3kTp"
      },
      "source": [
        "x=np.linspace(0.1,10,40)\n",
        "y=lambda x: np.sin(x)+1.5*np.cos(x)/x\n",
        "\n",
        "print(x)\n",
        "print(y(x))"
      ],
      "execution_count": null,
      "outputs": []
    },
    {
      "cell_type": "code",
      "source": [
        "#@title Grafica\n",
        "import matplotlib.pyplot as plt\n",
        "plt.plot(x,y(x))\n",
        "plt.show()"
      ],
      "metadata": {
        "cellView": "form",
        "id": "FtYylRyPxdOh",
        "colab": {
          "base_uri": "https://localhost:8080/",
          "height": 265
        },
        "outputId": "0ac51918-cf4c-447a-dbde-c79f21269ef5"
      },
      "execution_count": 78,
      "outputs": [
        {
          "output_type": "display_data",
          "data": {
            "text/plain": [
              "<Figure size 432x288 with 1 Axes>"
            ],
            "image/png": "[encoded data removed]"
          },
          "metadata": {
            "needs_background": "light"
          }
        }
      ]
    },
    {
      "cell_type": "code",
      "metadata": {
        "id": "qQAJUqbN35kg",
        "colab": {
          "base_uri": "https://localhost:8080/"
        },
        "outputId": "1fe49633-65f5-4b63-b902-853399ee652b"
      },
      "source": [
        "notas=np.array([5,2,4,4])\n",
        "valores=np.array([.5,.25,.2,.05])\n",
        "print(notas*valores)\n",
        "print(sum(notas*valores))"
      ],
      "execution_count": 79,
      "outputs": [
        {
          "output_type": "stream",
          "name": "stdout",
          "text": [
            "[2.5 0.5 0.8 0.2]\n",
            "4.0\n"
          ]
        }
      ]
    },
    {
      "cell_type": "code",
      "metadata": {
        "id": "48FmO_cV6zUd",
        "colab": {
          "base_uri": "https://localhost:8080/"
        },
        "outputId": "6fefee44-6de6-454e-a59b-517c963d62c2"
      },
      "source": [
        "print(notas@valores)"
      ],
      "execution_count": 80,
      "outputs": [
        {
          "output_type": "stream",
          "name": "stdout",
          "text": [
            "4.0\n"
          ]
        }
      ]
    },
    {
      "cell_type": "code",
      "metadata": {
        "id": "k4NoQzBd60bQ",
        "colab": {
          "base_uri": "https://localhost:8080/"
        },
        "outputId": "d9d9378b-af6f-4ade-f2ec-20fb53736bec"
      },
      "source": [
        "v=np.array([2,2,3])\n",
        "u=np.array([3,2,1])\n",
        "print(v+u)"
      ],
      "execution_count": 81,
      "outputs": [
        {
          "output_type": "stream",
          "name": "stdout",
          "text": [
            "[5 4 4]\n"
          ]
        }
      ]
    },
    {
      "cell_type": "markdown",
      "metadata": {
        "id": "1vvTpx1Ec7OL"
      },
      "source": [
        "Hay otro tipo de arreglos que pueden ser útiles, como por ejemplo, uno lleno de 1 o de 0, estos pueden generarse fácilmente con `numpy.zeros` y `numpy.ones`\n",
        "\n"
      ]
    },
    {
      "cell_type": "code",
      "metadata": {
        "id": "XnGY0WiLdWyP",
        "colab": {
          "base_uri": "https://localhost:8080/"
        },
        "outputId": "e60df367-80db-417c-bbe9-2967af956f2b"
      },
      "source": [
        "a=np.zeros(10)\n",
        "print(a)\n",
        "b=np.ones(10)\n",
        "print(b)"
      ],
      "execution_count": 82,
      "outputs": [
        {
          "output_type": "stream",
          "name": "stdout",
          "text": [
            "[0. 0. 0. 0. 0. 0. 0. 0. 0. 0.]\n",
            "[1. 1. 1. 1. 1. 1. 1. 1. 1. 1.]\n"
          ]
        }
      ]
    },
    {
      "cell_type": "code",
      "source": [
        "np.cross(np.array([1,2,3]),np.array([2,3,4]))"
      ],
      "metadata": {
        "colab": {
          "base_uri": "https://localhost:8080/"
        },
        "id": "gND0ln68vB37",
        "outputId": "6b5bb5a6-f874-4a15-95c3-2cd9bd04f4b6"
      },
      "execution_count": 83,
      "outputs": [
        {
          "output_type": "execute_result",
          "data": {
            "text/plain": [
              "array([-1,  2, -1])"
            ]
          },
          "metadata": {},
          "execution_count": 83
        }
      ]
    },
    {
      "cell_type": "markdown",
      "metadata": {
        "id": "Lj0VZrnX4w5m"
      },
      "source": [
        "**Matrices**\n",
        "\n",
        "Las matrices son arreglos multi-dimensionales es decir que tienen filas y columnas, y pueden crearse de dos formas: con `np.matrix()` y `np.array()`\n",
        "\n",
        "Las matrices tienen muchas funciones entre las cuales están la suma de matrices, multiplicación matricial, la inversión de matrices y la trasposición de matrices\n"
      ]
    },
    {
      "cell_type": "code",
      "metadata": {
        "id": "OOj1H0ze5DdL",
        "colab": {
          "base_uri": "https://localhost:8080/"
        },
        "outputId": "3e2087fd-05ba-4132-8f74-cd3c75d5518d"
      },
      "source": [
        "s=np.matrix([[1,2,3],[3,4,5],[5,5,2]])\n",
        "d=np.matrix([[6,8,3],[4,5,1],[9,4,7]])\n",
        "\n",
        "print(d,\"\\n\\n\",s)"
      ],
      "execution_count": 85,
      "outputs": [
        {
          "output_type": "stream",
          "name": "stdout",
          "text": [
            "[[6 8 3]\n",
            " [4 5 1]\n",
            " [9 4 7]] \n",
            "\n",
            " [[1 2 3]\n",
            " [3 4 5]\n",
            " [5 5 2]]\n"
          ]
        }
      ]
    },
    {
      "cell_type": "code",
      "source": [
        "print(s+d)"
      ],
      "metadata": {
        "id": "9gt88Ri4ElHI",
        "colab": {
          "base_uri": "https://localhost:8080/"
        },
        "outputId": "190c4dee-1fe6-4780-8bc5-7e4ca3e8bd65"
      },
      "execution_count": 86,
      "outputs": [
        {
          "output_type": "stream",
          "name": "stdout",
          "text": [
            "[[ 7 10  6]\n",
            " [ 7  9  6]\n",
            " [14  9  9]]\n"
          ]
        }
      ]
    },
    {
      "cell_type": "code",
      "metadata": {
        "id": "2O1FT42E64qY",
        "colab": {
          "base_uri": "https://localhost:8080/"
        },
        "outputId": "e9416850-c127-41d0-d57c-fa5cd7806992"
      },
      "source": [
        "print(s*d)\n",
        "print(s@d)"
      ],
      "execution_count": null,
      "outputs": [
        {
          "output_type": "stream",
          "name": "stdout",
          "text": [
            "[[41 30 26]\n",
            " [79 64 48]\n",
            " [68 73 34]]\n",
            "[[41 30 26]\n",
            " [79 64 48]\n",
            " [68 73 34]]\n"
          ]
        }
      ]
    },
    {
      "cell_type": "code",
      "metadata": {
        "id": "Y4-AhKkz65_K",
        "colab": {
          "base_uri": "https://localhost:8080/"
        },
        "outputId": "3b13568a-8d4d-43e8-cb20-b270f4c56128"
      },
      "source": [
        "print(s.T)"
      ],
      "execution_count": null,
      "outputs": [
        {
          "output_type": "stream",
          "name": "stdout",
          "text": [
            "[[1 3 5]\n",
            " [2 4 5]\n",
            " [3 5 2]]\n"
          ]
        }
      ]
    },
    {
      "cell_type": "code",
      "metadata": {
        "id": "ESt5Bdhm668m",
        "colab": {
          "base_uri": "https://localhost:8080/"
        },
        "outputId": "512a0055-c59c-4d4a-ee1e-ddab70ff9095"
      },
      "source": [
        "print(np.linalg.inv(s))\n",
        "print(np.linalg.inv(s)@s)"
      ],
      "execution_count": 88,
      "outputs": [
        {
          "output_type": "stream",
          "name": "stdout",
          "text": [
            "[[-2.83333333  1.83333333 -0.33333333]\n",
            " [ 3.16666667 -2.16666667  0.66666667]\n",
            " [-0.83333333  0.83333333 -0.33333333]]\n",
            "[[ 1.00000000e+00 -1.49880108e-15 -1.44328993e-15]\n",
            " [ 1.11022302e-15  1.00000000e+00  0.00000000e+00]\n",
            " [-3.88578059e-16 -1.66533454e-16  1.00000000e+00]]\n"
          ]
        }
      ]
    },
    {
      "cell_type": "markdown",
      "metadata": {
        "id": "aQ1fs9oJ7LDz"
      },
      "source": [
        "###Módulo de álgebra lineal\n",
        "\n",
        "Con las matrices y los arreglos además de todas las posibles utilidades, también grácias al módulo de álgebra lineal pueden ayudar a solucionar sistemas de ecuaciones\n",
        "\n",
        "\n",
        "por ejemplo:\n",
        "\n",
        "$$3x+4y+z=6$$\n",
        "$$x+5y-z=-2$$\n",
        "$$3x-4y+2z=1$$"
      ]
    },
    {
      "cell_type": "code",
      "metadata": {
        "id": "-A1-pcPl7FiA",
        "colab": {
          "base_uri": "https://localhost:8080/"
        },
        "outputId": "38c811f7-cf9d-4894-e79c-60f5dbcddb6f"
      },
      "source": [
        "m=np.array([[3,4,1],\n",
        "            [1,5,-1],\n",
        "            [3,-4,2]])\n",
        "\n",
        "s=np.array([6,-2,1])\n",
        "\n",
        "r=np.linalg.solve(m,s)\n",
        "\n",
        "print(r)\n",
        "print(r@m.T,\"==\",s)"
      ],
      "execution_count": 89,
      "outputs": [
        {
          "output_type": "stream",
          "name": "stdout",
          "text": [
            "[-2.42857143  1.52380952  7.19047619]\n",
            "[ 6. -2.  1.] == [ 6 -2  1]\n"
          ]
        }
      ]
    },
    {
      "cell_type": "markdown",
      "metadata": {
        "id": "QMgsVqvZz8qS"
      },
      "source": [
        "###Funciones para obtener valores aleatórios\n",
        "\n",
        "Con numpy se puede generar números aleatórios o escoger aleatóriamente entre los objetos de un arreglo\n",
        "\n",
        "\n",
        "\n",
        "```python\n",
        "np.random.randint(<límite inferior>, <límite superior>)\n",
        "```\n",
        "\n",
        "```python\n",
        "np.random.choice(<arreglo>)\n",
        "```\n"
      ]
    },
    {
      "cell_type": "code",
      "metadata": {
        "id": "jX_lR-9F0b6f",
        "colab": {
          "base_uri": "https://localhost:8080/"
        },
        "outputId": "687aa766-301d-49e5-85b4-ad16acc62e70"
      },
      "source": [
        "clases=[\"a\",\"b\",\"c\"]\n",
        "print(np.random.choice(clases))\n",
        "\n",
        "print(np.random.randint(10,50))"
      ],
      "execution_count": 90,
      "outputs": [
        {
          "output_type": "stream",
          "name": "stdout",
          "text": [
            "a\n",
            "28\n"
          ]
        }
      ]
    },
    {
      "cell_type": "markdown",
      "metadata": {
        "id": "IduIcmcWylwc"
      },
      "source": [
        "##Numpy para estadística\n",
        "\n",
        "Numpy también tiene múltiples funciones muy útiles para hacer estadística\n",
        "\n",
        "Si se tiene un arreglo se puede pedir el valor mínimo y el máximo utilizando\n",
        "\n",
        "```python\n",
        "np.min(<arreglo>)\n",
        "np.max(<arreglo>)\n",
        "```\n",
        "y el rango, es decir la diferencia entre el valor máximo y el mínimo con\n",
        "\n",
        "\n",
        "\n",
        "```python\n",
        "np.ptp(<arreglo>)\n",
        "```\n",
        "\n"
      ]
    },
    {
      "cell_type": "code",
      "metadata": {
        "id": "Qvxs_gOrynrO"
      },
      "source": [
        "ingresos=np.array([np.random.randint(15,70)*100 for _ in range(300)])\n",
        "print(ingresos)"
      ],
      "execution_count": null,
      "outputs": []
    },
    {
      "cell_type": "code",
      "metadata": {
        "id": "aCuRtRXt7T9B",
        "outputId": "9caf57cb-10a6-4c62-979f-2ab3c823dba8",
        "colab": {
          "base_uri": "https://localhost:8080/"
        }
      },
      "source": [
        "print(np.min(ingresos))\n",
        "print(np.max(ingresos))\n",
        "print(np.ptp(ingresos))"
      ],
      "execution_count": 92,
      "outputs": [
        {
          "output_type": "stream",
          "name": "stdout",
          "text": [
            "1500\n",
            "6900\n",
            "5400\n"
          ]
        }
      ]
    },
    {
      "cell_type": "markdown",
      "metadata": {
        "id": "A5BrJePw9K03"
      },
      "source": [
        "Se puede ordenar utilizando `sort()`\n",
        "\n",
        "\n",
        "\n",
        "```python\n",
        "<arreglo>.sort()\n",
        "```\n",
        "\n"
      ]
    },
    {
      "cell_type": "code",
      "metadata": {
        "id": "t6DTjj6W9VGb",
        "colab": {
          "base_uri": "https://localhost:8080/"
        },
        "outputId": "2f6a70fd-d559-46c1-fdce-5f7e96331b51"
      },
      "source": [
        "ingresos.sort()\n",
        "print(ingresos)"
      ],
      "execution_count": 93,
      "outputs": [
        {
          "output_type": "stream",
          "name": "stdout",
          "text": [
            "[1500 1500 1600 1600 1600 1600 1600 1600 1600 1600 1700 1700 1700 1700\n",
            " 1700 1800 1800 1800 1800 1800 1800 1900 1900 1900 1900 2000 2000 2000\n",
            " 2000 2100 2100 2100 2100 2100 2100 2100 2100 2100 2200 2200 2200 2200\n",
            " 2300 2400 2400 2400 2400 2400 2500 2500 2500 2500 2500 2500 2500 2500\n",
            " 2500 2500 2600 2600 2600 2600 2600 2600 2700 2700 2800 2800 2800 2800\n",
            " 2800 2900 2900 2900 2900 2900 2900 2900 2900 2900 3000 3000 3000 3000\n",
            " 3000 3000 3000 3100 3100 3100 3100 3100 3100 3200 3200 3200 3200 3200\n",
            " 3300 3300 3300 3300 3400 3400 3400 3400 3400 3400 3400 3500 3500 3500\n",
            " 3500 3600 3600 3600 3600 3600 3600 3600 3700 3700 3700 3700 3700 3700\n",
            " 3800 3800 3800 3900 3900 3900 3900 4000 4000 4100 4100 4100 4100 4100\n",
            " 4100 4200 4200 4200 4200 4200 4200 4300 4300 4300 4300 4300 4300 4300\n",
            " 4300 4300 4400 4400 4400 4400 4400 4500 4500 4500 4500 4500 4500 4500\n",
            " 4600 4600 4600 4600 4600 4600 4600 4600 4700 4700 4700 4700 4800 4800\n",
            " 4800 4800 4800 4800 4900 4900 4900 4900 4900 4900 5000 5000 5000 5000\n",
            " 5000 5100 5100 5100 5100 5100 5200 5200 5200 5200 5200 5200 5200 5200\n",
            " 5200 5200 5300 5300 5300 5400 5400 5400 5400 5500 5500 5500 5600 5600\n",
            " 5600 5600 5600 5600 5600 5600 5700 5700 5700 5700 5700 5700 5800 5800\n",
            " 5800 5900 5900 5900 5900 5900 5900 6000 6000 6000 6000 6000 6000 6000\n",
            " 6000 6100 6100 6100 6100 6100 6100 6100 6100 6100 6200 6200 6200 6200\n",
            " 6300 6300 6400 6400 6400 6400 6500 6500 6500 6600 6600 6600 6600 6600\n",
            " 6600 6600 6700 6700 6700 6700 6700 6800 6800 6800 6800 6800 6800 6900\n",
            " 6900 6900 6900 6900 6900 6900]\n"
          ]
        }
      ]
    },
    {
      "cell_type": "markdown",
      "metadata": {
        "id": "uiRv77HeKXAc"
      },
      "source": [
        "Con numpy también es muy sencillo obtener la frecúencia con `unique`\n",
        "```python\n",
        "np.unique(<arreglo>, return_counts=True)\n",
        "```\n"
      ]
    },
    {
      "cell_type": "code",
      "metadata": {
        "id": "JqKGqjNBJ_2W",
        "colab": {
          "base_uri": "https://localhost:8080/"
        },
        "outputId": "9cd68146-73d8-4219-bef7-bd4b45801888"
      },
      "source": [
        "datos, conteo = np.unique(ingresos, return_counts=True)\n",
        "for i in range(len(datos)):\n",
        "  print(datos[i],\"\\t\",conteo[i])"
      ],
      "execution_count": 94,
      "outputs": [
        {
          "output_type": "stream",
          "name": "stdout",
          "text": [
            "1500 \t 2\n",
            "1600 \t 8\n",
            "1700 \t 5\n",
            "1800 \t 6\n",
            "1900 \t 4\n",
            "2000 \t 4\n",
            "2100 \t 9\n",
            "2200 \t 4\n",
            "2300 \t 1\n",
            "2400 \t 5\n",
            "2500 \t 10\n",
            "2600 \t 6\n",
            "2700 \t 2\n",
            "2800 \t 5\n",
            "2900 \t 9\n",
            "3000 \t 7\n",
            "3100 \t 6\n",
            "3200 \t 5\n",
            "3300 \t 4\n",
            "3400 \t 7\n",
            "3500 \t 4\n",
            "3600 \t 7\n",
            "3700 \t 6\n",
            "3800 \t 3\n",
            "3900 \t 4\n",
            "4000 \t 2\n",
            "4100 \t 6\n",
            "4200 \t 6\n",
            "4300 \t 9\n",
            "4400 \t 5\n",
            "4500 \t 7\n",
            "4600 \t 8\n",
            "4700 \t 4\n",
            "4800 \t 6\n",
            "4900 \t 6\n",
            "5000 \t 5\n",
            "5100 \t 5\n",
            "5200 \t 10\n",
            "5300 \t 3\n",
            "5400 \t 4\n",
            "5500 \t 3\n",
            "5600 \t 8\n",
            "5700 \t 6\n",
            "5800 \t 3\n",
            "5900 \t 6\n",
            "6000 \t 8\n",
            "6100 \t 9\n",
            "6200 \t 4\n",
            "6300 \t 2\n",
            "6400 \t 4\n",
            "6500 \t 3\n",
            "6600 \t 7\n",
            "6700 \t 5\n",
            "6800 \t 6\n",
            "6900 \t 7\n"
          ]
        }
      ]
    },
    {
      "cell_type": "markdown",
      "metadata": {
        "id": "QGyR2C_W8i6G"
      },
      "source": [
        "Se puede obtener medidas de tendencia central como la media utilizando\n",
        "\n",
        "\n",
        "```python\n",
        "np.mean(<arreglo>)\n",
        "```\n",
        "\n"
      ]
    },
    {
      "cell_type": "code",
      "metadata": {
        "colab": {
          "base_uri": "https://localhost:8080/"
        },
        "id": "UrvIqv4T8gt4",
        "outputId": "3473c199-3dd0-48be-88ba-ee7ded49bd9e"
      },
      "source": [
        "media=np.mean(ingresos)\n",
        "print(media)"
      ],
      "execution_count": 95,
      "outputs": [
        {
          "output_type": "stream",
          "name": "stdout",
          "text": [
            "4220.333333333333\n"
          ]
        }
      ]
    },
    {
      "cell_type": "markdown",
      "metadata": {
        "id": "L-Cc9gte-MDk"
      },
      "source": [
        "Otra medida de tendencia central que puede ser obtenida facilmente es la mediana con\n",
        "```\n",
        "np.median(<arreglo>)\n",
        "```\n",
        "\n"
      ]
    },
    {
      "cell_type": "code",
      "metadata": {
        "colab": {
          "base_uri": "https://localhost:8080/"
        },
        "id": "aAb0717n-TBw",
        "outputId": "8100e86f-669d-47ff-c301-d27dbc1ffe6b"
      },
      "source": [
        "print(np.median(ingresos))"
      ],
      "execution_count": 96,
      "outputs": [
        {
          "output_type": "stream",
          "name": "stdout",
          "text": [
            "4300.0\n"
          ]
        }
      ]
    },
    {
      "cell_type": "markdown",
      "metadata": {
        "id": "9GhNjJ6KKLul"
      },
      "source": [
        "Moda"
      ]
    },
    {
      "cell_type": "code",
      "metadata": {
        "colab": {
          "base_uri": "https://localhost:8080/"
        },
        "id": "HtXYxl8YJhMg",
        "outputId": "e18b1423-b397-42c3-dba1-f22a80a89f1c"
      },
      "source": [
        "ingreso, conteo=np.unique(ingresos, return_counts=True)\n",
        "frecuencia=np.max(conteo)\n",
        "print(conteo==frecuencia)\n",
        "moda=ingreso[conteo==frecuencia]\n",
        "print(moda,frecuencia)"
      ],
      "execution_count": 97,
      "outputs": [
        {
          "output_type": "stream",
          "name": "stdout",
          "text": [
            "[False False False False False False False False False False  True False\n",
            " False False False False False False False False False False False False\n",
            " False False False False False False False False False False False False\n",
            " False  True False False False False False False False False False False\n",
            " False False False False False False False]\n",
            "[2500 5200] 10\n"
          ]
        }
      ]
    },
    {
      "cell_type": "markdown",
      "metadata": {
        "id": "_0n1eMMUxxkN"
      },
      "source": [
        "#Matplotlib\n",
        "\n",
        "Matplotlib es una librería que permite graficar información, ya sea estadística o una gráfica de funciones en dos y tres dimensiones"
      ]
    },
    {
      "cell_type": "code",
      "metadata": {
        "id": "Fbks22bh-qtD"
      },
      "source": [
        "import matplotlib.pyplot as plt"
      ],
      "execution_count": 98,
      "outputs": []
    },
    {
      "cell_type": "markdown",
      "metadata": {
        "id": "Ixt549ni9Ddh"
      },
      "source": [
        "###Grafico de dispersion\n",
        "\n",
        "Es un tipo de gáfica en la cual se colocan puntos en aquellos datos conocidos"
      ]
    },
    {
      "cell_type": "code",
      "metadata": {
        "id": "NQ2tntSjx5-u",
        "colab": {
          "base_uri": "https://localhost:8080/",
          "height": 312
        },
        "outputId": "cf94d51e-8d12-4a96-9ad9-40737a6c33b8"
      },
      "source": [
        "pesos=np.array([np.random.randint(60,80) for _ in range(100)])\n",
        "alturas=np.array([np.random.randint(160,180)/100 for _ in range(100)])\n",
        "\n",
        "plt.title(\"Pesos y alturas\")\n",
        "plt.xlabel(\"Peso\")\n",
        "plt.ylabel(\"Altura\")\n",
        "plt.grid()\n",
        "plt.scatter(pesos,alturas)"
      ],
      "execution_count": 99,
      "outputs": [
        {
          "output_type": "execute_result",
          "data": {
            "text/plain": [
              "<matplotlib.collections.PathCollection at 0x7f86e26f1450>"
            ]
          },
          "metadata": {},
          "execution_count": 99
        },
        {
          "output_type": "display_data",
          "data": {
            "text/plain": [
              "<Figure size 432x288 with 1 Axes>"
            ],
            "image/png": "[encoded data removed]"
          },
          "metadata": {
            "needs_background": "light"
          }
        }
      ]
    },
    {
      "cell_type": "code",
      "metadata": {
        "id": "ES6w2rsX_cpb",
        "colab": {
          "base_uri": "https://localhost:8080/",
          "height": 475
        },
        "outputId": "3a4c999a-4fa1-48c3-8c6a-dce35f21d6ea"
      },
      "source": [
        "sexos=[ np.random.choice([\"salmon\",\"lightblue\"]) for _ in range(100)]\n",
        "\n",
        "\n",
        "plt.figure(figsize=(7,7))\n",
        "plt.title(\"Pesos y alturas\")\n",
        "plt.xlabel(\"Peso\")\n",
        "plt.ylabel(\"altura\")\n",
        "plt.grid()\n",
        "\n",
        "\n",
        "plt.scatter(pesos,alturas, color=sexos)"
      ],
      "execution_count": 100,
      "outputs": [
        {
          "output_type": "execute_result",
          "data": {
            "text/plain": [
              "<matplotlib.collections.PathCollection at 0x7f86e25e6e90>"
            ]
          },
          "metadata": {},
          "execution_count": 100
        },
        {
          "output_type": "display_data",
          "data": {
            "text/plain": [
              "<Figure size 504x504 with 1 Axes>"
            ],
            "image/png": "[encoded data removed]"
          },
          "metadata": {
            "needs_background": "light"
          }
        }
      ]
    },
    {
      "cell_type": "markdown",
      "metadata": {
        "id": "wv0vTUfB1g3f"
      },
      "source": [
        "###Graficas de funciones"
      ]
    },
    {
      "cell_type": "code",
      "metadata": {
        "colab": {
          "base_uri": "https://localhost:8080/",
          "height": 265
        },
        "id": "LliICjCw1khV",
        "outputId": "daab3a84-5e62-4b27-e9c8-d0689092a112"
      },
      "source": [
        "f=lambda x: x**2+4*np.sin(x)\n",
        "\n",
        "x=np.linspace(-10,10,100)\n",
        "plt.plot(x,f(x),color=\"black\")\n",
        "plt.grid()\n",
        "plt.show()"
      ],
      "execution_count": 104,
      "outputs": [
        {
          "output_type": "display_data",
          "data": {
            "text/plain": [
              "<Figure size 432x288 with 1 Axes>"
            ],
            "image/png": "[encoded data removed]"
          },
          "metadata": {
            "needs_background": "light"
          }
        }
      ]
    },
    {
      "cell_type": "markdown",
      "metadata": {
        "id": "5NZQdl_N1zYU"
      },
      "source": [
        "###Graficas de barras"
      ]
    },
    {
      "cell_type": "code",
      "metadata": {
        "colab": {
          "base_uri": "https://localhost:8080/",
          "height": 281
        },
        "id": "7cRDCnGa11TU",
        "outputId": "c090d484-8684-456a-9c05-62b7fa81a635"
      },
      "source": [
        "ingresos=np.array([np.random.randint(1,7)*1000 for _ in range(300)])\n",
        "\n",
        "datos, conteo=np.unique(ingresos, return_counts=True)\n",
        "\n",
        "plt.title(\"Ingresos\")\n",
        "plt.bar([str(i) for i in datos],conteo)\n",
        "plt.grid()"
      ],
      "execution_count": 108,
      "outputs": [
        {
          "output_type": "display_data",
          "data": {
            "text/plain": [
              "<Figure size 432x288 with 1 Axes>"
            ],
            "image/png": "[encoded data removed]"
          },
          "metadata": {
            "needs_background": "light"
          }
        }
      ]
    },
    {
      "cell_type": "code",
      "metadata": {
        "colab": {
          "base_uri": "https://localhost:8080/",
          "height": 264
        },
        "id": "ArVs6Tqm3Op1",
        "outputId": "e4c56eaa-0dc0-496d-fce7-47f6594ad190"
      },
      "source": [
        "ingresos=np.array([np.random.randint(1,7)*1000 for _ in range(300)])\n",
        "\n",
        "datos, conteo=np.unique(ingresos, return_counts=True)\n",
        "\n",
        "plt.title(\"Ingresos\")\n",
        "plt.pie(conteo, labels=[str(i) for i in datos],autopct='%1.1f%%')\n",
        "plt.grid()"
      ],
      "execution_count": 109,
      "outputs": [
        {
          "output_type": "display_data",
          "data": {
            "text/plain": [
              "<Figure size 432x288 with 1 Axes>"
            ],
            "image/png": "[encoded data removed]"
          },
          "metadata": {}
        }
      ]
    },
    {
      "cell_type": "markdown",
      "metadata": {
        "id": "-DfPRR9mx3I-"
      },
      "source": [
        "#Pandas"
      ]
    },
    {
      "cell_type": "code",
      "metadata": {
        "id": "EZ8MqU-4_H4B"
      },
      "source": [
        "import pandas as pd"
      ],
      "execution_count": 110,
      "outputs": []
    },
    {
      "cell_type": "code",
      "metadata": {
        "id": "kTSZ6ifu5iJ8",
        "cellView": "form"
      },
      "source": [
        "#@title Datos\n",
        "d=open(\"Datos.csv\",\"w\")\n",
        "d.write(\"Altura,Peso\\n\")\n",
        "for i in range(40):\n",
        "  d.write(str(np.random.randint(160,180)/100)+\",\"+str(np.random.randint(70,80))+\"\\n\")\n",
        "d.close()"
      ],
      "execution_count": 111,
      "outputs": []
    },
    {
      "cell_type": "markdown",
      "metadata": {
        "id": "e0_cFRIw_IWy"
      },
      "source": [
        "###Obtencion de datos de un csv"
      ]
    },
    {
      "cell_type": "code",
      "metadata": {
        "id": "xDdLeHFwx6R6",
        "colab": {
          "base_uri": "https://localhost:8080/",
          "height": 112
        },
        "outputId": "b7daaf71-8ed8-4d26-9006-3e60a0d0467f"
      },
      "source": [
        "dat=pd.read_csv(\"Datos.csv\",sep=',')\n",
        "dat.head(2)"
      ],
      "execution_count": 114,
      "outputs": [
        {
          "output_type": "execute_result",
          "data": {
            "text/plain": [
              "   Altura  Peso\n",
              "0    1.64    72\n",
              "1    1.71    72"
            ],
            "text/html": [
              "\n",
              "  <div id=\"df-09a354d4-b2f4-4322-b06d-8304797f601c\">\n",
              "    <div class=\"colab-df-container\">\n",
              "      <div>\n",
              "<style scoped>\n",
              "    .dataframe tbody tr th:only-of-type {\n",
              "        vertical-align: middle;\n",
              "    }\n",
              "\n",
              "    .dataframe tbody tr th {\n",
              "        vertical-align: top;\n",
              "    }\n",
              "\n",
              "    .dataframe thead th {\n",
              "        text-align: right;\n",
              "    }\n",
              "</style>\n",
              "<table border=\"1\" class=\"dataframe\">\n",
              "  <thead>\n",
              "    <tr style=\"text-align: right;\">\n",
              "      <th></th>\n",
              "      <th>Altura</th>\n",
              "      <th>Peso</th>\n",
              "    </tr>\n",
              "  </thead>\n",
              "  <tbody>\n",
              "    <tr>\n",
              "      <th>0</th>\n",
              "      <td>1.64</td>\n",
              "      <td>72</td>\n",
              "    </tr>\n",
              "    <tr>\n",
              "      <th>1</th>\n",
              "      <td>1.71</td>\n",
              "      <td>72</td>\n",
              "    </tr>\n",
              "  </tbody>\n",
              "</table>\n",
              "</div>\n",
              "      <button class=\"colab-df-convert\" onclick=\"convertToInteractive('df-09a354d4-b2f4-4322-b06d-8304797f601c')\"\n",
              "              title=\"Convert this dataframe to an interactive table.\"\n",
              "              style=\"display:none;\">\n",
              "        \n",
              "  <svg xmlns=\"http://www.w3.org/2000/svg\" height=\"24px\"viewBox=\"0 0 24 24\"\n",
              "       width=\"24px\">\n",
              "    <path d=\"M0 0h24v24H0V0z\" fill=\"none\"/>\n",
              "    <path d=\"M18.56 5.44l.94 2.06.94-2.06 2.06-.94-2.06-.94-.94-2.06-.94 2.06-2.06.94zm-11 1L8.5 8.5l.94-2.06 2.06-.94-2.06-.94L8.5 2.5l-.94 2.06-2.06.94zm10 10l.94 2.06.94-2.06 2.06-.94-2.06-.94-.94-2.06-.94 2.06-2.06.94z\"/><path d=\"M17.41 7.96l-1.37-1.37c-.4-.4-.92-.59-1.43-.59-.52 0-1.04.2-1.43.59L10.3 9.45l-7.72 7.72c-.78.78-.78 2.05 0 2.83L4 21.41c.39.39.9.59 1.41.59.51 0 1.02-.2 1.41-.59l7.78-7.78 2.81-2.81c.8-.78.8-2.07 0-2.86zM5.41 20L4 18.59l7.72-7.72 1.47 1.35L5.41 20z\"/>\n",
              "  </svg>\n",
              "      </button>\n",
              "      \n",
              "  <style>\n",
              "    .colab-df-container {\n",
              "      display:flex;\n",
              "      flex-wrap:wrap;\n",
              "      gap: 12px;\n",
              "    }\n",
              "\n",
              "    .colab-df-convert {\n",
              "      background-color: #E8F0FE;\n",
              "      border: none;\n",
              "      border-radius: 50%;\n",
              "      cursor: pointer;\n",
              "      display: none;\n",
              "      fill: #1967D2;\n",
              "      height: 32px;\n",
              "      padding: 0 0 0 0;\n",
              "      width: 32px;\n",
              "    }\n",
              "\n",
              "    .colab-df-convert:hover {\n",
              "      background-color: #E2EBFA;\n",
              "      box-shadow: 0px 1px 2px rgba(60, 64, 67, 0.3), 0px 1px 3px 1px rgba(60, 64, 67, 0.15);\n",
              "      fill: #174EA6;\n",
              "    }\n",
              "\n",
              "    [theme=dark] .colab-df-convert {\n",
              "      background-color: #3B4455;\n",
              "      fill: #D2E3FC;\n",
              "    }\n",
              "\n",
              "    [theme=dark] .colab-df-convert:hover {\n",
              "      background-color: #434B5C;\n",
              "      box-shadow: 0px 1px 3px 1px rgba(0, 0, 0, 0.15);\n",
              "      filter: drop-shadow(0px 1px 2px rgba(0, 0, 0, 0.3));\n",
              "      fill: #FFFFFF;\n",
              "    }\n",
              "  </style>\n",
              "\n",
              "      <script>\n",
              "        const buttonEl =\n",
              "          document.querySelector('#df-09a354d4-b2f4-4322-b06d-8304797f601c button.colab-df-convert');\n",
              "        buttonEl.style.display =\n",
              "          google.colab.kernel.accessAllowed ? 'block' : 'none';\n",
              "\n",
              "        async function convertToInteractive(key) {\n",
              "          const element = document.querySelector('#df-09a354d4-b2f4-4322-b06d-8304797f601c');\n",
              "          const dataTable =\n",
              "            await google.colab.kernel.invokeFunction('convertToInteractive',\n",
              "                                                     [key], {});\n",
              "          if (!dataTable) return;\n",
              "\n",
              "          const docLinkHtml = 'Like what you see? Visit the ' +\n",
              "            '<a target=\"_blank\" href=https://colab.research.google.com/notebooks/data_table.ipynb>data table notebook</a>'\n",
              "            + ' to learn more about interactive tables.';\n",
              "          element.innerHTML = '';\n",
              "          dataTable['output_type'] = 'display_data';\n",
              "          await google.colab.output.renderOutput(dataTable, element);\n",
              "          const docLink = document.createElement('div');\n",
              "          docLink.innerHTML = docLinkHtml;\n",
              "          element.appendChild(docLink);\n",
              "        }\n",
              "      </script>\n",
              "    </div>\n",
              "  </div>\n",
              "  "
            ]
          },
          "metadata": {},
          "execution_count": 114
        }
      ]
    },
    {
      "cell_type": "code",
      "metadata": {
        "id": "wMHHbfUZ7bfM"
      },
      "source": [
        "dat[\"Altura\"]"
      ],
      "execution_count": null,
      "outputs": []
    },
    {
      "cell_type": "code",
      "metadata": {
        "id": "lg5TF6C78rel",
        "colab": {
          "base_uri": "https://localhost:8080/",
          "height": 336
        },
        "outputId": "a13aeb53-9c7c-47aa-fd3b-3f1a2ca9958b"
      },
      "source": [
        "datos, conteo=np.unique(dat[\"Altura\"], return_counts=True)\n",
        "\n",
        "plt.figure(figsize=(12,5))\n",
        "plt.title(\"Altura\")\n",
        "\n",
        "plt.bar([str(i) for i in datos],conteo)\n",
        "\n",
        "plt.grid()"
      ],
      "execution_count": 120,
      "outputs": [
        {
          "output_type": "display_data",
          "data": {
            "text/plain": [
              "<Figure size 864x360 with 1 Axes>"
            ],
            "image/png": "[encoded data removed]"
          },
          "metadata": {
            "needs_background": "light"
          }
        }
      ]
    },
    {
      "cell_type": "markdown",
      "metadata": {
        "id": "Tj8dbo2Q_MhQ"
      },
      "source": [
        "###Creacion de dataframes"
      ]
    },
    {
      "cell_type": "code",
      "metadata": {
        "id": "kdnqzB9R_WQ5"
      },
      "source": [
        "ingresos=[np.random.randint(15,70)*100 for _ in range(50)]\n",
        "integrantes=[np.random.randint(1,5) for _ in range(50)]\n",
        "\n",
        "df=pd.DataFrame()\n",
        "df.head()\n",
        "df[\"Ingresos\"]=ingresos\n",
        "df[\"Integrantes\"]=integrantes\n",
        "\n",
        "df.head(-1)"
      ],
      "execution_count": null,
      "outputs": []
    },
    {
      "cell_type": "code",
      "source": [
        "df.to_csv(\"DatosSalida.csv\",index=False)"
      ],
      "metadata": {
        "id": "Gx_VsMj1-Ub8"
      },
      "execution_count": 123,
      "outputs": []
    },
    {
      "cell_type": "code",
      "metadata": {
        "id": "hNMtnf3bAKTW"
      },
      "source": [
        "df.sort_values(\"Ingresos\")"
      ],
      "execution_count": null,
      "outputs": []
    },
    {
      "cell_type": "markdown",
      "source": [
        "#Ejemplo 1\n"
      ],
      "metadata": {
        "id": "7mO1moY9JLxo"
      }
    },
    {
      "cell_type": "code",
      "source": [
        "#@title Datos\n",
        "v=np.array([np.random.randint(10,50)*1e3 for _ in range(4)])\n",
        "ing=[]\n",
        "tag=[]\n",
        "pst=[]\n",
        "h1=[np.random.randint(10,20) for _ in range(4)]\n",
        "h2=[np.random.randint(10,20) for _ in range(4)]\n",
        "k=[\"Vendedor\",\"Marketing\",\"Gerente\",\"Oficinista\",\"Maquinario\"]\n",
        "for i in range(len(h1)):\n",
        "  ing+=[v[i]]*h1[i]\n",
        "  tag+=[\"H\"]*h1[i]\n",
        "  pst+=[k[i]]*h1[i]\n",
        "for i in range(len(h2)):\n",
        "  ing+=[v[i]]*h2[i]\n",
        "  tag+=[\"M\"]*h2[i]\n",
        "  pst+=[k[i]]*h2[i]\n",
        "\n",
        "\n",
        "datos=pd.DataFrame()\n",
        "datos[\"sexo\"]=tag\n",
        "datos[\"ingresos\"]=ing\n",
        "datos[\"cargo\"]=pst\n",
        "datos"
      ],
      "metadata": {
        "cellView": "form",
        "id": "mYDeggrDJLZX"
      },
      "execution_count": null,
      "outputs": []
    },
    {
      "cell_type": "code",
      "source": [
        "M=datos[datos[\"sexo\"]==\"M\"]\n",
        "H=datos[datos[\"sexo\"]==\"H\"]\n",
        "\n",
        "labels,valores=np.unique(M[\"cargo\"],return_counts=True)\n",
        "\n",
        "plt.bar(labels,valores,label=\"Mujeres\",width=.5,align=\"edge\")\n",
        "labels,valores=np.unique(H[\"cargo\"],return_counts=True)\n",
        "plt.bar(labels,valores,label=\"Hombres\",width=.5)\n",
        "plt.legend()\n",
        "plt.grid()\n",
        "plt.show()"
      ],
      "metadata": {
        "colab": {
          "base_uri": "https://localhost:8080/",
          "height": 265
        },
        "id": "TVIKFf3BNWrh",
        "outputId": "be1add73-c9e0-4436-bbb0-9e1ba19edcf0"
      },
      "execution_count": 127,
      "outputs": [
        {
          "output_type": "display_data",
          "data": {
            "text/plain": [
              "<Figure size 432x288 with 1 Axes>"
            ],
            "image/png": "[encoded data removed]"
          },
          "metadata": {
            "needs_background": "light"
          }
        }
      ]
    },
    {
      "cell_type": "markdown",
      "source": [
        "##indicadores\n",
        "Hay que tener cuidado cuando se hace una operación para sacar una conclusion pues si se hace mal la información pierde valor pues esta retratando un mundo imaginario, más no el mundo real.\n",
        "\n",
        "un ejemplo seria con el mismo dataset restar los promedios o hacer el promedio de las diferencias de los promedios.\n",
        "\n",
        "Estas dos son muy diferentes pues tratan diferentes contextos, el primero habla de un contexto global, mientras que el otro habla de un contexto más especifico para cada cargo."
      ],
      "metadata": {
        "id": "8RIDTZ0kUHuJ"
      }
    },
    {
      "cell_type": "code",
      "source": [
        "#diferencia de medias, hace el promedio salarial total y hace la resta entre las dos cantidades\n",
        "print(\"Indicador 1: \", np.mean(M[\"ingresos\"])-np.mean(H[\"ingresos\"]))\n",
        "#diferencia de las medias de las diferencias, hace el promedio salarial por cargo, luego hace las resta y lo vuelve a promediar\n",
        "i1=np.array([np.mean(M[M[\"cargo\"]==i][\"ingresos\"]) for i in [\"Vendedor\",\"Marketing\",\"Gerente\",\"Oficinista\",\"Maquinario\"]])\n",
        "i2=np.array([np.mean(H[H[\"cargo\"]==i][\"ingresos\"]) for i in [\"Vendedor\",\"Marketing\",\"Gerente\",\"Oficinista\",\"Maquinario\"]])\n",
        "np.nan_to_num(i1,0)\n",
        "np.nan_to_num(i2,0)\n",
        "print(\"Indicador 2: \",np.mean(i1-i2))"
      ],
      "metadata": {
        "colab": {
          "base_uri": "https://localhost:8080/"
        },
        "id": "oKbjCe3nRChA",
        "outputId": "fdda3549-9d4a-4436-ccdb-410391845dc2"
      },
      "execution_count": 128,
      "outputs": [
        {
          "output_type": "stream",
          "name": "stdout",
          "text": [
            "Indicador 1:  779.9066568410708\n",
            "Indicador 2:  0.0\n"
          ]
        }
      ]
    },
    {
      "cell_type": "markdown",
      "source": [
        "#Ejemplo 2"
      ],
      "metadata": {
        "id": "c4zHWKhRarAN"
      }
    },
    {
      "cell_type": "code",
      "source": [
        "#@title Datos\n",
        "datos=pd.DataFrame()\n",
        "datos[\"horas\"]=np.linspace(7,15,9)*10\n",
        "datos[\"produccion\"]=np.array(15*datos[\"horas\"]+np.random.rand(len(datos[\"horas\"]))*500,dtype=\"int64\")\n",
        "datos"
      ],
      "metadata": {
        "cellView": "form",
        "id": "ZyxL4bhXavUB",
        "outputId": "baf21b2a-5bbe-4ccc-de74-6843fd799c33",
        "colab": {
          "base_uri": "https://localhost:8080/",
          "height": 332
        }
      },
      "execution_count": 133,
      "outputs": [
        {
          "output_type": "execute_result",
          "data": {
            "text/plain": [
              "   horas  produccion\n",
              "0   70.0        1468\n",
              "1   80.0        1391\n",
              "2   90.0        1518\n",
              "3  100.0        1847\n",
              "4  110.0        1967\n",
              "5  120.0        2071\n",
              "6  130.0        2375\n",
              "7  140.0        2295\n",
              "8  150.0        2280"
            ],
            "text/html": [
              "\n",
              "  <div id=\"df-a0c407ce-f88e-4e20-a663-a0e58103a911\">\n",
              "    <div class=\"colab-df-container\">\n",
              "      <div>\n",
              "<style scoped>\n",
              "    .dataframe tbody tr th:only-of-type {\n",
              "        vertical-align: middle;\n",
              "    }\n",
              "\n",
              "    .dataframe tbody tr th {\n",
              "        vertical-align: top;\n",
              "    }\n",
              "\n",
              "    .dataframe thead th {\n",
              "        text-align: right;\n",
              "    }\n",
              "</style>\n",
              "<table border=\"1\" class=\"dataframe\">\n",
              "  <thead>\n",
              "    <tr style=\"text-align: right;\">\n",
              "      <th></th>\n",
              "      <th>horas</th>\n",
              "      <th>produccion</th>\n",
              "    </tr>\n",
              "  </thead>\n",
              "  <tbody>\n",
              "    <tr>\n",
              "      <th>0</th>\n",
              "      <td>70.0</td>\n",
              "      <td>1468</td>\n",
              "    </tr>\n",
              "    <tr>\n",
              "      <th>1</th>\n",
              "      <td>80.0</td>\n",
              "      <td>1391</td>\n",
              "    </tr>\n",
              "    <tr>\n",
              "      <th>2</th>\n",
              "      <td>90.0</td>\n",
              "      <td>1518</td>\n",
              "    </tr>\n",
              "    <tr>\n",
              "      <th>3</th>\n",
              "      <td>100.0</td>\n",
              "      <td>1847</td>\n",
              "    </tr>\n",
              "    <tr>\n",
              "      <th>4</th>\n",
              "      <td>110.0</td>\n",
              "      <td>1967</td>\n",
              "    </tr>\n",
              "    <tr>\n",
              "      <th>5</th>\n",
              "      <td>120.0</td>\n",
              "      <td>2071</td>\n",
              "    </tr>\n",
              "    <tr>\n",
              "      <th>6</th>\n",
              "      <td>130.0</td>\n",
              "      <td>2375</td>\n",
              "    </tr>\n",
              "    <tr>\n",
              "      <th>7</th>\n",
              "      <td>140.0</td>\n",
              "      <td>2295</td>\n",
              "    </tr>\n",
              "    <tr>\n",
              "      <th>8</th>\n",
              "      <td>150.0</td>\n",
              "      <td>2280</td>\n",
              "    </tr>\n",
              "  </tbody>\n",
              "</table>\n",
              "</div>\n",
              "      <button class=\"colab-df-convert\" onclick=\"convertToInteractive('df-a0c407ce-f88e-4e20-a663-a0e58103a911')\"\n",
              "              title=\"Convert this dataframe to an interactive table.\"\n",
              "              style=\"display:none;\">\n",
              "        \n",
              "  <svg xmlns=\"http://www.w3.org/2000/svg\" height=\"24px\"viewBox=\"0 0 24 24\"\n",
              "       width=\"24px\">\n",
              "    <path d=\"M0 0h24v24H0V0z\" fill=\"none\"/>\n",
              "    <path d=\"M18.56 5.44l.94 2.06.94-2.06 2.06-.94-2.06-.94-.94-2.06-.94 2.06-2.06.94zm-11 1L8.5 8.5l.94-2.06 2.06-.94-2.06-.94L8.5 2.5l-.94 2.06-2.06.94zm10 10l.94 2.06.94-2.06 2.06-.94-2.06-.94-.94-2.06-.94 2.06-2.06.94z\"/><path d=\"M17.41 7.96l-1.37-1.37c-.4-.4-.92-.59-1.43-.59-.52 0-1.04.2-1.43.59L10.3 9.45l-7.72 7.72c-.78.78-.78 2.05 0 2.83L4 21.41c.39.39.9.59 1.41.59.51 0 1.02-.2 1.41-.59l7.78-7.78 2.81-2.81c.8-.78.8-2.07 0-2.86zM5.41 20L4 18.59l7.72-7.72 1.47 1.35L5.41 20z\"/>\n",
              "  </svg>\n",
              "      </button>\n",
              "      \n",
              "  <style>\n",
              "    .colab-df-container {\n",
              "      display:flex;\n",
              "      flex-wrap:wrap;\n",
              "      gap: 12px;\n",
              "    }\n",
              "\n",
              "    .colab-df-convert {\n",
              "      background-color: #E8F0FE;\n",
              "      border: none;\n",
              "      border-radius: 50%;\n",
              "      cursor: pointer;\n",
              "      display: none;\n",
              "      fill: #1967D2;\n",
              "      height: 32px;\n",
              "      padding: 0 0 0 0;\n",
              "      width: 32px;\n",
              "    }\n",
              "\n",
              "    .colab-df-convert:hover {\n",
              "      background-color: #E2EBFA;\n",
              "      box-shadow: 0px 1px 2px rgba(60, 64, 67, 0.3), 0px 1px 3px 1px rgba(60, 64, 67, 0.15);\n",
              "      fill: #174EA6;\n",
              "    }\n",
              "\n",
              "    [theme=dark] .colab-df-convert {\n",
              "      background-color: #3B4455;\n",
              "      fill: #D2E3FC;\n",
              "    }\n",
              "\n",
              "    [theme=dark] .colab-df-convert:hover {\n",
              "      background-color: #434B5C;\n",
              "      box-shadow: 0px 1px 3px 1px rgba(0, 0, 0, 0.15);\n",
              "      filter: drop-shadow(0px 1px 2px rgba(0, 0, 0, 0.3));\n",
              "      fill: #FFFFFF;\n",
              "    }\n",
              "  </style>\n",
              "\n",
              "      <script>\n",
              "        const buttonEl =\n",
              "          document.querySelector('#df-a0c407ce-f88e-4e20-a663-a0e58103a911 button.colab-df-convert');\n",
              "        buttonEl.style.display =\n",
              "          google.colab.kernel.accessAllowed ? 'block' : 'none';\n",
              "\n",
              "        async function convertToInteractive(key) {\n",
              "          const element = document.querySelector('#df-a0c407ce-f88e-4e20-a663-a0e58103a911');\n",
              "          const dataTable =\n",
              "            await google.colab.kernel.invokeFunction('convertToInteractive',\n",
              "                                                     [key], {});\n",
              "          if (!dataTable) return;\n",
              "\n",
              "          const docLinkHtml = 'Like what you see? Visit the ' +\n",
              "            '<a target=\"_blank\" href=https://colab.research.google.com/notebooks/data_table.ipynb>data table notebook</a>'\n",
              "            + ' to learn more about interactive tables.';\n",
              "          element.innerHTML = '';\n",
              "          dataTable['output_type'] = 'display_data';\n",
              "          await google.colab.output.renderOutput(dataTable, element);\n",
              "          const docLink = document.createElement('div');\n",
              "          docLink.innerHTML = docLinkHtml;\n",
              "          element.appendChild(docLink);\n",
              "        }\n",
              "      </script>\n",
              "    </div>\n",
              "  </div>\n",
              "  "
            ]
          },
          "metadata": {},
          "execution_count": 133
        }
      ]
    },
    {
      "cell_type": "code",
      "source": [
        "plt.scatter(datos[\"horas\"],datos[\"produccion\"])"
      ],
      "metadata": {
        "id": "HdiYUoPMveJe",
        "outputId": "21a9cd46-26fe-40d1-bdb9-88354139ccc9",
        "colab": {
          "base_uri": "https://localhost:8080/",
          "height": 282
        }
      },
      "execution_count": 134,
      "outputs": [
        {
          "output_type": "execute_result",
          "data": {
            "text/plain": [
              "<matplotlib.collections.PathCollection at 0x7f86df1cd2d0>"
            ]
          },
          "metadata": {},
          "execution_count": 134
        },
        {
          "output_type": "display_data",
          "data": {
            "text/plain": [
              "<Figure size 432x288 with 1 Axes>"
            ],
            "image/png": "[encoded data removed]"
          },
          "metadata": {
            "needs_background": "light"
          }
        }
      ]
    },
    {
      "cell_type": "code",
      "source": [
        "x=datos[\"horas\"]\n",
        "y=datos[\"produccion\"]\n",
        "\n",
        "X = np.array ([ np.ones (len( x ) ) ,x ])# agrega los x0j\n",
        "B = lambda Y , X : Y @ X.T @ np.linalg.inv ( X @ X.T )"
      ],
      "metadata": {
        "id": "iLtEUDQXDwuO"
      },
      "execution_count": 135,
      "outputs": []
    },
    {
      "cell_type": "code",
      "source": [
        "b=B(y,X)\n",
        "\n",
        "plt.scatter(x,y)\n",
        "plt.plot(x,b@X)"
      ],
      "metadata": {
        "id": "_VsJ-OZJD__T",
        "outputId": "d29e5393-1c5e-43b0-c0bf-2efb7d6c9d1d",
        "colab": {
          "base_uri": "https://localhost:8080/",
          "height": 282
        }
      },
      "execution_count": 140,
      "outputs": [
        {
          "output_type": "execute_result",
          "data": {
            "text/plain": [
              "[<matplotlib.lines.Line2D at 0x7f86e2640250>]"
            ]
          },
          "metadata": {},
          "execution_count": 140
        },
        {
          "output_type": "display_data",
          "data": {
            "text/plain": [
              "<Figure size 432x288 with 1 Axes>"
            ],
            "image/png": "[encoded data removed]"
          },
          "metadata": {
            "needs_background": "light"
          }
        }
      ]
    },
    {
      "cell_type": "code",
      "source": [
        "b@np.array([[1],[500]])"
      ],
      "metadata": {
        "id": "fWBttbXJEU2O",
        "outputId": "3103bf67-80a0-4736-916c-f7e591d9cd91",
        "colab": {
          "base_uri": "https://localhost:8080/"
        }
      },
      "execution_count": 142,
      "outputs": [
        {
          "output_type": "execute_result",
          "data": {
            "text/plain": [
              "array([7046.14444444])"
            ]
          },
          "metadata": {},
          "execution_count": 142
        }
      ]
    }
  ]
}