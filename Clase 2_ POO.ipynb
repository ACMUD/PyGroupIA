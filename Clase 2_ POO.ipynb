{
  "nbformat": 4,
  "nbformat_minor": 0,
  "metadata": {
    "colab": {
      "name": "Clase 4: Clases.ipynb",
      "provenance": []
    },
    "kernelspec": {
      "name": "python3",
      "display_name": "Python 3"
    },
    "language_info": {
      "name": "python"
    }
  },
  "cells": [
    {
      "cell_type": "markdown",
      "metadata": {
        "id": "fVpIgZeWYv7W"
      },
      "source": [
        "#Clases\n",
        "\n",
        "Son estructuras que tienen atributos y metodos, actuan igual que un tipo de dato.\n"
      ]
    },
    {
      "cell_type": "markdown",
      "metadata": {
        "id": "3saOLupSZh2A"
      },
      "source": [
        "**Constructor**\n",
        "\n",
        "El constructor es una funcion que inicia el objeto cuando se instancia\n",
        "\n",
        "\n",
        "```python\n",
        "class <nombre>:\n",
        "  def __init__(self,<atributos>):\n",
        "    <estamentos>\n",
        "```\n",
        "\n",
        "Los objetos tienen atributos y metodos\n",
        "\n",
        "```python\n",
        "class <nombre>:\n",
        "  <atributos accesibles desde la clase>\n",
        "  def __init__(self,<atributos>):\n",
        "    <estamentos y atributos accesibles desde el objeto>\n",
        "  def <metodo 1>(<parametros>):\n",
        "    <estamentos>\n",
        "  .\n",
        "  .\n",
        "  .\n",
        "  def <metodo n>(<parametros>):\n",
        "    <estamentos>\n",
        "```\n",
        "\n"
      ]
    },
    {
      "cell_type": "markdown",
      "metadata": {
        "id": "qUTV4V1b6ssS"
      },
      "source": [
        "El uso principal de las clases es abstraer las propiedades de un objeto o de una familia de objetos a una estructura facil de manipular dentro del codigo"
      ]
    },
    {
      "cell_type": "code",
      "metadata": {
        "id": "5-z1MQYIZt8A",
        "colab": {
          "base_uri": "https://localhost:8080/"
        },
        "outputId": "f7818b03-98e6-4a28-822c-54c64926afca"
      },
      "source": [
        "class Vector:\n",
        "  def __init__(self,i,j,k):\n",
        "    self.i=i\n",
        "    self.j=j\n",
        "    self.k=k\n",
        "  def magn(self):\n",
        "    return pow(pow(self.i,2)+pow(self.j,2)+pow(self.k,2),1/2)\n",
        "\n",
        "  def ppunto(vec1,vec2):\n",
        "    return vec1.i*vec2.i+vec1.j*vec2.j+vec1.k*vec2.k\n",
        "\n",
        "  def normalizar(vec):\n",
        "    mag=vec.magn()\n",
        "    return Vector(vec.i/mag, vec.j/mag, vec.k/mag)\n",
        "\n",
        "vec=Vector(2,3,4)\n",
        "print(\"{}i + {}j + {}k\".format(vec.i,vec.j,vec.k))\n",
        "print(vec.magn())\n",
        "\n",
        "print(Vector.ppunto(vec,Vector(5,6,2)))\n",
        "\n",
        "vn=Vector.normalizar(vec)\n",
        "\n",
        "print(\"{}i + {}j + {}k\".format(vn.i,vn.j,vn.k))\n",
        "print(vn.magn())"
      ],
      "execution_count": null,
      "outputs": [
        {
          "output_type": "stream",
          "name": "stdout",
          "text": [
            "2i + 3j + 4k\n",
            "5.385164807134504\n",
            "36\n",
            "0.3713906763541037i + 0.5570860145311556j + 0.7427813527082074k\n",
            "1.0\n"
          ]
        }
      ]
    },
    {
      "cell_type": "markdown",
      "source": [
        "##Aplicación en arboles binarios de ordenamiento"
      ],
      "metadata": {
        "id": "VO6oKDEcO0sd"
      }
    },
    {
      "cell_type": "code",
      "source": [
        "class Nodo:\n",
        "  def __init__(self,valor):\n",
        "    self.padre=None\n",
        "    self.valor=valor\n",
        "    self.hijos=[None,None]\n",
        "\n",
        "  def agregar(self,nodo):\n",
        "    dir=0 if self.valor>=nodo.valor else 1\n",
        "    if self.hijos[dir] is None:\n",
        "      self.hijos[dir]=nodo\n",
        "      nodo.padre=self\n",
        "    else:\n",
        "      self.hijos[dir].agregar(nodo)\n",
        "  def mostrar(self):\n",
        "    if self.hijos[0] is not None:\n",
        "      self.hijos[0].mostrar()\n",
        "    print(self.valor)\n",
        "    if self.hijos[1] is not None:\n",
        "      self.hijos[1].mostrar()\n",
        "  def resumen(self):\n",
        "    A=None if self.hijos[0]==None else self.hijos[0].valor\n",
        "    B=None if self.hijos[1]==None else self.hijos[1].valor\n",
        "    if A is not None or B is not None:\n",
        "      print(f\"{A} <- {self.valor} -> {B}\")\n",
        "    if A is not None:\n",
        "      self.hijos[0].resumen()\n",
        "    if B is not None:\n",
        "      self.hijos[1].resumen()"
      ],
      "metadata": {
        "id": "-bxx-dwnO6hC"
      },
      "execution_count": 43,
      "outputs": []
    },
    {
      "cell_type": "code",
      "source": [
        "Arbol=Nodo(50)"
      ],
      "metadata": {
        "id": "FLSB9lP1RGp-"
      },
      "execution_count": 44,
      "outputs": []
    },
    {
      "cell_type": "code",
      "source": [
        "for i in [25,75,55,11,30,100,120]:\n",
        "  Arbol.agregar(Nodo(i))"
      ],
      "metadata": {
        "id": "S3CBWsd6RQrO"
      },
      "execution_count": 45,
      "outputs": []
    },
    {
      "cell_type": "code",
      "source": [
        "Arbol.mostrar()"
      ],
      "metadata": {
        "id": "SqJYOW88Rh1i",
        "outputId": "5e99d19f-edba-4bed-ccce-56510e50d151",
        "colab": {
          "base_uri": "https://localhost:8080/"
        }
      },
      "execution_count": 46,
      "outputs": [
        {
          "output_type": "stream",
          "name": "stdout",
          "text": [
            "11\n",
            "25\n",
            "30\n",
            "50\n",
            "55\n",
            "75\n",
            "100\n",
            "120\n"
          ]
        }
      ]
    },
    {
      "cell_type": "code",
      "source": [
        "Arbol.resumen()"
      ],
      "metadata": {
        "id": "BNgVFKSfSuJu",
        "outputId": "d8351b85-c596-4666-f2d9-8c57bf2d3e88",
        "colab": {
          "base_uri": "https://localhost:8080/"
        }
      },
      "execution_count": 47,
      "outputs": [
        {
          "output_type": "stream",
          "name": "stdout",
          "text": [
            "25 <- 50 -> 75\n",
            "11 <- 25 -> 30\n",
            "55 <- 75 -> 100\n",
            "None <- 100 -> 120\n"
          ]
        }
      ]
    }
  ]
}