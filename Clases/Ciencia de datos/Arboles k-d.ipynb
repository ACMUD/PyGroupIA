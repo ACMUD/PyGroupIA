{
 "cells": [
  {
   "cell_type": "markdown",
   "id": "53244f96",
   "metadata": {},
   "source": [
    "# ARBOL K Recursivo\n",
    "Este notebook muestra un arbol de clasificación construido con funciones recursivas y closure"
   ]
  },
  {
   "cell_type": "code",
   "execution_count": 1,
   "id": "35a528a1-2204-4226-9642-4d80818d8bca",
   "metadata": {},
   "outputs": [],
   "source": [
    "import pandas as pd\n",
    "import numpy as np"
   ]
  },
  {
   "cell_type": "markdown",
   "id": "404cb53b",
   "metadata": {},
   "source": [
    "Se utilizará el ser iris del repositorio de la universidad de california"
   ]
  },
  {
   "cell_type": "code",
   "execution_count": 2,
   "id": "3e1b2ed3-dd33-4657-98e0-aaa2922e4d54",
   "metadata": {},
   "outputs": [
    {
     "name": "stdout",
     "output_type": "stream",
     "text": [
      "Index([0, 1, 2, 3, 4], dtype='int64')\n"
     ]
    }
   ],
   "source": [
    "data = pd.read_csv('iris.data', header=None)\n",
    "print(data.columns)"
   ]
  },
  {
   "cell_type": "code",
   "execution_count": 3,
   "id": "66e2dd68-2c08-44e3-9257-dfdf692670c5",
   "metadata": {},
   "outputs": [],
   "source": [
    "X = data[[0,1,2,3]]\n",
    "y = data[4]"
   ]
  },
  {
   "cell_type": "markdown",
   "id": "1aef529f",
   "metadata": {},
   "source": [
    "# Construcción del árbol\n",
    "\n",
    "La closure es una función que es retornada pero que guarda el estado de las variables del entorno donde fue creada"
   ]
  },
  {
   "cell_type": "code",
   "execution_count": 4,
   "id": "89c5c545-2d4a-4cfb-b935-7918eecda76b",
   "metadata": {},
   "outputs": [],
   "source": [
    "def tree(X, y, feature_index=0):\n",
    "    # Verificación de los datos en Y\n",
    "    # Determinará si es una hoja o un nodo\n",
    "    unique = y.nunique()\n",
    "    if unique <=1:\n",
    "        # Generamos una variable que pueda ser utilizada por la función de closure NODO\n",
    "        c = y.iloc[0] if len(y)>1 else y\n",
    "        def node(X):\n",
    "            # c es una variable que no fue definida en este entorno, pero si en el de tree, y por lo tanto se guarda el estado\n",
    "            return np.repeat(c, len(X))\n",
    "        return node\n",
    "    # El criterio usado es mediana, en este caso feature_index ayuda a seleccionar uno de las columnas\n",
    "    feature = list(X.columns)[feature_index]\n",
    "    median = X[feature].median()\n",
    "    criteria = X[feature]>=median\n",
    "    feature_index = (feature_index+1)%len(X.columns)\n",
    "\n",
    "    # Se generan los nodos hijos del nodo actual:\n",
    "\n",
    "    nodeA = tree(X[criteria], y[criteria], feature_index = feature_index)\n",
    "    nodeB = tree(X[-criteria], y[-criteria], feature_index = feature_index)\n",
    "\n",
    "    # Generación de un nodo de decision\n",
    "    def node(X):\n",
    "        P = np.empty(len(X),dtype=np.dtype('object'))\n",
    "        criteria = X[feature]>=median\n",
    "        P[criteria] = nodeA(X[criteria])\n",
    "        P[-criteria] = nodeB(X[-criteria])\n",
    "        return P\n",
    "    return node"
   ]
  },
  {
   "cell_type": "code",
   "execution_count": 5,
   "id": "be6b8298-6254-4061-8792-e7a1b13ed9a5",
   "metadata": {
    "scrolled": true
   },
   "outputs": [
    {
     "data": {
      "text/plain": [
       "array(['Iris-setosa'], dtype=object)"
      ]
     },
     "execution_count": 5,
     "metadata": {},
     "output_type": "execute_result"
    }
   ],
   "source": [
    "p = tree(X,y)\n",
    "p(X.iloc[1:2,:])"
   ]
  }
 ],
 "metadata": {
  "kernelspec": {
   "display_name": "Python 3 (ipykernel)",
   "language": "python",
   "name": "python3"
  },
  "language_info": {
   "codemirror_mode": {
    "name": "ipython",
    "version": 3
   },
   "file_extension": ".py",
   "mimetype": "text/x-python",
   "name": "python",
   "nbconvert_exporter": "python",
   "pygments_lexer": "ipython3",
   "version": "3.10.12"
  }
 },
 "nbformat": 4,
 "nbformat_minor": 5
}
