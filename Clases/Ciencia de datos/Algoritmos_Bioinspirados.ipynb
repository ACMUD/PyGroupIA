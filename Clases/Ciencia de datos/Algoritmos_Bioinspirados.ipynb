{
 "cells": [
  {
   "cell_type": "code",
   "execution_count": 1,
   "id": "93909125-3100-4213-afbe-74454452094b",
   "metadata": {},
   "outputs": [
    {
     "name": "stdout",
     "output_type": "stream",
     "text": [
      "/home/michael/Documentos/prueba_ws/venv/bin/python: No module named pip\n",
      "/home/michael/Documentos/prueba_ws/venv/bin/python: No module named pip\n"
     ]
    }
   ],
   "source": [
    "!python -m pip install matplotlib\n",
    "!python -m pip install numpy"
   ]
  },
  {
   "cell_type": "code",
   "execution_count": 4,
   "id": "a96d0e60-fe9c-42ed-8310-1da6638e926a",
   "metadata": {},
   "outputs": [],
   "source": [
    "import numpy as np"
   ]
  },
  {
   "cell_type": "code",
   "execution_count": 5,
   "id": "efe8d359-e781-4ef6-a1a8-1757b3dff176",
   "metadata": {},
   "outputs": [],
   "source": [
    "#f=lambda X: np.sin(X[0]*X[1])+np.sin(X[0])+np.sin(X[1])-np.cos(X[1])\n",
    "f=lambda X: np.sin(X[0]*X[1])+np.sin(X[0])+np.sin(X[1])-np.cos(X[1])+np.sin(X[2]*X[3])+np.sin(X[4])+np.sin(X[4])-np.cos(X[5])"
   ]
  },
  {
   "cell_type": "code",
   "execution_count": 6,
   "id": "d46b6053-ba50-47ca-a4de-80cfe3202c4f",
   "metadata": {},
   "outputs": [],
   "source": [
    "mejor=None\n",
    "operacion=\"max\"\n",
    "ev=(lambda a,b : a<b) if operacion == \"min\" else (lambda a,b : a>b)"
   ]
  },
  {
   "cell_type": "code",
   "execution_count": 9,
   "id": "60560d8a-8aa2-4af4-b3c0-780853a6af0c",
   "metadata": {},
   "outputs": [],
   "source": [
    "dim=6\n",
    "X0=np.random.rand(dim)*100\n",
    "disp=5"
   ]
  },
  {
   "cell_type": "code",
   "execution_count": 10,
   "id": "59bc361a-dda6-41be-ad70-3c2486ba4bc7",
   "metadata": {},
   "outputs": [],
   "source": [
    "C1=1 # 0-2\n",
    "C2=2 #0-2\n",
    "W=.8 # 0.8-1.2\n",
    "n_particulas=100\n",
    "iter=100"
   ]
  },
  {
   "cell_type": "code",
   "execution_count": 11,
   "id": "b12dbfa1-3dbe-4938-9a44-402f3c818613",
   "metadata": {},
   "outputs": [],
   "source": [
    "particulas = []\n",
    "\n",
    "for i in range(n_particulas):\n",
    "    x = (np.random.rand(dim)-np.random.rand(dim))\n",
    "    x = disp*(x/np.linalg.norm(x))*(np.random.rand()-0.5)\n",
    "    particula = {\n",
    "            \"X\":x,\n",
    "            \"V\":np.zeros(dim),\n",
    "            \"Xp\":x,\n",
    "            \"Xg\":mejor}\n",
    "    particulas.append(particula)\n",
    "    if mejor is None:\n",
    "        mejor = x\n",
    "    else:\n",
    "        mejor = x if ev(f(x),f(mejor)) else mejor"
   ]
  },
  {
   "cell_type": "code",
   "execution_count": 12,
   "id": "da6ab058-af2a-4229-9c2d-c5278538b692",
   "metadata": {},
   "outputs": [],
   "source": [
    "for i in range(iter):\n",
    "    mejor_temp = mejor\n",
    "    for particula in particulas:\n",
    "        particula[\"V\"]=W*particula[\"V\"]+C1*np.random.rand()*(particula[\"Xp\"]-particula[\"X\"])+C2*np.random.rand()*(mejor-particula[\"X\"])\n",
    "        particula[\"X\"]=particula[\"X\"]+particula[\"V\"]\n",
    "        particula[\"Xp\"]=particula[\"X\"] if ev(f(particula[\"X\"]),f(particula[\"Xp\"])) else particula[\"Xp\"]\n",
    "        mejor_temp = particula[\"X\"] if ev(f(particula[\"X\"]),f(mejor_temp)) else mejor_temp\n",
    "    mejor=mejor_temp"
   ]
  },
  {
   "cell_type": "code",
   "execution_count": 13,
   "id": "febc368a-2db0-4591-84fe-628b5d9ccd2e",
   "metadata": {},
   "outputs": [
    {
     "data": {
      "text/plain": [
       "array([ 0.86266453,  2.17371559, -1.07474782, -1.46174072,  1.5701027 ,\n",
       "        3.1422875 ])"
      ]
     },
     "execution_count": 13,
     "metadata": {},
     "output_type": "execute_result"
    }
   ],
   "source": [
    "mejor"
   ]
  },
  {
   "cell_type": "code",
   "execution_count": 14,
   "id": "fe797ade-5b29-4a4f-8b7f-4aa4e3fcd664",
   "metadata": {},
   "outputs": [
    {
     "data": {
      "text/plain": [
       "7.10434041328538"
      ]
     },
     "execution_count": 14,
     "metadata": {},
     "output_type": "execute_result"
    }
   ],
   "source": [
    "f(mejor)"
   ]
  }
 ],
 "metadata": {
  "kernelspec": {
   "display_name": "Python 3 (ipykernel)",
   "language": "python",
   "name": "python3"
  },
  "language_info": {
   "codemirror_mode": {
    "name": "ipython",
    "version": 3
   },
   "file_extension": ".py",
   "mimetype": "text/x-python",
   "name": "python",
   "nbconvert_exporter": "python",
   "pygments_lexer": "ipython3",
   "version": "3.10.12"
  }
 },
 "nbformat": 4,
 "nbformat_minor": 5
}
