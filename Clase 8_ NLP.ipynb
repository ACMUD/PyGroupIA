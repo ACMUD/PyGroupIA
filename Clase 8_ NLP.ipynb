{
  "nbformat": 4,
  "nbformat_minor": 0,
  "metadata": {
    "colab": {
      "name": "Clase 8: NLP.ipynb",
      "provenance": [],
      "collapsed_sections": [
        "rW9B4v-EoMl5"
      ]
    },
    "kernelspec": {
      "name": "python3",
      "display_name": "Python 3"
    },
    "language_info": {
      "name": "python"
    },
    "accelerator": "GPU"
  },
  "cells": [
    {
      "cell_type": "markdown",
      "metadata": {
        "id": "gAf71EhcfJWr"
      },
      "source": [
        "1.   [Scikit-learn/sklearn](https://scikit-learn.org/stable/)\n",
        "2.   [Tensorflow](https://www.tensorflow.org/?hl=es)\n",
        "3.   [Keras](https://keras.io/)\n",
        "4.   [Pytorch](https://pytorch.org/)\n",
        "5.   [Nltk](https://www.nltk.org/)\n",
        "6.   [Spacy](https://spacy.io/)\n",
        "\n",
        "Puede encontrar mas informacion y librerias utiles en [este blog](https://www.iartificial.net/librerias-de-python-para-machine-learning/#TensorFlow)"
      ]
    },
    {
      "cell_type": "markdown",
      "metadata": {
        "id": "uHBuxc3Pi99u"
      },
      "source": [
        "Lecturas recomendadas:\n",
        "\n",
        "\n",
        "1.   [Word2vec](https://towardsdatascience.com/word2vec-research-paper-explained-205cb7eecc30)\n",
        "2.   [Transformers](https://compvis.github.io/taming-transformers/)\n",
        "\n",
        "3. [como funciona word2vec](https://datascientest.com/es/nlp-word-embedding-word2vec-es)\n",
        "\n"
      ]
    },
    {
      "cell_type": "markdown",
      "metadata": {
        "id": "rW9B4v-EoMl5"
      },
      "source": [
        "#Vectorizacion de palabras\n",
        "\n",
        "Para poder procesar una palabra es necesario convertirla en algun objeto matematico que permita hacer esto, la opcion mas sencilla y util son los vectores, estos se crean siguiendo el algoritmo Word2vec de forma que cada componente del vector es una caracteristica de lo que conceptualmente significa una palabra, los humanos podemos hacer esto de forma sencilla, simplemente asociar conceptos a palabras.\n"
      ]
    },
    {
      "cell_type": "markdown",
      "source": [
        "<center>\n",
        "  <img src=\"data:image/png;base64,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\"></center>"
      ],
      "metadata": {
        "id": "w8-WmVCVYk-Y"
      }
    },
    {
      "cell_type": "code",
      "metadata": {
        "id": "b-aAm2oHqFj9",
        "colab": {
          "base_uri": "https://localhost:8080/"
        },
        "outputId": "7aa62247-159c-4a2f-8734-ff17f295dff6"
      },
      "source": [
        "!pip install -U spacy\n",
        "!python -m spacy download es_core_news_lg\n",
        "import spacy\n",
        "import es_core_news_lg\n",
        "nlp = es_core_news_lg.load()"
      ],
      "execution_count": null,
      "outputs": [
        {
          "output_type": "stream",
          "name": "stdout",
          "text": [
            "Looking in indexes: https://pypi.org/simple, https://us-python.pkg.dev/colab-wheels/public/simple/\n",
            "Collecting es-core-news-lg==3.4.0\n",
            "  Downloading https://github.com/explosion/spacy-models/releases/download/es_core_news_lg-3.4.0/es_core_news_lg-3.4.0-py3-none-any.whl (568.0 MB)\n",
            "\u001b[K     |████████████████████████████████| 568.0 MB 8.7 kB/s \n",
            "\u001b[?25hRequirement already satisfied: spacy<3.5.0,>=3.4.0 in /usr/local/lib/python3.7/dist-packages (from es-core-news-lg==3.4.0) (3.4.1)\n",
            "Requirement already satisfied: preshed<3.1.0,>=3.0.2 in /usr/local/lib/python3.7/dist-packages (from spacy<3.5.0,>=3.4.0->es-core-news-lg==3.4.0) (3.0.7)\n",
            "Requirement already satisfied: numpy>=1.15.0 in /usr/local/lib/python3.7/dist-packages (from spacy<3.5.0,>=3.4.0->es-core-news-lg==3.4.0) (1.21.6)\n",
            "Requirement already satisfied: catalogue<2.1.0,>=2.0.6 in /usr/local/lib/python3.7/dist-packages (from spacy<3.5.0,>=3.4.0->es-core-news-lg==3.4.0) (2.0.8)\n",
            "Requirement already satisfied: srsly<3.0.0,>=2.4.3 in /usr/local/lib/python3.7/dist-packages (from spacy<3.5.0,>=3.4.0->es-core-news-lg==3.4.0) (2.4.4)\n",
            "Requirement already satisfied: spacy-loggers<2.0.0,>=1.0.0 in /usr/local/lib/python3.7/dist-packages (from spacy<3.5.0,>=3.4.0->es-core-news-lg==3.4.0) (1.0.3)\n",
            "Requirement already satisfied: langcodes<4.0.0,>=3.2.0 in /usr/local/lib/python3.7/dist-packages (from spacy<3.5.0,>=3.4.0->es-core-news-lg==3.4.0) (3.3.0)\n",
            "Requirement already satisfied: setuptools in /usr/local/lib/python3.7/dist-packages (from spacy<3.5.0,>=3.4.0->es-core-news-lg==3.4.0) (57.4.0)\n",
            "Requirement already satisfied: tqdm<5.0.0,>=4.38.0 in /usr/local/lib/python3.7/dist-packages (from spacy<3.5.0,>=3.4.0->es-core-news-lg==3.4.0) (4.64.0)\n",
            "Requirement already satisfied: jinja2 in /usr/local/lib/python3.7/dist-packages (from spacy<3.5.0,>=3.4.0->es-core-news-lg==3.4.0) (2.11.3)\n",
            "Requirement already satisfied: requests<3.0.0,>=2.13.0 in /usr/local/lib/python3.7/dist-packages (from spacy<3.5.0,>=3.4.0->es-core-news-lg==3.4.0) (2.23.0)\n",
            "Requirement already satisfied: pydantic!=1.8,!=1.8.1,<1.10.0,>=1.7.4 in /usr/local/lib/python3.7/dist-packages (from spacy<3.5.0,>=3.4.0->es-core-news-lg==3.4.0) (1.9.2)\n",
            "Requirement already satisfied: spacy-legacy<3.1.0,>=3.0.9 in /usr/local/lib/python3.7/dist-packages (from spacy<3.5.0,>=3.4.0->es-core-news-lg==3.4.0) (3.0.10)\n",
            "Requirement already satisfied: murmurhash<1.1.0,>=0.28.0 in /usr/local/lib/python3.7/dist-packages (from spacy<3.5.0,>=3.4.0->es-core-news-lg==3.4.0) (1.0.8)\n",
            "Requirement already satisfied: typer<0.5.0,>=0.3.0 in /usr/local/lib/python3.7/dist-packages (from spacy<3.5.0,>=3.4.0->es-core-news-lg==3.4.0) (0.4.2)\n",
            "Requirement already satisfied: pathy>=0.3.5 in /usr/local/lib/python3.7/dist-packages (from spacy<3.5.0,>=3.4.0->es-core-news-lg==3.4.0) (0.6.2)\n",
            "Requirement already satisfied: cymem<2.1.0,>=2.0.2 in /usr/local/lib/python3.7/dist-packages (from spacy<3.5.0,>=3.4.0->es-core-news-lg==3.4.0) (2.0.6)\n",
            "Requirement already satisfied: wasabi<1.1.0,>=0.9.1 in /usr/local/lib/python3.7/dist-packages (from spacy<3.5.0,>=3.4.0->es-core-news-lg==3.4.0) (0.10.1)\n",
            "Requirement already satisfied: typing-extensions<4.2.0,>=3.7.4 in /usr/local/lib/python3.7/dist-packages (from spacy<3.5.0,>=3.4.0->es-core-news-lg==3.4.0) (4.1.1)\n",
            "Requirement already satisfied: packaging>=20.0 in /usr/local/lib/python3.7/dist-packages (from spacy<3.5.0,>=3.4.0->es-core-news-lg==3.4.0) (21.3)\n",
            "Requirement already satisfied: thinc<8.2.0,>=8.1.0 in /usr/local/lib/python3.7/dist-packages (from spacy<3.5.0,>=3.4.0->es-core-news-lg==3.4.0) (8.1.0)\n",
            "Requirement already satisfied: zipp>=0.5 in /usr/local/lib/python3.7/dist-packages (from catalogue<2.1.0,>=2.0.6->spacy<3.5.0,>=3.4.0->es-core-news-lg==3.4.0) (3.8.1)\n",
            "Requirement already satisfied: pyparsing!=3.0.5,>=2.0.2 in /usr/local/lib/python3.7/dist-packages (from packaging>=20.0->spacy<3.5.0,>=3.4.0->es-core-news-lg==3.4.0) (3.0.9)\n",
            "Requirement already satisfied: smart-open<6.0.0,>=5.2.1 in /usr/local/lib/python3.7/dist-packages (from pathy>=0.3.5->spacy<3.5.0,>=3.4.0->es-core-news-lg==3.4.0) (5.2.1)\n",
            "Requirement already satisfied: idna<3,>=2.5 in /usr/local/lib/python3.7/dist-packages (from requests<3.0.0,>=2.13.0->spacy<3.5.0,>=3.4.0->es-core-news-lg==3.4.0) (2.10)\n",
            "Requirement already satisfied: certifi>=2017.4.17 in /usr/local/lib/python3.7/dist-packages (from requests<3.0.0,>=2.13.0->spacy<3.5.0,>=3.4.0->es-core-news-lg==3.4.0) (2022.6.15)\n",
            "Requirement already satisfied: urllib3!=1.25.0,!=1.25.1,<1.26,>=1.21.1 in /usr/local/lib/python3.7/dist-packages (from requests<3.0.0,>=2.13.0->spacy<3.5.0,>=3.4.0->es-core-news-lg==3.4.0) (1.24.3)\n",
            "Requirement already satisfied: chardet<4,>=3.0.2 in /usr/local/lib/python3.7/dist-packages (from requests<3.0.0,>=2.13.0->spacy<3.5.0,>=3.4.0->es-core-news-lg==3.4.0) (3.0.4)\n",
            "Requirement already satisfied: blis<0.8.0,>=0.7.8 in /usr/local/lib/python3.7/dist-packages (from thinc<8.2.0,>=8.1.0->spacy<3.5.0,>=3.4.0->es-core-news-lg==3.4.0) (0.7.8)\n",
            "Requirement already satisfied: click<9.0.0,>=7.1.1 in /usr/local/lib/python3.7/dist-packages (from typer<0.5.0,>=0.3.0->spacy<3.5.0,>=3.4.0->es-core-news-lg==3.4.0) (7.1.2)\n",
            "Requirement already satisfied: MarkupSafe>=0.23 in /usr/local/lib/python3.7/dist-packages (from jinja2->spacy<3.5.0,>=3.4.0->es-core-news-lg==3.4.0) (2.0.1)\n",
            "Installing collected packages: es-core-news-lg\n",
            "Successfully installed es-core-news-lg-3.4.0\n",
            "\u001b[38;5;2m✔ Download and installation successful\u001b[0m\n",
            "You can now load the package via spacy.load('es_core_news_lg')\n"
          ]
        }
      ]
    },
    {
      "cell_type": "code",
      "metadata": {
        "id": "ee98ei6udqoF",
        "colab": {
          "base_uri": "https://localhost:8080/"
        },
        "cellView": "form",
        "outputId": "b6d7f5e1-4ac0-493a-cb19-dc0adba7aee2"
      },
      "source": [
        "#@title Vector de una palabra\n",
        "Palabra = \"Mujer\" #@param {type:\"string\"}\n",
        "print(nlp.vocab[Palabra].vector)\n",
        "nlp.vocab[Palabra].vector.shape"
      ],
      "execution_count": null,
      "outputs": [
        {
          "output_type": "stream",
          "name": "stdout",
          "text": [
            "[-1.6986   -0.47477   0.052872  1.6822   -2.1922   -0.33053  -2.8451\n",
            "  2.8542   -1.1272    0.3726   -1.1565   -1.4455   -0.026307 -0.21483\n",
            " -1.6063   -2.9019   -1.6247   -1.1644   -3.2589    0.054047 -2.3966\n",
            "  2.6162   -1.0554    2.887     0.89608   0.39347  -0.84909   1.9269\n",
            " -0.87403   1.4195   -0.17229  -3.1222    0.13586  -3.0757   -0.259\n",
            "  0.52147   1.0222   -0.95234  -2.5224   -2.2281   -0.34086   1.2405\n",
            "  0.41894  -0.24196   0.73332   0.507    -1.6326   -1.0542    0.68955\n",
            " -1.9894   -0.36714   2.9487    0.9443   -3.4951    0.061863  0.30056\n",
            " -1.2533   -3.1818    0.68235  -1.2787    3.8869    1.4787   -1.716\n",
            " -1.3402    0.17168  -0.37193  -1.1219    4.3357    1.4447    1.6047\n",
            "  1.8129    1.4436   -3.3065    0.35     -4.6366    0.93072  -1.999\n",
            " -1.9677   -1.5412   -0.66011   0.18278  -0.15808   0.99018  -0.1925\n",
            "  3.3131   -1.6629   -0.057501 -1.641    -2.6101    1.6045    3.3298\n",
            " -2.3918   -0.66816  -2.9066    2.1528   -2.5794    1.1919    0.57717\n",
            " -1.9721    0.018732  3.1997    1.385     4.5868    1.128    -0.89465\n",
            "  0.83833   1.8307   -0.17185   0.86195  -3.7014    0.43545  -0.32954\n",
            "  0.71553   0.80881   0.15126   1.2527   -1.1797    1.314    -1.8754\n",
            " -0.9992    2.5988    1.226     1.1908   -0.50893  -1.594    -1.1648\n",
            " -3.4409   -1.4003   -0.18153  -2.03     -2.412     0.18618   2.812\n",
            " -0.21011   2.2594    1.1768   -0.691    -4.6836   -0.81772   1.9406\n",
            "  3.5093   -1.281     1.5949   -0.21719   0.82439  -4.4568    1.5297\n",
            " -4.1205    2.195    -0.59392   1.5095    1.6935   -1.2697   -3.1998\n",
            " -0.84283  -0.89811  -0.6022   -1.8522   -0.88238   1.1462    2.2364\n",
            "  3.2219   -0.94058  -0.2861    1.2449    2.7067    1.3221    0.37118\n",
            "  1.346    -2.75     -2.4547    0.98451   1.2268    2.1669   -0.20282\n",
            "  1.9926    1.2265   -1.0884   -2.0859    0.33193  -3.0245    1.4619\n",
            "  0.35662  -1.5588    3.0741   -0.3853   -0.95863   3.0541   -1.9315\n",
            "  1.4541   -3.3029   -1.24     -0.97398  -3.4596    2.53      0.64103\n",
            "  3.2694   -1.2259    3.238     1.0862   -0.057258  1.4726   -1.6073\n",
            " -1.674     3.2869   -0.63794  -1.111    -0.040375  0.68569   1.1607\n",
            "  1.7777    0.26362   1.7491    0.24087   0.62636   3.1229    2.1109\n",
            " -1.6615    0.59012  -1.1      -0.30707  -2.227    -0.57322   0.91719\n",
            " -1.3846   -1.8746   -0.089147  0.67701  -1.388    -4.2599    1.3569\n",
            "  1.4766    0.31365  -3.2853    0.5939   -0.19097   2.3552    0.10794\n",
            " -1.5816    0.8947   -1.3877   -1.0866    0.30137   3.4079   -1.3184\n",
            "  1.2026   -0.15322  -2.8392   -1.8005    2.087    -0.99853   0.91025\n",
            "  2.6975   -0.045593 -1.0745   -0.15854   2.2293   -0.27502  -2.9057\n",
            " -0.80549   0.78149  -0.19579   0.61501   1.6113   -2.0188   -1.3064\n",
            "  0.39068  -0.83112   2.1488    2.963    -0.37788  -0.99821   2.0128\n",
            "  0.50715   1.124    -2.1066    2.674    -1.5775   -3.9159   -0.73208\n",
            " -0.35936  -2.031    -2.1564   -1.2524   -0.50238   0.4792   -1.4796\n",
            "  2.0655    0.69528   1.8388   -3.0212    0.098973 -1.6172   -2.348\n",
            " -2.916     0.87886  -0.22336  -0.87257   1.8515   -1.6564  ]\n"
          ]
        },
        {
          "output_type": "execute_result",
          "data": {
            "text/plain": [
              "(300,)"
            ]
          },
          "metadata": {},
          "execution_count": 3
        }
      ]
    },
    {
      "cell_type": "markdown",
      "source": [
        "<center>\n",
        "  <img src=\"data:image/png;base64,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\">\n",
        "  </center>"
      ],
      "metadata": {
        "id": "rsl-OtxKdfW4"
      }
    },
    {
      "cell_type": "markdown",
      "metadata": {
        "id": "0oXPs2r-qtLa"
      },
      "source": [
        "Ya que son vectores se pueden hacer operaciones matematicas, hay una operacion muy conocida:\n",
        "$$Rey-Hombre+Mujer=Reina$$\n",
        "Esta operacion resulta interesante ya que significa que hay una relacion conceptual entre diferentes tipos de palabras.\n",
        "\n",
        "tambien se puede hallar un parecido entre palabras:"
      ]
    },
    {
      "cell_type": "code",
      "source": [
        "A=nlp.vocab[\"Rey\"].vector-nlp.vocab[\"Hombre\"].vector+nlp.vocab[\"Mujer\"].vector\n",
        "B=nlp.vocab[\"Reina\"].vector\n",
        "import numpy as np\n",
        "print((A@B)/(np.linalg.norm(A)*np.linalg.norm(B)))"
      ],
      "metadata": {
        "id": "TdZfRU9X_Wek",
        "outputId": "1df7b982-2d42-4864-9891-656b9ca19f7e",
        "colab": {
          "base_uri": "https://localhost:8080/"
        }
      },
      "execution_count": null,
      "outputs": [
        {
          "output_type": "stream",
          "name": "stdout",
          "text": [
            "0.7030733\n"
          ]
        }
      ]
    },
    {
      "cell_type": "code",
      "metadata": {
        "colab": {
          "base_uri": "https://localhost:8080/"
        },
        "cellView": "form",
        "id": "JkmFxVRTrEZE",
        "outputId": "cbd952d0-fdde-4251-8e53-eb7ae4d1d1eb"
      },
      "source": [
        "#@title Similitud entre dos palabras\n",
        "Palabra1 = \"reina\" #@param [\"hombre\", \"mujer\", \"rey\", \"reina\"] {allow-input: true}\n",
        "Palabra2= \"rey\" #@param [\"hombre\", \"mujer\", \"rey\", \"reina\"] {allow-input: true}\n",
        "\n",
        "print(nlp.vocab[Palabra1].similarity(nlp.vocab[Palabra2]))\n",
        "\n"
      ],
      "execution_count": null,
      "outputs": [
        {
          "output_type": "stream",
          "name": "stdout",
          "text": [
            "0.6265181303024292\n"
          ]
        }
      ]
    },
    {
      "cell_type": "markdown",
      "metadata": {
        "id": "_bLPHboNsEqy"
      },
      "source": [
        "Incluso el mismo metodo puede determinar si dos frases u oraciones son similares o diferentes"
      ]
    },
    {
      "cell_type": "code",
      "metadata": {
        "colab": {
          "base_uri": "https://localhost:8080/"
        },
        "id": "UKVakejesKEr",
        "cellView": "form",
        "outputId": "bc45cba9-f639-4f4e-9cc9-184c77660446"
      },
      "source": [
        "#@title Similitud entre dos frases u oraciones\n",
        "Palabra1 = \"El cielo es azul\" #@param [\"La similitud coseno es una forma de obtener informacion de cercania entre vectores\"] {allow-input: true}\n",
        "Palabra2 = \"Esta despejado el cielo\" #@param [\"La similitud coseno es una forma de conocer el angulo entre los vectores\"] {allow-input: true}\n",
        "\n",
        "p1 = nlp(Palabra1)\n",
        "p2 = nlp(Palabra2)\n",
        "p1.similarity(p2)"
      ],
      "execution_count": null,
      "outputs": [
        {
          "output_type": "execute_result",
          "data": {
            "text/plain": [
              "0.5392067534075368"
            ]
          },
          "metadata": {},
          "execution_count": 10
        }
      ]
    },
    {
      "cell_type": "markdown",
      "metadata": {
        "id": "lTF31XakuKir"
      },
      "source": [
        "#Clasificacion de texto basica\n",
        "La clasificacion de texto es uno de los usos del procesamiento del lenguaje natural, es util para conocer el contenido de una oracion por ejemplo en un chatbot para conocer que pide el usuario o en un correo para determinar si es spam, hay otras aplicaciones que empiezan a juntar diferentes de estos modelos para formar modelos como los proyectos **Dall-e** y **VQGAN+CLIP**, este ultimo es un modelo que analiza el texto para generar una imagen e incluso se ha visto en **Github copilot** una IA que puede autocompletar codigo o generar codigo con comentarios."
      ]
    },
    {
      "cell_type": "markdown",
      "metadata": {
        "id": "CRpXEpWpw29q"
      },
      "source": [
        "El clasificador que se usará es el mostrado por [Tensorflow](https://www.tensorflow.org/tutorials/keras/text_classification?hl=es) para clasificar frases como positivas o negativas."
      ]
    },
    {
      "cell_type": "code",
      "metadata": {
        "id": "TDIn6Q56uIKL"
      },
      "source": [
        "import matplotlib.pyplot as plt\n",
        "import os\n",
        "import re\n",
        "import shutil\n",
        "import string\n",
        "import tensorflow as tf\n",
        "\n",
        "from tensorflow.keras import layers\n",
        "from tensorflow.keras import losses\n",
        "from tensorflow.keras import preprocessing\n",
        "from tensorflow.keras.layers.experimental.preprocessing import TextVectorization"
      ],
      "execution_count": null,
      "outputs": []
    },
    {
      "cell_type": "code",
      "metadata": {
        "id": "DdFNSUEdgasJ"
      },
      "source": [
        "url = \"https://ai.stanford.edu/~amaas/data/sentiment/aclImdb_v1.tar.gz\"\n",
        "\n",
        "dataset = tf.keras.utils.get_file(\"aclImdb_v1\", url,\n",
        "                                    untar=True, cache_dir='.',\n",
        "                                    cache_subdir='')#untar se pone true si el archivo se tiene que descomprimir\n",
        "\n",
        "dataset_dir = os.path.join(os.path.dirname(dataset), 'aclImdb')"
      ],
      "execution_count": null,
      "outputs": []
    },
    {
      "cell_type": "code",
      "metadata": {
        "colab": {
          "base_uri": "https://localhost:8080/"
        },
        "id": "jptDwr52kRbj",
        "outputId": "c7aa04b9-8a75-4bbb-cfb5-27ed0e2176fa"
      },
      "source": [
        "train_dir = os.path.join(dataset_dir, 'train')\n",
        "print(os.listdir(train_dir))"
      ],
      "execution_count": null,
      "outputs": [
        {
          "output_type": "stream",
          "name": "stdout",
          "text": [
            "['unsupBow.feat', 'pos', 'labeledBow.feat', 'urls_pos.txt', 'urls_neg.txt', 'neg', 'unsup', 'urls_unsup.txt']\n"
          ]
        }
      ]
    },
    {
      "cell_type": "code",
      "metadata": {
        "colab": {
          "base_uri": "https://localhost:8080/"
        },
        "id": "ZqWELB0IlRvU",
        "outputId": "3e1f1d58-d4cb-4d35-9833-cc109d96c0f2"
      },
      "source": [
        "sample_file = os.path.join(train_dir, 'pos/1181_9.txt')\n",
        "with open(sample_file) as f:\n",
        "  print(f.read())"
      ],
      "execution_count": null,
      "outputs": [
        {
          "output_type": "stream",
          "name": "stdout",
          "text": [
            "Rachel Griffiths writes and directs this award winning short film. A heartwarming story about coping with grief and cherishing the memory of those we've loved and lost. Although, only 15 minutes long, Griffiths manages to capture so much emotion and truth onto film in the short space of time. Bud Tingwell gives a touching performance as Will, a widower struggling to cope with his wife's death. Will is confronted by the harsh reality of loneliness and helplessness as he proceeds to take care of Ruth's pet cow, Tulip. The film displays the grief and responsibility one feels for those they have loved and lost. Good cinematography, great direction, and superbly acted. It will bring tears to all those who have lost a loved one, and survived.\n"
          ]
        }
      ]
    },
    {
      "cell_type": "code",
      "metadata": {
        "id": "8fnkidrhmiHQ"
      },
      "source": [
        "remove_dir = os.path.join(train_dir, 'unsup')\n",
        "shutil.rmtree(remove_dir)"
      ],
      "execution_count": null,
      "outputs": []
    },
    {
      "cell_type": "code",
      "metadata": {
        "colab": {
          "base_uri": "https://localhost:8080/"
        },
        "id": "t3ugiljKnoDM",
        "outputId": "5341e12f-6945-47fe-f3de-2a35d9b10d00"
      },
      "source": [
        "batch_size = 32\n",
        "seed = 42\n",
        "\n",
        "raw_train_ds = tf.keras.preprocessing.text_dataset_from_directory(\n",
        "    'aclImdb/train',\n",
        "    batch_size=batch_size,\n",
        "    validation_split=0.2,\n",
        "    subset='training',\n",
        "    seed=seed)"
      ],
      "execution_count": null,
      "outputs": [
        {
          "output_type": "stream",
          "name": "stdout",
          "text": [
            "Found 25000 files belonging to 2 classes.\n",
            "Using 20000 files for training.\n"
          ]
        }
      ]
    },
    {
      "cell_type": "code",
      "metadata": {
        "id": "5V8DYiQSnpbf"
      },
      "source": [
        "for text_batch, label_batch in raw_train_ds.take(1):\n",
        "  for i in range(4):\n",
        "    print(\"Review\", text_batch.numpy()[i])\n",
        "    print(\"Label\", label_batch.numpy()[i])"
      ],
      "execution_count": null,
      "outputs": []
    },
    {
      "cell_type": "code",
      "metadata": {
        "colab": {
          "base_uri": "https://localhost:8080/"
        },
        "id": "yUwryDOBnvUz",
        "outputId": "98643d7b-39ac-4741-dbc2-4f6a2d19f4cf"
      },
      "source": [
        "raw_val_ds = tf.keras.preprocessing.text_dataset_from_directory(\n",
        "    'aclImdb/train',\n",
        "    batch_size=batch_size,\n",
        "    validation_split=0.2,\n",
        "    subset='validation',\n",
        "    seed=seed)"
      ],
      "execution_count": null,
      "outputs": [
        {
          "output_type": "stream",
          "name": "stdout",
          "text": [
            "Found 25000 files belonging to 2 classes.\n",
            "Using 5000 files for validation.\n"
          ]
        }
      ]
    },
    {
      "cell_type": "code",
      "metadata": {
        "colab": {
          "base_uri": "https://localhost:8080/"
        },
        "id": "OZz316tNn0K-",
        "outputId": "55cb4aa6-4114-4a89-9cbc-19a9a8887716"
      },
      "source": [
        "raw_test_ds = tf.keras.preprocessing.text_dataset_from_directory(\n",
        "    'aclImdb/test',\n",
        "    batch_size=batch_size)"
      ],
      "execution_count": null,
      "outputs": [
        {
          "output_type": "stream",
          "name": "stdout",
          "text": [
            "Found 25000 files belonging to 2 classes.\n"
          ]
        }
      ]
    },
    {
      "cell_type": "code",
      "metadata": {
        "id": "PUr_Z8IKn1xl"
      },
      "source": [
        "def custom_standardization(input_data):\n",
        "  lowercase = tf.strings.lower(input_data)\n",
        "  stripped_html = tf.strings.regex_replace(lowercase, '<br />', ' ')\n",
        "  return tf.strings.regex_replace(stripped_html,\n",
        "                                  '[%s]' % re.escape(string.punctuation),#<- Re escape escapa los signos de puntuación de forma que por ejemplo un \\ será convertido a \\\\\n",
        "                                  '')#<- Elimina los signos de puntuación"
      ],
      "execution_count": null,
      "outputs": []
    },
    {
      "cell_type": "code",
      "metadata": {
        "id": "EV7tL0Eln3jD"
      },
      "source": [
        "max_features = 10000\n",
        "sequence_length = 250\n",
        "\n",
        "vectorize_layer = TextVectorization(\n",
        "    standardize=custom_standardization,\n",
        "    max_tokens=max_features,\n",
        "    output_mode='int',\n",
        "    output_sequence_length=sequence_length)"
      ],
      "execution_count": null,
      "outputs": []
    },
    {
      "cell_type": "code",
      "metadata": {
        "id": "U8NPMNqWn-oc"
      },
      "source": [
        "# Make a text-only dataset (without labels), then call adapt\n",
        "train_text = raw_train_ds.map(lambda x, y: x)\n",
        "vectorize_layer.adapt(train_text)"
      ],
      "execution_count": null,
      "outputs": []
    },
    {
      "cell_type": "code",
      "metadata": {
        "id": "2RcA-HR7n_5o"
      },
      "source": [
        "def vectorize_text(text, label):\n",
        "  text = tf.expand_dims(text, -1)\n",
        "  return vectorize_layer(text), label"
      ],
      "execution_count": null,
      "outputs": []
    },
    {
      "cell_type": "code",
      "metadata": {
        "id": "m9-6Hn0FoBrT"
      },
      "source": [
        "# retrieve a batch (of 32 reviews and labels) from the dataset\n",
        "text_batch, label_batch = next(iter(raw_train_ds))\n",
        "first_review, first_label = text_batch[0], label_batch[0]\n",
        "print(\"Review\", first_review)\n",
        "print(\"Label\", raw_train_ds.class_names[first_label])\n",
        "print(\"Vectorized review\", vectorize_text(first_review, first_label))"
      ],
      "execution_count": null,
      "outputs": []
    },
    {
      "cell_type": "code",
      "metadata": {
        "id": "qDZH_G8moJqQ"
      },
      "source": [
        "train_ds = raw_train_ds.map(vectorize_text)\n",
        "val_ds = raw_val_ds.map(vectorize_text)\n",
        "test_ds = raw_test_ds.map(vectorize_text)"
      ],
      "execution_count": null,
      "outputs": []
    },
    {
      "cell_type": "code",
      "metadata": {
        "id": "6ovwAdDpoMec"
      },
      "source": [
        "AUTOTUNE = tf.data.AUTOTUNE#<- Autotune precarga datos de entrenamiento y ajusta la cantidad para ahorrar tiempo\n",
        "\n",
        "train_ds = train_ds.cache().prefetch(buffer_size=AUTOTUNE)\n",
        "val_ds = val_ds.cache().prefetch(buffer_size=AUTOTUNE)\n",
        "test_ds = test_ds.cache().prefetch(buffer_size=AUTOTUNE)"
      ],
      "execution_count": null,
      "outputs": []
    },
    {
      "cell_type": "code",
      "metadata": {
        "id": "HMbgi0-3oPY7"
      },
      "source": [
        "embedding_dim = 16"
      ],
      "execution_count": null,
      "outputs": []
    },
    {
      "cell_type": "code",
      "metadata": {
        "id": "QW3bq0ygoR1R"
      },
      "source": [
        "model = tf.keras.Sequential([\n",
        "  layers.Embedding(max_features + 1, embedding_dim),\n",
        "  layers.Dropout(0.2),\n",
        "  layers.GlobalAveragePooling1D(),\n",
        "  layers.Dropout(0.2),\n",
        "  layers.Dense(1)])"
      ],
      "execution_count": null,
      "outputs": []
    },
    {
      "cell_type": "code",
      "metadata": {
        "id": "rXIctgKwoWDw"
      },
      "source": [
        "model.compile(loss=losses.BinaryCrossentropy(from_logits=True),\n",
        "              optimizer='adam',\n",
        "              metrics=tf.metrics.BinaryAccuracy(threshold=0.0))"
      ],
      "execution_count": null,
      "outputs": []
    },
    {
      "cell_type": "code",
      "metadata": {
        "colab": {
          "base_uri": "https://localhost:8080/"
        },
        "id": "ZstcikgboXso",
        "outputId": "9dee6c41-d889-4984-80d6-413a55475edc"
      },
      "source": [
        "epochs = 20\n",
        "model.fit(\n",
        "    train_ds,\n",
        "    validation_data=val_ds,\n",
        "    epochs=epochs)"
      ],
      "execution_count": null,
      "outputs": [
        {
          "output_type": "stream",
          "name": "stdout",
          "text": [
            "Epoch 1/20\n",
            "625/625 [==============================] - 11s 12ms/step - loss: 0.6646 - binary_accuracy: 0.6926 - val_loss: 0.6162 - val_binary_accuracy: 0.7724\n",
            "Epoch 2/20\n",
            "625/625 [==============================] - 3s 4ms/step - loss: 0.5501 - binary_accuracy: 0.8015 - val_loss: 0.4992 - val_binary_accuracy: 0.8208\n",
            "Epoch 3/20\n",
            "625/625 [==============================] - 3s 4ms/step - loss: 0.4452 - binary_accuracy: 0.8438 - val_loss: 0.4206 - val_binary_accuracy: 0.8468\n",
            "Epoch 4/20\n",
            "625/625 [==============================] - 3s 4ms/step - loss: 0.3792 - binary_accuracy: 0.8674 - val_loss: 0.3741 - val_binary_accuracy: 0.8608\n",
            "Epoch 5/20\n",
            "625/625 [==============================] - 3s 4ms/step - loss: 0.3354 - binary_accuracy: 0.8795 - val_loss: 0.3449 - val_binary_accuracy: 0.8664\n",
            "Epoch 6/20\n",
            "625/625 [==============================] - 3s 4ms/step - loss: 0.3056 - binary_accuracy: 0.8888 - val_loss: 0.3258 - val_binary_accuracy: 0.8716\n",
            "Epoch 7/20\n",
            "625/625 [==============================] - 3s 4ms/step - loss: 0.2807 - binary_accuracy: 0.8972 - val_loss: 0.3126 - val_binary_accuracy: 0.8738\n",
            "Epoch 8/20\n",
            "625/625 [==============================] - 3s 4ms/step - loss: 0.2624 - binary_accuracy: 0.9041 - val_loss: 0.3033 - val_binary_accuracy: 0.8768\n",
            "Epoch 9/20\n",
            "625/625 [==============================] - 3s 4ms/step - loss: 0.2450 - binary_accuracy: 0.9117 - val_loss: 0.2967 - val_binary_accuracy: 0.8776\n",
            "Epoch 10/20\n",
            "625/625 [==============================] - 3s 4ms/step - loss: 0.2316 - binary_accuracy: 0.9169 - val_loss: 0.2922 - val_binary_accuracy: 0.8790\n",
            "Epoch 11/20\n",
            "625/625 [==============================] - 3s 4ms/step - loss: 0.2183 - binary_accuracy: 0.9227 - val_loss: 0.2889 - val_binary_accuracy: 0.8802\n",
            "Epoch 12/20\n",
            "625/625 [==============================] - 3s 4ms/step - loss: 0.2077 - binary_accuracy: 0.9256 - val_loss: 0.2870 - val_binary_accuracy: 0.8822\n",
            "Epoch 13/20\n",
            "625/625 [==============================] - 3s 4ms/step - loss: 0.1971 - binary_accuracy: 0.9305 - val_loss: 0.2862 - val_binary_accuracy: 0.8808\n",
            "Epoch 14/20\n",
            "625/625 [==============================] - 3s 4ms/step - loss: 0.1867 - binary_accuracy: 0.9349 - val_loss: 0.2864 - val_binary_accuracy: 0.8818\n",
            "Epoch 15/20\n",
            "625/625 [==============================] - 3s 4ms/step - loss: 0.1780 - binary_accuracy: 0.9384 - val_loss: 0.2872 - val_binary_accuracy: 0.8824\n",
            "Epoch 16/20\n",
            "625/625 [==============================] - 3s 4ms/step - loss: 0.1705 - binary_accuracy: 0.9410 - val_loss: 0.2886 - val_binary_accuracy: 0.8838\n",
            "Epoch 17/20\n",
            "625/625 [==============================] - 3s 4ms/step - loss: 0.1632 - binary_accuracy: 0.9444 - val_loss: 0.2906 - val_binary_accuracy: 0.8838\n",
            "Epoch 18/20\n",
            "625/625 [==============================] - 3s 5ms/step - loss: 0.1557 - binary_accuracy: 0.9480 - val_loss: 0.2933 - val_binary_accuracy: 0.8824\n",
            "Epoch 19/20\n",
            "625/625 [==============================] - 3s 4ms/step - loss: 0.1485 - binary_accuracy: 0.9503 - val_loss: 0.2961 - val_binary_accuracy: 0.8818\n",
            "Epoch 20/20\n",
            "625/625 [==============================] - 3s 4ms/step - loss: 0.1412 - binary_accuracy: 0.9531 - val_loss: 0.3000 - val_binary_accuracy: 0.8810\n"
          ]
        },
        {
          "output_type": "execute_result",
          "data": {
            "text/plain": [
              "<keras.callbacks.History at 0x7facfebaca90>"
            ]
          },
          "metadata": {},
          "execution_count": 34
        }
      ]
    },
    {
      "cell_type": "code",
      "metadata": {
        "id": "kl2navK0qclv"
      },
      "source": [
        "export_model = tf.keras.Sequential([\n",
        "  vectorize_layer,\n",
        "  model,\n",
        "  layers.Activation('sigmoid')\n",
        "])\n",
        "\n",
        "export_model.compile(\n",
        "    loss=losses.BinaryCrossentropy(from_logits=False), optimizer=\"adam\", metrics=['accuracy']\n",
        ")\n"
      ],
      "execution_count": null,
      "outputs": []
    },
    {
      "cell_type": "code",
      "metadata": {
        "colab": {
          "base_uri": "https://localhost:8080/"
        },
        "cellView": "form",
        "id": "YdBSzuLJp8nv",
        "outputId": "127778cd-e6be-4624-9c1f-a1cbf346c3e9"
      },
      "source": [
        "#@title Evaluar el modelo { run: \"auto\", vertical-output: true }\n",
        "texto = \"Excelent movie\" #@param [\"Excelent movie\", \"Terrible...\"] {allow-input: true}\n",
        "\n",
        "export_model.predict([texto])[0]"
      ],
      "execution_count": null,
      "outputs": [
        {
          "output_type": "execute_result",
          "data": {
            "text/plain": [
              "array([0.0378819], dtype=float32)"
            ]
          },
          "metadata": {},
          "execution_count": 45
        }
      ]
    },
    {
      "cell_type": "markdown",
      "metadata": {
        "id": "TIcXp5wAupkm"
      },
      "source": [
        "#Clasificacion de texto para obtener el contexto de una frase"
      ]
    },
    {
      "cell_type": "markdown",
      "metadata": {
        "id": "tbw20vfWyeRZ"
      },
      "source": [
        "Ejecutar la siguiente celda si no se tiene un json para hacer la ejecucion"
      ]
    },
    {
      "cell_type": "code",
      "metadata": {
        "id": "gvIEmzrsupLG"
      },
      "source": [
        "datos=open(\"./datos.json\",\"w\")\n",
        "datos.write(\"{\\\"contenido\\\":[{\\\"tag\\\":\\\"saludo\\\",\\\"patrones\\\":[\\\"Hola\\\",\\\"Buen dia\\\",\\\"Buenos dias\\\",\\\"Buenas tardes\\\"]},\"+\n",
        "            \"{\\\"tag\\\":\\\"despedida\\\",\\\"patrones\\\":[\\\"Adios\\\",\\\"Hasta luego\\\",\\\"Nos vemos\\\"]},\"+\n",
        "            \"{\\\"tag\\\":\\\"servicio\\\",\\\"patrones\\\":[\\\"¿que servicios ofrecen?\\\",\\\"¿que productos ofrecen\\\",\\\"¿que hacen ustedes?\\\",\\\"¿que productos venden?\\\",\\\"¿que venden?\\\",\\\"¿que hace la empresa?\\\",\\\"¿que tienen a la venta?\\\"]},\"+\n",
        "            \"{\\\"tag\\\":\\\"errores\\\",\\\"patrones\\\":[\\\"quisiera hacer una queja\\\",\\\"tengo problemas con esto\\\",\\\"no funciona\\\",\\\"hay problemas con esto\\\",\\\"podria comunicarme con alguien para solucionar mi problema\\\",\\\"tengo un problema\\\",\\\"aqui hay un error\\\",\\\"hay un fallo\\\",\\\"Me fallo\\\",\\\"tengo un error con esto\\\",\\\"tengo problemas\\\",\\\"quisiera quejarme por un problema\\\",\\\"tengo un inconveniente\\\",\\\"quisiera quejarme por un inconveniente\\\",\\\"quiero quejarme por un inconveniente\\\"]},\"+\n",
        "            \"{\\\"tag\\\":\\\"trabajo\\\",\\\"patrones\\\":[\\\"¿Hay alguna oferta de trabajo?\\\",\\\"¿quisiera trabajar?\\\",\\\"¿ofrecen trabajo?\\\",\\\"tiene ofertas de trabajo\\\",\\\"Tiene algun empleo disponible\\\",\\\"ofrece algun empleo\\\"]}]}\")\n",
        "datos.close()"
      ],
      "execution_count": null,
      "outputs": []
    },
    {
      "cell_type": "code",
      "metadata": {
        "id": "KDGmLr7ivnVS",
        "colab": {
          "base_uri": "https://localhost:8080/"
        },
        "outputId": "001d7318-d82c-40f0-8fac-b1041890234d"
      },
      "source": [
        "!pip install nltk\n",
        "!pip install tensorflow\n",
        "!pip install tflearn"
      ],
      "execution_count": null,
      "outputs": [
        {
          "output_type": "stream",
          "name": "stdout",
          "text": [
            "Looking in indexes: https://pypi.org/simple, https://us-python.pkg.dev/colab-wheels/public/simple/\n",
            "Requirement already satisfied: nltk in /usr/local/lib/python3.7/dist-packages (3.7)\n",
            "Requirement already satisfied: click in /usr/local/lib/python3.7/dist-packages (from nltk) (7.1.2)\n",
            "Requirement already satisfied: tqdm in /usr/local/lib/python3.7/dist-packages (from nltk) (4.64.0)\n",
            "Requirement already satisfied: regex>=2021.8.3 in /usr/local/lib/python3.7/dist-packages (from nltk) (2022.6.2)\n",
            "Requirement already satisfied: joblib in /usr/local/lib/python3.7/dist-packages (from nltk) (1.1.0)\n",
            "Looking in indexes: https://pypi.org/simple, https://us-python.pkg.dev/colab-wheels/public/simple/\n",
            "Requirement already satisfied: tensorflow in /usr/local/lib/python3.7/dist-packages (2.8.2+zzzcolab20220527125636)\n",
            "Requirement already satisfied: typing-extensions>=3.6.6 in /usr/local/lib/python3.7/dist-packages (from tensorflow) (4.1.1)\n",
            "Requirement already satisfied: grpcio<2.0,>=1.24.3 in /usr/local/lib/python3.7/dist-packages (from tensorflow) (1.46.3)\n",
            "Requirement already satisfied: h5py>=2.9.0 in /usr/local/lib/python3.7/dist-packages (from tensorflow) (3.1.0)\n",
            "Requirement already satisfied: setuptools in /usr/local/lib/python3.7/dist-packages (from tensorflow) (57.4.0)\n",
            "Requirement already satisfied: six>=1.12.0 in /usr/local/lib/python3.7/dist-packages (from tensorflow) (1.15.0)\n",
            "Requirement already satisfied: tensorboard<2.9,>=2.8 in /usr/local/lib/python3.7/dist-packages (from tensorflow) (2.8.0)\n",
            "Requirement already satisfied: termcolor>=1.1.0 in /usr/local/lib/python3.7/dist-packages (from tensorflow) (1.1.0)\n",
            "Requirement already satisfied: gast>=0.2.1 in /usr/local/lib/python3.7/dist-packages (from tensorflow) (0.5.3)\n",
            "Requirement already satisfied: keras<2.9,>=2.8.0rc0 in /usr/local/lib/python3.7/dist-packages (from tensorflow) (2.8.0)\n",
            "Requirement already satisfied: numpy>=1.20 in /usr/local/lib/python3.7/dist-packages (from tensorflow) (1.21.6)\n",
            "Requirement already satisfied: absl-py>=0.4.0 in /usr/local/lib/python3.7/dist-packages (from tensorflow) (1.1.0)\n",
            "Requirement already satisfied: google-pasta>=0.1.1 in /usr/local/lib/python3.7/dist-packages (from tensorflow) (0.2.0)\n",
            "Requirement already satisfied: keras-preprocessing>=1.1.1 in /usr/local/lib/python3.7/dist-packages (from tensorflow) (1.1.2)\n",
            "Requirement already satisfied: tensorflow-io-gcs-filesystem>=0.23.1 in /usr/local/lib/python3.7/dist-packages (from tensorflow) (0.26.0)\n",
            "Requirement already satisfied: astunparse>=1.6.0 in /usr/local/lib/python3.7/dist-packages (from tensorflow) (1.6.3)\n",
            "Requirement already satisfied: opt-einsum>=2.3.2 in /usr/local/lib/python3.7/dist-packages (from tensorflow) (3.3.0)\n",
            "Requirement already satisfied: libclang>=9.0.1 in /usr/local/lib/python3.7/dist-packages (from tensorflow) (14.0.1)\n",
            "Requirement already satisfied: tensorflow-estimator<2.9,>=2.8 in /usr/local/lib/python3.7/dist-packages (from tensorflow) (2.8.0)\n",
            "Requirement already satisfied: protobuf<3.20,>=3.9.2 in /usr/local/lib/python3.7/dist-packages (from tensorflow) (3.17.3)\n",
            "Requirement already satisfied: wrapt>=1.11.0 in /usr/local/lib/python3.7/dist-packages (from tensorflow) (1.14.1)\n",
            "Requirement already satisfied: flatbuffers>=1.12 in /usr/local/lib/python3.7/dist-packages (from tensorflow) (2.0)\n",
            "Requirement already satisfied: wheel<1.0,>=0.23.0 in /usr/local/lib/python3.7/dist-packages (from astunparse>=1.6.0->tensorflow) (0.37.1)\n",
            "Requirement already satisfied: cached-property in /usr/local/lib/python3.7/dist-packages (from h5py>=2.9.0->tensorflow) (1.5.2)\n",
            "Requirement already satisfied: werkzeug>=0.11.15 in /usr/local/lib/python3.7/dist-packages (from tensorboard<2.9,>=2.8->tensorflow) (1.0.1)\n",
            "Requirement already satisfied: markdown>=2.6.8 in /usr/local/lib/python3.7/dist-packages (from tensorboard<2.9,>=2.8->tensorflow) (3.3.7)\n",
            "Requirement already satisfied: tensorboard-plugin-wit>=1.6.0 in /usr/local/lib/python3.7/dist-packages (from tensorboard<2.9,>=2.8->tensorflow) (1.8.1)\n",
            "Requirement already satisfied: google-auth-oauthlib<0.5,>=0.4.1 in /usr/local/lib/python3.7/dist-packages (from tensorboard<2.9,>=2.8->tensorflow) (0.4.6)\n",
            "Requirement already satisfied: requests<3,>=2.21.0 in /usr/local/lib/python3.7/dist-packages (from tensorboard<2.9,>=2.8->tensorflow) (2.23.0)\n",
            "Requirement already satisfied: google-auth<3,>=1.6.3 in /usr/local/lib/python3.7/dist-packages (from tensorboard<2.9,>=2.8->tensorflow) (1.35.0)\n",
            "Requirement already satisfied: tensorboard-data-server<0.7.0,>=0.6.0 in /usr/local/lib/python3.7/dist-packages (from tensorboard<2.9,>=2.8->tensorflow) (0.6.1)\n",
            "Requirement already satisfied: pyasn1-modules>=0.2.1 in /usr/local/lib/python3.7/dist-packages (from google-auth<3,>=1.6.3->tensorboard<2.9,>=2.8->tensorflow) (0.2.8)\n",
            "Requirement already satisfied: cachetools<5.0,>=2.0.0 in /usr/local/lib/python3.7/dist-packages (from google-auth<3,>=1.6.3->tensorboard<2.9,>=2.8->tensorflow) (4.2.4)\n",
            "Requirement already satisfied: rsa<5,>=3.1.4 in /usr/local/lib/python3.7/dist-packages (from google-auth<3,>=1.6.3->tensorboard<2.9,>=2.8->tensorflow) (4.8)\n",
            "Requirement already satisfied: requests-oauthlib>=0.7.0 in /usr/local/lib/python3.7/dist-packages (from google-auth-oauthlib<0.5,>=0.4.1->tensorboard<2.9,>=2.8->tensorflow) (1.3.1)\n",
            "Requirement already satisfied: importlib-metadata>=4.4 in /usr/local/lib/python3.7/dist-packages (from markdown>=2.6.8->tensorboard<2.9,>=2.8->tensorflow) (4.11.4)\n",
            "Requirement already satisfied: zipp>=0.5 in /usr/local/lib/python3.7/dist-packages (from importlib-metadata>=4.4->markdown>=2.6.8->tensorboard<2.9,>=2.8->tensorflow) (3.8.0)\n",
            "Requirement already satisfied: pyasn1<0.5.0,>=0.4.6 in /usr/local/lib/python3.7/dist-packages (from pyasn1-modules>=0.2.1->google-auth<3,>=1.6.3->tensorboard<2.9,>=2.8->tensorflow) (0.4.8)\n",
            "Requirement already satisfied: idna<3,>=2.5 in /usr/local/lib/python3.7/dist-packages (from requests<3,>=2.21.0->tensorboard<2.9,>=2.8->tensorflow) (2.10)\n",
            "Requirement already satisfied: urllib3!=1.25.0,!=1.25.1,<1.26,>=1.21.1 in /usr/local/lib/python3.7/dist-packages (from requests<3,>=2.21.0->tensorboard<2.9,>=2.8->tensorflow) (1.24.3)\n",
            "Requirement already satisfied: certifi>=2017.4.17 in /usr/local/lib/python3.7/dist-packages (from requests<3,>=2.21.0->tensorboard<2.9,>=2.8->tensorflow) (2022.6.15)\n",
            "Requirement already satisfied: chardet<4,>=3.0.2 in /usr/local/lib/python3.7/dist-packages (from requests<3,>=2.21.0->tensorboard<2.9,>=2.8->tensorflow) (3.0.4)\n",
            "Requirement already satisfied: oauthlib>=3.0.0 in /usr/local/lib/python3.7/dist-packages (from requests-oauthlib>=0.7.0->google-auth-oauthlib<0.5,>=0.4.1->tensorboard<2.9,>=2.8->tensorflow) (3.2.0)\n",
            "Looking in indexes: https://pypi.org/simple, https://us-python.pkg.dev/colab-wheels/public/simple/\n",
            "Collecting tflearn\n",
            "  Downloading tflearn-0.5.0.tar.gz (107 kB)\n",
            "\u001b[K     |████████████████████████████████| 107 kB 4.8 MB/s \n",
            "\u001b[?25hRequirement already satisfied: numpy in /usr/local/lib/python3.7/dist-packages (from tflearn) (1.21.6)\n",
            "Requirement already satisfied: six in /usr/local/lib/python3.7/dist-packages (from tflearn) (1.15.0)\n",
            "Requirement already satisfied: Pillow in /usr/local/lib/python3.7/dist-packages (from tflearn) (7.1.2)\n",
            "Building wheels for collected packages: tflearn\n",
            "  Building wheel for tflearn (setup.py) ... \u001b[?25l\u001b[?25hdone\n",
            "  Created wheel for tflearn: filename=tflearn-0.5.0-py3-none-any.whl size=127299 sha256=f48ec2b1b958bb32d9e2873d46d14918f1295d58eaa0238dcb73d2dfe55653f4\n",
            "  Stored in directory: /root/.cache/pip/wheels/5f/14/2e/1d8e28cc47a5a931a2fb82438c9e37ef9246cc6a3774520271\n",
            "Successfully built tflearn\n",
            "Installing collected packages: tflearn\n",
            "Successfully installed tflearn-0.5.0\n"
          ]
        }
      ]
    },
    {
      "cell_type": "code",
      "metadata": {
        "id": "8BOMpwBnvnxN"
      },
      "source": [
        "import nltk\n",
        "from nltk.stem.lancaster import LancasterStemmer\n",
        "import numpy as np\n",
        "import tflearn\n",
        "import tensorflow as tf\n",
        "import json\n",
        "import random"
      ],
      "execution_count": null,
      "outputs": []
    },
    {
      "cell_type": "code",
      "metadata": {
        "colab": {
          "base_uri": "https://localhost:8080/"
        },
        "id": "XrPGKhA-vo1Z",
        "outputId": "a828c6b2-4e8d-403d-bfc6-0ec14c2bf0ce"
      },
      "source": [
        "stemmer=LancasterStemmer()\n",
        "with open(\"datos.json\",encoding=\"utf-8\") as archivo:\n",
        "  datos=json.load(archivo)\n",
        "\n",
        "nltk.download('punkt')"
      ],
      "execution_count": null,
      "outputs": [
        {
          "output_type": "stream",
          "name": "stderr",
          "text": [
            "[nltk_data] Downloading package punkt to /root/nltk_data...\n",
            "[nltk_data]   Unzipping tokenizers/punkt.zip.\n"
          ]
        },
        {
          "output_type": "execute_result",
          "data": {
            "text/plain": [
              "True"
            ]
          },
          "metadata": {},
          "execution_count": 50
        }
      ]
    },
    {
      "cell_type": "code",
      "metadata": {
        "colab": {
          "base_uri": "https://localhost:8080/"
        },
        "id": "LHrar4LPw3nH",
        "outputId": "175397eb-e36a-4d26-d74b-4d661c696b7b"
      },
      "source": [
        "palabras=[]\n",
        "tags=[]\n",
        "auxX=[]\n",
        "auxY=[]\n",
        "\n",
        "for contenido in datos[\"contenido\"]:\n",
        "  for patrones in contenido[\"patrones\"]:\n",
        "    auxPalabra=nltk.word_tokenize(patrones)\n",
        "    palabras.extend(auxPalabra)\n",
        "    auxX.append(auxPalabra)\n",
        "    auxY.append(contenido[\"tag\"])\n",
        "\n",
        "    if contenido[\"tag\"] not in tags:\n",
        "      tags.append(contenido[\"tag\"])\n",
        "\n",
        "palabras=[stemmer.stem(w.lower()) for w in palabras if (w!=\"?\" and w!=\"¿\")]\n",
        "palabras=sorted(list(set(palabras)))\n",
        "print(set(palabras))\n",
        "tags=sorted(tags)\n",
        "print(palabras)\n",
        "\n",
        "entrenamiento=[]\n",
        "salida=[]\n",
        "salidaVacia=[0 for _ in range(len(tags))]\n",
        "\n",
        "for x, documento in enumerate(auxX):\n",
        "  cub=[]\n",
        "  auxPalabra=[stemmer.stem(w.lower()) for w in documento]\n",
        "  for w in palabras:\n",
        "      cub.append(1) if w in auxPalabra else cub.append(0)\n",
        "  filaSalida=salidaVacia[:]\n",
        "  filaSalida[tags.index(auxY[x])]=1\n",
        "  entrenamiento.append(cub)\n",
        "  salida.append(filaSalida)\n",
        "entrenamiento=np.array(entrenamiento)\n",
        "salida=np.array(salida)"
      ],
      "execution_count": null,
      "outputs": [
        {
          "output_type": "stream",
          "name": "stdout",
          "text": [
            "{'hol', 'por', 'de', '¿hay', 'adio', 'tengo', 'comunicarm', 'tien', 'tard', 'empres', 'par', 'problema', 'mi', 'solucion', 'quej', 'inconveny', 'oferta', 'quejarm', 'trabajo', '¿quisiera', 'con', 'alguy', 'me', 'problem', 'nos', 'er', 'hac', 'empleo', 'servicio', 'vent', 'la', 'podr', 'aqu', 'quisier', 'quiero', 'esto', 'trabaj', 'ofrec', 'vend', 'hay', 'algun', 'un', 'producto', 'dia', '¿que', 'ofert', 'a', 'no', 'hast', 'fallo', 'funcion', 'bueno', 'ust', 'vemo', 'buena', '¿ofrecen', 'dispon', 'buen', 'luego'}\n",
            "['a', 'adio', 'algun', 'alguy', 'aqu', 'buen', 'buena', 'bueno', 'comunicarm', 'con', 'de', 'dia', 'dispon', 'empleo', 'empres', 'er', 'esto', 'fallo', 'funcion', 'hac', 'hast', 'hay', 'hol', 'inconveny', 'la', 'luego', 'me', 'mi', 'no', 'nos', 'ofert', 'oferta', 'ofrec', 'par', 'podr', 'por', 'problem', 'problema', 'producto', 'quej', 'quejarm', 'quiero', 'quisier', 'servicio', 'solucion', 'tard', 'tengo', 'tien', 'trabaj', 'trabajo', 'un', 'ust', 'vemo', 'vend', 'vent', '¿hay', '¿ofrecen', '¿que', '¿quisiera']\n"
          ]
        }
      ]
    },
    {
      "cell_type": "code",
      "metadata": {
        "colab": {
          "base_uri": "https://localhost:8080/"
        },
        "id": "1CGHFQgBxImr",
        "outputId": "c9199b3b-a96b-44a6-cead-35f2f4e0f70f"
      },
      "source": [
        "from tensorflow.python.framework import ops\n",
        "ops.reset_default_graph()\n",
        "\n",
        "red=tflearn.input_data(shape=[None,len(entrenamiento[0])])\n",
        "red=tflearn.fully_connected(red,15)\n",
        "red=tflearn.fully_connected(red,15)\n",
        "\n",
        "red=tflearn.fully_connected(red,len(salida[0]),activation=\"softmax\")\n",
        "\n",
        "red=tflearn.regression(red)\n",
        "modelo=tflearn.DNN(red)"
      ],
      "execution_count": null,
      "outputs": [
        {
          "output_type": "stream",
          "name": "stdout",
          "text": [
            "WARNING:tensorflow:From /usr/local/lib/python3.7/dist-packages/tflearn/initializations.py:165: calling TruncatedNormal.__init__ (from tensorflow.python.ops.init_ops) with dtype is deprecated and will be removed in a future version.\n",
            "Instructions for updating:\n",
            "Call initializer instance with the dtype argument instead of passing it to the constructor\n"
          ]
        }
      ]
    },
    {
      "cell_type": "code",
      "metadata": {
        "colab": {
          "base_uri": "https://localhost:8080/"
        },
        "id": "tkPDSTgVxgqT",
        "outputId": "08045c4b-1d70-4124-c2ac-36f28058c0a4"
      },
      "source": [
        "modelo.fit(entrenamiento,salida,n_epoch=1000,batch_size=10)"
      ],
      "execution_count": null,
      "outputs": [
        {
          "output_type": "stream",
          "name": "stdout",
          "text": [
            "Training Step: 3999  | total loss: \u001b[1m\u001b[32m0.02312\u001b[0m\u001b[0m | time: 0.018s\n",
            "| Adam | epoch: 1000 | loss: 0.02312 -- iter: 30/35\n",
            "Training Step: 4000  | total loss: \u001b[1m\u001b[32m0.02260\u001b[0m\u001b[0m | time: 0.023s\n",
            "| Adam | epoch: 1000 | loss: 0.02260 -- iter: 35/35\n",
            "--\n"
          ]
        }
      ]
    },
    {
      "cell_type": "code",
      "metadata": {
        "colab": {
          "base_uri": "https://localhost:8080/"
        },
        "cellView": "form",
        "id": "wEL9N6mHx5M7",
        "outputId": "92f2cf96-eab1-432b-baeb-c3dd77ff6897"
      },
      "source": [
        "#@title Prueba del modelo { run: \"auto\", vertical-output: true }\n",
        "texto = \"\" #@param {type:\"string\"}\n",
        "entrada=texto\n",
        "cub=[0 for _ in range(len(palabras))]\n",
        "entradaProcesada=nltk.word_tokenize(entrada)\n",
        "entradaProcesada=[stemmer.stem(palabra.lower()) for palabra in entradaProcesada]\n",
        "for palabraIndividual in entradaProcesada:\n",
        "  for i,palabra in enumerate(palabras):\n",
        "    if palabra==palabraIndividual:\n",
        "      cub[i]=1\n",
        "    else:\n",
        "      cub[i]=0\n",
        "resultados=modelo.predict([np.array(cub)])\n",
        "print(resultados)\n",
        "print(tags)\n",
        "resultIndice=np.argmax(resultados)\n",
        "tag=tags[resultIndice]\n",
        "print(tag)\n",
        "\n",
        "respuestas={\n",
        "    \"despedida\":\"adios\",\n",
        "    \"errores\":\"lo sentimos\",\n",
        "    \"saludo\":\"hola\",\n",
        "    \"servicio\":\"...\",\n",
        "    \"trabajo\":\".,.\"\n",
        "}\n",
        "print(respuestas.get(tag))"
      ],
      "execution_count": null,
      "outputs": [
        {
          "output_type": "stream",
          "name": "stdout",
          "text": [
            "[[0.10683201 0.46585268 0.25528044 0.03847834 0.13355651]]\n",
            "['despedida', 'errores', 'saludo', 'servicio', 'trabajo']\n",
            "errores\n",
            "lo sentimos\n"
          ]
        }
      ]
    }
  ]
}