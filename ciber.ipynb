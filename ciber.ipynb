{
  "nbformat": 4,
  "nbformat_minor": 0,
  "metadata": {
    "colab": {
      "provenance": [],
      "collapsed_sections": [
        "Id80TX8hLKOm",
        "B4LrrGG1msZx",
        "3oBak1Zuqw_A"
      ],
      "include_colab_link": true
    },
    "kernelspec": {
      "name": "python3",
      "display_name": "Python 3"
    },
    "language_info": {
      "name": "python"
    }
  },
  "cells": [
    {
      "cell_type": "markdown",
      "metadata": {
        "id": "view-in-github",
        "colab_type": "text"
      },
      "source": [
        "<a href=\"https://colab.research.google.com/github/Michael-Jimenez-C/ACM-Material-pygroup/blob/main/ciber.ipynb\" target=\"_parent\"><img src=\"https://colab.research.google.com/assets/colab-badge.svg\" alt=\"Open In Colab\"/></a>"
      ]
    },
    {
      "cell_type": "code",
      "source": [
        "import sympy as sp\n",
        "from IPython.display import Latex, display_latex\n",
        "from sympy.solvers.inequalities import reduce_rational_inequalities\n",
        "import numpy as np\n",
        "sp.init_session()"
      ],
      "metadata": {
        "id": "ACrpCPzb4uyr",
        "colab": {
          "base_uri": "https://localhost:8080/"
        },
        "outputId": "3b6b597b-efc9-4b40-e78f-01852f416fd4"
      },
      "execution_count": 41,
      "outputs": [
        {
          "output_type": "stream",
          "name": "stdout",
          "text": [
            "IPython console for SymPy 1.7.1 (Python 3.8.15-64-bit) (ground types: python)\n",
            "\n",
            "These commands were executed:\n",
            ">>> from __future__ import division\n",
            ">>> from sympy import *\n",
            ">>> x, y, z, t = symbols('x y z t')\n",
            ">>> k, m, n = symbols('k m n', integer=True)\n",
            ">>> f, g, h = symbols('f g h', cls=Function)\n",
            ">>> init_printing()\n",
            "\n",
            "Documentation can be found at https://docs.sympy.org/1.7.1/\n",
            "\n"
          ]
        }
      ]
    },
    {
      "cell_type": "markdown",
      "source": [
        "#Cayley hamilton"
      ],
      "metadata": {
        "id": "Id80TX8hLKOm"
      }
    },
    {
      "cell_type": "code",
      "source": [
        "def cayleyHamilton(M:sp.Matrix,f)->sp.Matrix:\n",
        "  #Obtiene el polinomio caracteristico\n",
        "  k=sp.symbols('\\lambda')\n",
        "  ec1=lambda k:sp.det(M-k*sp.eye(M.shape[0]))\n",
        "  display_latex(Latex(r\"P(\\lambda)=\"+sp.latex(ec1(k))))\n",
        "  #Obtiene las raices\n",
        "  roots=list(sp.roots(ec1(k)).keys())\n",
        "  display_latex(Latex(\"Raices=\"+sp.latex(roots)))\n",
        "  #Polinomio residuo\n",
        "  G=sum([(k)**j*sp.symbols('a_{}'.format(j)) for j in reversed(range(int(sp.degree(ec1(k)))))])-f(k)\n",
        "  display_latex(Latex(r\"r(\\lambda)-f(\\lambda)=\"+sp.latex(G)))\n",
        "  #Construccion del sistema de ecuaciones:\n",
        "  A=[sp.N(G.subs(k,i)) for i in roots]\n",
        "  \n",
        "  if not sp.degree(ec1(k))==len(roots):\n",
        "    s=G\n",
        "    while len(A)<sp.degree(ec1(k)):\n",
        "      s=sp.diff(s,k)\n",
        "      display_latex(Latex(r\"\\frac{\\partial^n r}{\\partial \\lambda^n}\"+sp.latex(s)))\n",
        "      A+=[sp.N(s.subs(k,i)) for i in roots]\n",
        "  A=sp.Matrix(A)\n",
        "  display_latex(Latex(r\"Sistema=\"+sp.latex(A)))\n",
        "  #Solución del sistema de ecuaciones\n",
        "  r=sp.linsolve(A,[sp.symbols('a_{}'.format(j)) for j in reversed(range(int(sp.degree(ec1(k)))))])\n",
        "  display_latex(Latex(\"a_n=\"+sp.latex(r)))\n",
        "  r=r.args[0][:]\n",
        "  #Construccion de la funcion matricial\n",
        "  fx=0\n",
        "  for i,j in enumerate(reversed(range(0,len(r)-1))):\n",
        "    fx+=r[j]*(x**(i+1))\n",
        "\n",
        "  g=lambda s: fx.subs(x, s)+sp.eye(s.shape[0])*r[-1]\n",
        "  #Aplicacion a la matriz\n",
        "  _M=(sp.N(sp.simplify(g(sp.Matrix(M)))))\n",
        "  #Elimina la parte imaginaria si existe\n",
        "  _M=(_M+_M.conjugate())/2\n",
        "  return _M#Esta matriz ya está simplificada y transformo algunas expresiones a su forma decimal\n"
      ],
      "metadata": {
        "id": "V9r5KbUcvP_d"
      },
      "execution_count": null,
      "outputs": []
    },
    {
      "cell_type": "code",
      "source": [
        "def solucionar(A,B,C,u, X0, t0):\n",
        "  x,t,T=sp.symbols('x t T', real=True)\n",
        "  f=lambda x: sp.exp(x*t)\n",
        "  eAt=cayleyHamilton(A,f).subs(t,t-T)\n",
        "  eAt=sp.expand(eAt)\n",
        "  display_latex(Latex(\"e^{A{(t-\\tau)}}=\"+sp.latex(eAt)))\n",
        "  \n",
        "  X=sp.integrate(eAt*B*U,(T,t0,t))\n",
        "  X+=eAt.subs(T,t0)*X0\n",
        "  X=sp.simplify(X)\n",
        "  display_latex(Latex(sp.latex(X)))\n",
        "  y=C*X\n",
        "  display_latex(Latex(sp.latex(y)))\n",
        "  return X,y"
      ],
      "metadata": {
        "id": "t1mNIS5KTktQ"
      },
      "execution_count": null,
      "outputs": []
    },
    {
      "cell_type": "markdown",
      "source": [
        "Uso"
      ],
      "metadata": {
        "id": "KqT-Frb3Y0au"
      }
    },
    {
      "cell_type": "code",
      "source": [
        "x,t,T=sp.symbols('x t T', real=True)\n",
        "f=lambda x: sp.exp(x)\n",
        "A=[[5,6,5,7,5,5],\n",
        "   [0,1,7,2,3,7],\n",
        "   [0,0,2,5,2,2],\n",
        "   [0,0,0,1,5,9],\n",
        "   [0,0,0,1,6,1],\n",
        "   [0,0,9,5,7,1]]\n",
        "A=sp.Matrix(A)\n",
        "k=cayleyHamilton(A,f)\n",
        "k"
      ],
      "metadata": {
        "id": "JTMkEo-mvead",
        "colab": {
          "base_uri": "https://localhost:8080/",
          "height": 525
        },
        "outputId": "f67f8843-21cd-47e0-d302-ec687df021c9"
      },
      "execution_count": null,
      "outputs": [
        {
          "output_type": "display_data",
          "data": {
            "text/latex": "P(\\lambda)=\\lambda^{6} - 16 \\lambda^{5} + 19 \\lambda^{4} + 205 \\lambda^{3} + 1563 \\lambda^{2} - 10107 \\lambda + 8335"
          },
          "metadata": {}
        },
        {
          "output_type": "display_data",
          "data": {
            "text/latex": "Raices=\\left[ 5, \\  1, \\  - \\frac{\\sqrt{\\frac{10745}{9 \\sqrt[3]{\\frac{\\sqrt{6536774860449}}{144} + \\frac{9926179}{432}}} + \\frac{167}{3} + 2 \\sqrt[3]{\\frac{\\sqrt{6536774860449}}{144} + \\frac{9926179}{432}}}}{2} + \\frac{5}{2} + \\frac{\\sqrt{- 2 \\sqrt[3]{\\frac{\\sqrt{6536774860449}}{144} + \\frac{9926179}{432}} - \\frac{752}{\\sqrt{\\frac{10745}{9 \\sqrt[3]{\\frac{\\sqrt{6536774860449}}{144} + \\frac{9926179}{432}}} + \\frac{167}{3} + 2 \\sqrt[3]{\\frac{\\sqrt{6536774860449}}{144} + \\frac{9926179}{432}}}} - \\frac{10745}{9 \\sqrt[3]{\\frac{\\sqrt{6536774860449}}{144} + \\frac{9926179}{432}}} + \\frac{334}{3}}}{2}, \\  - \\frac{\\sqrt{\\frac{10745}{9 \\sqrt[3]{\\frac{\\sqrt{6536774860449}}{144} + \\frac{9926179}{432}}} + \\frac{167}{3} + 2 \\sqrt[3]{\\frac{\\sqrt{6536774860449}}{144} + \\frac{9926179}{432}}}}{2} + \\frac{5}{2} - \\frac{\\sqrt{- 2 \\sqrt[3]{\\frac{\\sqrt{6536774860449}}{144} + \\frac{9926179}{432}} - \\frac{752}{\\sqrt{\\frac{10745}{9 \\sqrt[3]{\\frac{\\sqrt{6536774860449}}{144} + \\frac{9926179}{432}}} + \\frac{167}{3} + 2 \\sqrt[3]{\\frac{\\sqrt{6536774860449}}{144} + \\frac{9926179}{432}}}} - \\frac{10745}{9 \\sqrt[3]{\\frac{\\sqrt{6536774860449}}{144} + \\frac{9926179}{432}}} + \\frac{334}{3}}}{2}, \\  \\frac{5}{2} + \\frac{\\sqrt{- 2 \\sqrt[3]{\\frac{\\sqrt{6536774860449}}{144} + \\frac{9926179}{432}} - \\frac{10745}{9 \\sqrt[3]{\\frac{\\sqrt{6536774860449}}{144} + \\frac{9926179}{432}}} + \\frac{752}{\\sqrt{\\frac{10745}{9 \\sqrt[3]{\\frac{\\sqrt{6536774860449}}{144} + \\frac{9926179}{432}}} + \\frac{167}{3} + 2 \\sqrt[3]{\\frac{\\sqrt{6536774860449}}{144} + \\frac{9926179}{432}}}} + \\frac{334}{3}}}{2} + \\frac{\\sqrt{\\frac{10745}{9 \\sqrt[3]{\\frac{\\sqrt{6536774860449}}{144} + \\frac{9926179}{432}}} + \\frac{167}{3} + 2 \\sqrt[3]{\\frac{\\sqrt{6536774860449}}{144} + \\frac{9926179}{432}}}}{2}, \\  - \\frac{\\sqrt{- 2 \\sqrt[3]{\\frac{\\sqrt{6536774860449}}{144} + \\frac{9926179}{432}} - \\frac{10745}{9 \\sqrt[3]{\\frac{\\sqrt{6536774860449}}{144} + \\frac{9926179}{432}}} + \\frac{752}{\\sqrt{\\frac{10745}{9 \\sqrt[3]{\\frac{\\sqrt{6536774860449}}{144} + \\frac{9926179}{432}}} + \\frac{167}{3} + 2 \\sqrt[3]{\\frac{\\sqrt{6536774860449}}{144} + \\frac{9926179}{432}}}} + \\frac{334}{3}}}{2} + \\frac{5}{2} + \\frac{\\sqrt{\\frac{10745}{9 \\sqrt[3]{\\frac{\\sqrt{6536774860449}}{144} + \\frac{9926179}{432}}} + \\frac{167}{3} + 2 \\sqrt[3]{\\frac{\\sqrt{6536774860449}}{144} + \\frac{9926179}{432}}}}{2}\\right]"
          },
          "metadata": {}
        },
        {
          "output_type": "display_data",
          "data": {
            "text/latex": "r(\\lambda)-f(\\lambda)=\\lambda^{5} a_{5} + \\lambda^{4} a_{4} + \\lambda^{3} a_{3} + \\lambda^{2} a_{2} + \\lambda a_{1} + a_{0} - e^{\\lambda}"
          },
          "metadata": {}
        },
        {
          "output_type": "display_data",
          "data": {
            "text/latex": "Sistema=\\left[\\begin{matrix}a_{0} + 5.0 a_{1} + 25.0 a_{2} + 125.0 a_{3} + 625.0 a_{4} + 3125.0 a_{5} - 148.413159102577\\\\a_{0} + a_{1} + a_{2} + a_{3} + a_{4} + a_{5} - 2.71828182845905\\\\a_{0} + a_{1} \\left(-3.80832017501624 + 3.59803546600623 i\\right) + a_{2} \\left(-3.80832017501624 + 3.59803546600623 i\\right)^{2} + a_{3} \\left(-3.80832017501624 + 3.59803546600623 i\\right)^{3} + a_{4} \\left(-3.80832017501624 + 3.59803546600623 i\\right)^{4} + a_{5} \\left(-3.80832017501624 + 3.59803546600623 i\\right)^{5} + 0.0199142062877644 + 0.00977839656716965 i\\\\a_{0} + a_{1} \\left(-3.80832017501624 - 3.59803546600623 i\\right) + a_{2} \\left(-3.80832017501624 - 3.59803546600623 i\\right)^{2} + a_{3} \\left(-3.80832017501624 - 3.59803546600623 i\\right)^{3} + a_{4} \\left(-3.80832017501624 - 3.59803546600623 i\\right)^{4} + a_{5} \\left(-3.80832017501624 - 3.59803546600623 i\\right)^{5} + 0.0199142062877644 - 0.00977839656716965 i\\\\a_{0} + 12.9139324744918 a_{1} + 166.769651955733 a_{2} + 2153.65202415083 a_{3} + 27812.1168134364 a_{4} + 359163.798501395 a_{5} - 405928.564863803\\\\a_{0} + 4.70270787554071 a_{1} + 22.1154613626726 a_{2} + 104.002554321457 a_{3} + 489.093631283866 a_{4} + 2300.06447171544 a_{5} - 110.245299174036\\end{matrix}\\right]"
          },
          "metadata": {}
        },
        {
          "output_type": "display_data",
          "data": {
            "text/latex": "a_n=\\left\\{\\left( 1.76027710516514 + 7.6285702506935 \\cdot 10^{-15} i, \\  -5.22163647800022 + 1.69560014171614 \\cdot 10^{-14} i, \\  -35.976022955219 - 3.97097357735253 \\cdot 10^{-13} i, \\  -113.31101077612 + 1.4097154580975 \\cdot 10^{-12} i, \\  1271.34536702107 - 3.00306221307935 \\cdot 10^{-14} i, \\  -1115.87869208844 - 9.8727388473207 \\cdot 10^{-13} i\\right)\\right\\}"
          },
          "metadata": {}
        },
        {
          "output_type": "execute_result",
          "data": {
            "text/plain": [
              "Matrix([\n",
              "[148.413159102461, 218.542315911003, 336524.732028032, 377954.758988171,  781409.90771335, 407686.066228491],\n",
              "[               0, 2.71828182845957, 137953.865347805, 155050.701545433, 321118.700146976,   167248.2790696],\n",
              "[               0,                0, 74237.8227366377, 83446.1730777676, 172870.320717254, 90012.0329544519],\n",
              "[               0,                0, 102238.324593814, 114926.872747264, 238147.371353801,   123971.5939589],\n",
              "[               0,                0, 31785.5902676427, 35744.7041240955, 74189.8067473831, 38561.4924674711],\n",
              "[               0,                0, 117672.746542855,  132274.82705521,  274077.77707426, 142684.268103273]])"
            ],
            "text/latex": "$\\displaystyle \\left[\\begin{matrix}148.413159102461 & 218.542315911003 & 336524.732028032 & 377954.758988171 & 781409.90771335 & 407686.066228491\\\\0 & 2.71828182845957 & 137953.865347805 & 155050.701545433 & 321118.700146976 & 167248.2790696\\\\0 & 0 & 74237.8227366377 & 83446.1730777676 & 172870.320717254 & 90012.0329544519\\\\0 & 0 & 102238.324593814 & 114926.872747264 & 238147.371353801 & 123971.5939589\\\\0 & 0 & 31785.5902676427 & 35744.7041240955 & 74189.8067473831 & 38561.4924674711\\\\0 & 0 & 117672.746542855 & 132274.82705521 & 274077.77707426 & 142684.268103273\\end{matrix}\\right]$"
          },
          "metadata": {},
          "execution_count": 4
        }
      ]
    },
    {
      "cell_type": "code",
      "source": [
        "x,t,T=sp.symbols('x t T', real=True)\n",
        "f=lambda x: sp.exp(x)\n",
        "A=[[1,4,7],[0,3,0],[0,5,2]]\n",
        "A=sp.Matrix(A)\n",
        "k=cayleyHamilton(A,f)\n",
        "k"
      ],
      "metadata": {
        "colab": {
          "base_uri": "https://localhost:8080/",
          "height": 224
        },
        "id": "gvxShX-sfItw",
        "outputId": "fff18edf-1fb7-4e0f-a20e-32be5e408ebf"
      },
      "execution_count": null,
      "outputs": [
        {
          "output_type": "display_data",
          "data": {
            "text/latex": "P(\\lambda)=- \\lambda^{3} + 6 \\lambda^{2} - 11 \\lambda + 6"
          },
          "metadata": {}
        },
        {
          "output_type": "display_data",
          "data": {
            "text/latex": "Raices=\\left[ 3, \\  2, \\  1\\right]"
          },
          "metadata": {}
        },
        {
          "output_type": "display_data",
          "data": {
            "text/latex": "r(\\lambda)-f(\\lambda)=\\lambda^{2} a_{2} + \\lambda a_{1} + a_{0} - e^{\\lambda}"
          },
          "metadata": {}
        },
        {
          "output_type": "display_data",
          "data": {
            "text/latex": "Sistema=\\left[\\begin{matrix}a_{0} + 3.0 a_{1} + 9.0 a_{2} - 20.0855369231877\\\\a_{0} + 2.0 a_{1} + 4.0 a_{2} - 7.38905609893065\\\\a_{0} + a_{1} + a_{2} - 2.71828182845905\\end{matrix}\\right]"
          },
          "metadata": {}
        },
        {
          "output_type": "display_data",
          "data": {
            "text/latex": "a_n=\\left\\{\\left( 4.01285327689271, \\  -7.36778556020651, \\  6.07321411177285\\right)\\right\\}"
          },
          "metadata": {}
        },
        {
          "output_type": "execute_result",
          "data": {
            "text/plain": [
              "Matrix([\n",
              "[2.71828182845905, 175.184374880702, 32.6954198933012],\n",
              "[               0, 20.0855369231877,                0],\n",
              "[               0, 63.4824041212851, 7.38905609893065]])"
            ],
            "text/latex": "$\\displaystyle \\left[\\begin{matrix}2.71828182845905 & 175.184374880702 & 32.6954198933012\\\\0 & 20.0855369231877 & 0\\\\0 & 63.4824041212851 & 7.38905609893065\\end{matrix}\\right]$"
          },
          "metadata": {},
          "execution_count": 17
        }
      ]
    },
    {
      "cell_type": "code",
      "source": [
        "x,t,T=sp.symbols('x t T', real=True)\n",
        "f=lambda x: sp.sin(x)\n",
        "A=[[1,4,7],[0,3,0],[0,5,2]]\n",
        "A=sp.Matrix(A)\n",
        "k=cayleyHamilton(A,f)\n",
        "k"
      ],
      "metadata": {
        "colab": {
          "base_uri": "https://localhost:8080/",
          "height": 227
        },
        "id": "ZrnCRxNCihw9",
        "outputId": "6f7a11c5-bf18-49bd-e632-656773772589"
      },
      "execution_count": null,
      "outputs": [
        {
          "output_type": "display_data",
          "data": {
            "text/latex": "P(\\lambda)=- \\lambda^{3} + 6 \\lambda^{2} - 11 \\lambda + 6"
          },
          "metadata": {}
        },
        {
          "output_type": "display_data",
          "data": {
            "text/latex": "Raices=\\left[ 3, \\  2, \\  1\\right]"
          },
          "metadata": {}
        },
        {
          "output_type": "display_data",
          "data": {
            "text/latex": "r(\\lambda)-f(\\lambda)=\\lambda^{2} a_{2} + \\lambda a_{1} + a_{0} - \\sin{\\left(\\lambda \\right)}"
          },
          "metadata": {}
        },
        {
          "output_type": "display_data",
          "data": {
            "text/latex": "Sistema=\\left[\\begin{matrix}a_{0} + 3.0 a_{1} + 9.0 a_{2} - 0.141120008059867\\\\a_{0} + 2.0 a_{1} + 4.0 a_{2} - 0.909297426825682\\\\a_{0} + a_{1} + a_{2} - 0.841470984807897\\end{matrix}\\right]"
          },
          "metadata": {}
        },
        {
          "output_type": "display_data",
          "data": {
            "text/latex": "a_n=\\left\\{\\left( -0.4180019303918, \\  1.32183223319318, \\  -0.0623593179934883\\right)\\right\\}"
          },
          "metadata": {}
        },
        {
          "output_type": "execute_result",
          "data": {
            "text/plain": [
              "Matrix([\n",
              "[0.841470984807896, -16.0307695172091, 0.474785094124496],\n",
              "[                0, 0.141120008059867,                 0],\n",
              "[                0, -3.84088709382907, 0.909297426825681]])"
            ],
            "text/latex": "$\\displaystyle \\left[\\begin{matrix}0.841470984807896 & -16.0307695172091 & 0.474785094124496\\\\0 & 0.141120008059867 & 0\\\\0 & -3.84088709382907 & 0.909297426825681\\end{matrix}\\right]$"
          },
          "metadata": {},
          "execution_count": 25
        }
      ]
    },
    {
      "cell_type": "markdown",
      "source": [
        "Solucion de ecuacion de estados"
      ],
      "metadata": {
        "id": "LlTaSTa238qX"
      }
    },
    {
      "cell_type": "code",
      "source": [
        "A=sp.Matrix([[-3,1],[0,-2]])\n",
        "\n",
        "B=sp.Matrix([[0],[1]])\n",
        "\n",
        "C=sp.Matrix([[1,1]])\n",
        "\n",
        "u=sp.symbols('u')\n",
        "U=sp.Matrix([[0]])\n",
        "X0=sp.Matrix([[1],[-1]])\n",
        "t0=0\n",
        "solucionar(A,B,C,U,X0,t0)"
      ],
      "metadata": {
        "id": "bOTXPhPP38Ob",
        "colab": {
          "base_uri": "https://localhost:8080/",
          "height": 315
        },
        "outputId": "6aef5c40-9f63-4b54-a6b5-4dfed9c3f144"
      },
      "execution_count": null,
      "outputs": [
        {
          "output_type": "display_data",
          "data": {
            "text/latex": "P(\\lambda)=\\lambda^{2} + 5 \\lambda + 6"
          },
          "metadata": {}
        },
        {
          "output_type": "display_data",
          "data": {
            "text/latex": "Raices=\\left[ -2, \\  -3\\right]"
          },
          "metadata": {}
        },
        {
          "output_type": "display_data",
          "data": {
            "text/latex": "r(\\lambda)-f(\\lambda)=\\lambda a_{1} + a_{0} - e^{\\lambda t}"
          },
          "metadata": {}
        },
        {
          "output_type": "display_data",
          "data": {
            "text/latex": "Sistema=\\left[\\begin{matrix}a_{0} - 2.0 a_{1} - e^{- 2 t}\\\\a_{0} - 3.0 a_{1} - e^{- 3 t}\\end{matrix}\\right]"
          },
          "metadata": {}
        },
        {
          "output_type": "display_data",
          "data": {
            "text/latex": "a_n=\\left\\{\\left( 0.125 \\left(8.0 e^{t} - 8.0\\right) e^{- 3 t}, \\  0.5 \\left(6.0 e^{t} - 4.0\\right) e^{- 3 t}\\right)\\right\\}"
          },
          "metadata": {}
        },
        {
          "output_type": "display_data",
          "data": {
            "text/latex": "e^{A{(t-\tau)}}=\\left[\\begin{matrix}1.0 e^{3 T} e^{- 3 t} & - 1.0 e^{3 T} e^{- 3 t} + 1.0 e^{2 T} e^{- 2 t}\\\\0 & 1.0 e^{2 T} e^{- 2 t}\\end{matrix}\\right]"
          },
          "metadata": {}
        },
        {
          "output_type": "display_data",
          "data": {
            "text/latex": "\\left[\\begin{matrix}\\left(2.0 - 1.0 e^{t}\\right) e^{- 3 t}\\\\- 1.0 e^{- 2 t}\\end{matrix}\\right]"
          },
          "metadata": {}
        },
        {
          "output_type": "display_data",
          "data": {
            "text/latex": "\\left[\\begin{matrix}\\left(2.0 - 1.0 e^{t}\\right) e^{- 3 t} - 1.0 e^{- 2 t}\\end{matrix}\\right]"
          },
          "metadata": {}
        },
        {
          "output_type": "execute_result",
          "data": {
            "text/plain": [
              "(Matrix([\n",
              " [(2.0 - 1.0*exp(t))*exp(-3*t)],\n",
              " [              -1.0*exp(-2*t)]]),\n",
              " Matrix([[(2.0 - 1.0*exp(t))*exp(-3*t) - 1.0*exp(-2*t)]]))"
            ]
          },
          "metadata": {},
          "execution_count": 5
        }
      ]
    },
    {
      "cell_type": "code",
      "source": [
        "A=sp.Matrix([[-3,1],[0,-2]])\n",
        "\n",
        "B=sp.Matrix([[1/2],\n",
        "             [0]])\n",
        "\n",
        "C=sp.Matrix([[1,0]])\n",
        "\n",
        "u=sp.symbols('u')\n",
        "U=sp.Matrix([[u]])\n",
        "X0=sp.Matrix([[1],[-1]])\n",
        "t0=0\n",
        "sol=solucionar(A,B,C,U,X0,t0)\n",
        "sol"
      ],
      "metadata": {
        "colab": {
          "base_uri": "https://localhost:8080/",
          "height": 315
        },
        "id": "2jvAamMiXwAr",
        "outputId": "f22acc5b-5f45-444f-d8ca-314fd766af3c"
      },
      "execution_count": null,
      "outputs": [
        {
          "output_type": "display_data",
          "data": {
            "text/latex": "P(\\lambda)=\\lambda^{2} + 5 \\lambda + 6"
          },
          "metadata": {}
        },
        {
          "output_type": "display_data",
          "data": {
            "text/latex": "Raices=\\left[ -2, \\  -3\\right]"
          },
          "metadata": {}
        },
        {
          "output_type": "display_data",
          "data": {
            "text/latex": "r(\\lambda)-f(\\lambda)=\\lambda a_{1} + a_{0} - e^{\\lambda t}"
          },
          "metadata": {}
        },
        {
          "output_type": "display_data",
          "data": {
            "text/latex": "Sistema=\\left[\\begin{matrix}a_{0} - 2.0 a_{1} - e^{- 2 t}\\\\a_{0} - 3.0 a_{1} - e^{- 3 t}\\end{matrix}\\right]"
          },
          "metadata": {}
        },
        {
          "output_type": "display_data",
          "data": {
            "text/latex": "a_n=\\left\\{\\left( 0.125 \\left(8.0 e^{t} - 8.0\\right) e^{- 3 t}, \\  0.5 \\left(6.0 e^{t} - 4.0\\right) e^{- 3 t}\\right)\\right\\}"
          },
          "metadata": {}
        },
        {
          "output_type": "display_data",
          "data": {
            "text/latex": "e^{A{(t-\tau)}}=\\left[\\begin{matrix}1.0 e^{3 T} e^{- 3 t} & - 1.0 e^{3 T} e^{- 3 t} + 1.0 e^{2 T} e^{- 2 t}\\\\0 & 1.0 e^{2 T} e^{- 2 t}\\end{matrix}\\right]"
          },
          "metadata": {}
        },
        {
          "output_type": "display_data",
          "data": {
            "text/latex": "\\left[\\begin{matrix}\\left(0.166666666666667 u e^{3 t} - 0.166666666666667 u - 1.0 e^{t} + 2.0\\right) e^{- 3 t}\\\\- 1.0 e^{- 2 t}\\end{matrix}\\right]"
          },
          "metadata": {}
        },
        {
          "output_type": "display_data",
          "data": {
            "text/latex": "\\left[\\begin{matrix}\\left(0.166666666666667 u e^{3 t} - 0.166666666666667 u - 1.0 e^{t} + 2.0\\right) e^{- 3 t}\\end{matrix}\\right]"
          },
          "metadata": {}
        },
        {
          "output_type": "execute_result",
          "data": {
            "text/plain": [
              "(Matrix([\n",
              " [(0.166666666666667*u*exp(3*t) - 0.166666666666667*u - 1.0*exp(t) + 2.0)*exp(-3*t)],\n",
              " [                                                                   -1.0*exp(-2*t)]]),\n",
              " Matrix([[(0.166666666666667*u*exp(3*t) - 0.166666666666667*u - 1.0*exp(t) + 2.0)*exp(-3*t)]]))"
            ]
          },
          "metadata": {},
          "execution_count": 6
        }
      ]
    },
    {
      "cell_type": "code",
      "source": [
        "A=sp.Matrix([[0,1],[-2,-2]])\n",
        "\n",
        "B=sp.Matrix([[0],\n",
        "             [1]])\n",
        "\n",
        "C=sp.Matrix([[1,1]])\n",
        "\n",
        "u=sp.symbols('u')\n",
        "U=sp.Matrix([[1]])\n",
        "X0=sp.Matrix([[1],[0]])\n",
        "t0=0\n",
        "sol=solucionar(A,B,C,U,X0,t0)[0]\n",
        "sol"
      ],
      "metadata": {
        "colab": {
          "base_uri": "https://localhost:8080/",
          "height": 312
        },
        "id": "SbQtsnppoE1z",
        "outputId": "b55f95f7-606e-44c9-efba-9c463b37522e"
      },
      "execution_count": null,
      "outputs": [
        {
          "output_type": "display_data",
          "data": {
            "text/latex": "P(\\lambda)=\\lambda^{2} + 2 \\lambda + 2"
          },
          "metadata": {}
        },
        {
          "output_type": "display_data",
          "data": {
            "text/latex": "Raices=\\left[ -1 - i, \\  -1 + i\\right]"
          },
          "metadata": {}
        },
        {
          "output_type": "display_data",
          "data": {
            "text/latex": "r(\\lambda)-f(\\lambda)=\\lambda a_{1} + a_{0} - e^{\\lambda t}"
          },
          "metadata": {}
        },
        {
          "output_type": "display_data",
          "data": {
            "text/latex": "Sistema=\\left[\\begin{matrix}a_{0} + a_{1} \\left(-1.0 - i\\right) - e^{t \\left(-1 - i\\right)}\\\\a_{0} + a_{1} \\left(-1.0 + i\\right) - e^{t \\left(-1 + i\\right)}\\end{matrix}\\right]"
          },
          "metadata": {}
        },
        {
          "output_type": "display_data",
          "data": {
            "text/latex": "a_n=\\left\\{\\left( - 0.5 i e^{- t} e^{i t} + 0.5 i e^{- t} e^{- i t}, \\  \\left(0.5 - 0.5 i\\right) e^{- t} e^{i t} + 0.5 e^{- t} e^{- i t} + 0.5 i e^{- t} e^{- i t}\\right)\\right\\}"
          },
          "metadata": {}
        },
        {
          "output_type": "display_data",
          "data": {
            "text/latex": "e^{A{(t-\tau)}}=\\left[\\begin{matrix}0.5 e^{T} e^{- t} e^{i T} e^{- i t} + 0.5 i e^{T} e^{- t} e^{i T} e^{- i t} + 0.5 e^{T} e^{- t} e^{- i T} e^{i t} - 0.5 i e^{T} e^{- t} e^{- i T} e^{i t} & 0.5 i e^{T} e^{- t} e^{i T} e^{- i t} - 0.5 i e^{T} e^{- t} e^{- i T} e^{i t}\\\\- 1.0 i e^{T} e^{- t} e^{i T} e^{- i t} + 1.0 i e^{T} e^{- t} e^{- i T} e^{i t} & 0.5 e^{T} e^{- t} e^{i T} e^{- i t} - 0.5 i e^{T} e^{- t} e^{i T} e^{- i t} + 0.5 e^{T} e^{- t} e^{- i T} e^{i t} + 0.5 i e^{T} e^{- t} e^{- i T} e^{i t}\\end{matrix}\\right]"
          },
          "metadata": {}
        },
        {
          "output_type": "display_data",
          "data": {
            "text/latex": "\\left[\\begin{matrix}\\left(0.25 \\left(1 - i\\right) e^{2 i t} + 0.5 e^{t \\left(1 + i\\right)} + 0.25 + 0.25 i\\right) e^{- t \\left(1 + i\\right)}\\\\0.5 i \\left(e^{2 i t} - 1\\right) e^{- t \\left(1 + i\\right)}\\end{matrix}\\right]"
          },
          "metadata": {}
        },
        {
          "output_type": "display_data",
          "data": {
            "text/latex": "\\left[\\begin{matrix}0.5 i \\left(e^{2 i t} - 1\\right) e^{- t \\left(1 + i\\right)} + \\left(0.25 \\left(1 - i\\right) e^{2 i t} + 0.5 e^{t \\left(1 + i\\right)} + 0.25 + 0.25 i\\right) e^{- t \\left(1 + i\\right)}\\end{matrix}\\right]"
          },
          "metadata": {}
        },
        {
          "output_type": "execute_result",
          "data": {
            "text/plain": [
              "Matrix([\n",
              "[(0.25*(1 - I)*exp(2*I*t) + 0.5*exp(t*(1 + I)) + 0.25 + 0.25*I)*exp(-t*(1 + I))],\n",
              "[                                        0.5*I*(exp(2*I*t) - 1)*exp(-t*(1 + I))]])"
            ],
            "text/latex": "$\\displaystyle \\left[\\begin{matrix}\\left(0.25 \\left(1 - i\\right) e^{2 i t} + 0.5 e^{t \\left(1 + i\\right)} + 0.25 + 0.25 i\\right) e^{- t \\left(1 + i\\right)}\\\\0.5 i \\left(e^{2 i t} - 1\\right) e^{- t \\left(1 + i\\right)}\\end{matrix}\\right]$"
          },
          "metadata": {},
          "execution_count": 18
        }
      ]
    },
    {
      "cell_type": "code",
      "source": [
        "sp.expand(sol)"
      ],
      "metadata": {
        "colab": {
          "base_uri": "https://localhost:8080/",
          "height": 58
        },
        "id": "oel1JBDorH-x",
        "outputId": "70a198c0-4154-447c-dfab-f32ac76f10d5"
      },
      "execution_count": null,
      "outputs": [
        {
          "output_type": "execute_result",
          "data": {
            "text/plain": [
              "Matrix([\n",
              "[0.5 + 0.25*exp(-t)*exp(I*t) - 0.25*I*exp(-t)*exp(I*t) + 0.25*exp(-t)*exp(-I*t) + 0.25*I*exp(-t)*exp(-I*t)],\n",
              "[                                                         0.5*I*exp(-t)*exp(I*t) - 0.5*I*exp(-t)*exp(-I*t)]])"
            ],
            "text/latex": "$\\displaystyle \\left[\\begin{matrix}0.5 + 0.25 e^{- t} e^{i t} - 0.25 i e^{- t} e^{i t} + 0.25 e^{- t} e^{- i t} + 0.25 i e^{- t} e^{- i t}\\\\0.5 i e^{- t} e^{i t} - 0.5 i e^{- t} e^{- i t}\\end{matrix}\\right]$"
          },
          "metadata": {},
          "execution_count": 19
        }
      ]
    },
    {
      "cell_type": "code",
      "source": [
        "sp.N(sol.subs(t,1))"
      ],
      "metadata": {
        "colab": {
          "base_uri": "https://localhost:8080/",
          "height": 58
        },
        "id": "s8Te8zyGOe8v",
        "outputId": "c082a2b9-becb-422f-b898-605a72b47d37"
      },
      "execution_count": null,
      "outputs": [
        {
          "output_type": "execute_result",
          "data": {
            "text/plain": [
              "Matrix([\n",
              "[0.754162992999763 + 2.71050543121376e-20*I],\n",
              "[-0.309559875653112 - 3.3881317890172e-21*I]])"
            ],
            "text/latex": "$\\displaystyle \\left[\\begin{matrix}0.754162992999763 + 2.71050543121376 \\cdot 10^{-20} i\\\\-0.309559875653112 - 3.3881317890172 \\cdot 10^{-21} i\\end{matrix}\\right]$"
          },
          "metadata": {},
          "execution_count": 23
        }
      ]
    },
    {
      "cell_type": "code",
      "source": [
        "A=sp.Matrix([[0,1],[-6,-5]])\n",
        "\n",
        "B=sp.Matrix([[0],\n",
        "             [1]])\n",
        "\n",
        "C=sp.Matrix([[1,1]])\n",
        "\n",
        "u=sp.symbols('u')\n",
        "U=sp.Matrix([[1]])\n",
        "X0=sp.Matrix([[1],[0]])\n",
        "t0=0\n",
        "sol=solucionar(A,B,C,U,X0,t0)[0]\n",
        "sol"
      ],
      "metadata": {
        "colab": {
          "base_uri": "https://localhost:8080/",
          "height": 286
        },
        "id": "Jewl2KwuofFa",
        "outputId": "3bc52034-f5b1-4ac6-ab3f-25fc72cadf8c"
      },
      "execution_count": null,
      "outputs": [
        {
          "output_type": "display_data",
          "data": {
            "text/latex": "P(\\lambda)=\\lambda^{2} + 5 \\lambda + 6"
          },
          "metadata": {}
        },
        {
          "output_type": "display_data",
          "data": {
            "text/latex": "Raices=\\left[ -2, \\  -3\\right]"
          },
          "metadata": {}
        },
        {
          "output_type": "display_data",
          "data": {
            "text/latex": "r(\\lambda)-f(\\lambda)=\\lambda a_{1} + a_{0} - e^{\\lambda t}"
          },
          "metadata": {}
        },
        {
          "output_type": "display_data",
          "data": {
            "text/latex": "Sistema=\\left[\\begin{matrix}a_{0} - 2.0 a_{1} - e^{- 2 t}\\\\a_{0} - 3.0 a_{1} - e^{- 3 t}\\end{matrix}\\right]"
          },
          "metadata": {}
        },
        {
          "output_type": "display_data",
          "data": {
            "text/latex": "a_n=\\left\\{\\left( 0.125 \\left(8.0 e^{t} - 8.0\\right) e^{- 3 t}, \\  0.5 \\left(6.0 e^{t} - 4.0\\right) e^{- 3 t}\\right)\\right\\}"
          },
          "metadata": {}
        },
        {
          "output_type": "display_data",
          "data": {
            "text/latex": "e^{A{(t-\tau)}}=\\left[\\begin{matrix}- 2.0 e^{3 T} e^{- 3 t} + 3.0 e^{2 T} e^{- 2 t} & - 1.0 e^{3 T} e^{- 3 t} + 1.0 e^{2 T} e^{- 2 t}\\\\6.0 e^{3 T} e^{- 3 t} - 6.0 e^{2 T} e^{- 2 t} & 3.0 e^{3 T} e^{- 3 t} - 2.0 e^{2 T} e^{- 2 t}\\end{matrix}\\right]"
          },
          "metadata": {}
        },
        {
          "output_type": "display_data",
          "data": {
            "text/latex": "\\left[\\begin{matrix}0.166666666666667 + 2.5 e^{- 2 t} - 1.66666666666667 e^{- 3 t}\\\\5.0 \\left(1 - e^{t}\\right) e^{- 3 t}\\end{matrix}\\right]"
          },
          "metadata": {}
        },
        {
          "output_type": "display_data",
          "data": {
            "text/latex": "\\left[\\begin{matrix}5.0 \\left(1 - e^{t}\\right) e^{- 3 t} + 0.166666666666667 + 2.5 e^{- 2 t} - 1.66666666666667 e^{- 3 t}\\end{matrix}\\right]"
          },
          "metadata": {}
        },
        {
          "output_type": "execute_result",
          "data": {
            "text/plain": [
              "Matrix([\n",
              "[0.166666666666667 + 2.5*exp(-2*t) - 1.66666666666667*exp(-3*t)],\n",
              "[                                    5.0*(1 - exp(t))*exp(-3*t)]])"
            ],
            "text/latex": "$\\displaystyle \\left[\\begin{matrix}0.166666666666667 + 2.5 e^{- 2 t} - 1.66666666666667 e^{- 3 t}\\\\5.0 \\left(1 - e^{t}\\right) e^{- 3 t}\\end{matrix}\\right]$"
          },
          "metadata": {},
          "execution_count": 14
        }
      ]
    },
    {
      "cell_type": "code",
      "source": [
        "sp.expand(sol)"
      ],
      "metadata": {
        "colab": {
          "base_uri": "https://localhost:8080/",
          "height": 58
        },
        "id": "DBcCOyLto0LC",
        "outputId": "a66e14c9-2bd6-43bd-cd6f-cce7569691a3"
      },
      "execution_count": null,
      "outputs": [
        {
          "output_type": "execute_result",
          "data": {
            "text/plain": [
              "Matrix([\n",
              "[0.166666666666667 + 2.5*exp(-2*t) - 1.66666666666667*exp(-3*t)],\n",
              "[                                -5.0*exp(-2*t) + 5.0*exp(-3*t)]])"
            ],
            "text/latex": "$\\displaystyle \\left[\\begin{matrix}0.166666666666667 + 2.5 e^{- 2 t} - 1.66666666666667 e^{- 3 t}\\\\- 5.0 e^{- 2 t} + 5.0 e^{- 3 t}\\end{matrix}\\right]$"
          },
          "metadata": {},
          "execution_count": 15
        }
      ]
    },
    {
      "cell_type": "code",
      "source": [
        "A=sp.Matrix([[0,1],[-1,-2]])\n",
        "\n",
        "B=sp.Matrix([[1],\n",
        "             [1]])\n",
        "\n",
        "C=sp.Matrix([[1,1]])\n",
        "\n",
        "u=sp.symbols('u')\n",
        "U=sp.Matrix([[1]])\n",
        "X0=sp.Matrix([[1],[0]])\n",
        "t0=0\n",
        "sol=solucionar(A,B,C,U,X0,t0)[0]\n",
        "sol"
      ],
      "metadata": {
        "colab": {
          "base_uri": "https://localhost:8080/",
          "height": 337
        },
        "id": "T8-_d4uYuDQf",
        "outputId": "09d2900a-2430-4d71-d38b-e1758123bee4"
      },
      "execution_count": null,
      "outputs": [
        {
          "output_type": "display_data",
          "data": {
            "text/latex": "P(\\lambda)=\\lambda^{2} + 2 \\lambda + 1"
          },
          "metadata": {}
        },
        {
          "output_type": "display_data",
          "data": {
            "text/latex": "Raices=\\left[ -1\\right]"
          },
          "metadata": {}
        },
        {
          "output_type": "display_data",
          "data": {
            "text/latex": "r(\\lambda)-f(\\lambda)=\\lambda a_{1} + a_{0} - e^{\\lambda t}"
          },
          "metadata": {}
        },
        {
          "output_type": "display_data",
          "data": {
            "text/latex": "\\frac{\\partial^n r}{\\partial \\lambda^n}a_{1} - t e^{\\lambda t}"
          },
          "metadata": {}
        },
        {
          "output_type": "display_data",
          "data": {
            "text/latex": "Sistema=\\left[\\begin{matrix}a_{0} - a_{1} - e^{- t}\\\\a_{1} - t e^{- t}\\end{matrix}\\right]"
          },
          "metadata": {}
        },
        {
          "output_type": "display_data",
          "data": {
            "text/latex": "a_n=\\left\\{\\left( t e^{- t}, \\  t e^{- t} + e^{- t}\\right)\\right\\}"
          },
          "metadata": {}
        },
        {
          "output_type": "display_data",
          "data": {
            "text/latex": "e^{A{(t-\tau)}}=\\left[\\begin{matrix}- T e^{T} e^{- t} + t e^{T} e^{- t} + 1.0 e^{T} e^{- t} & - T e^{T} e^{- t} + t e^{T} e^{- t}\\\\T e^{T} e^{- t} - t e^{T} e^{- t} & T e^{T} e^{- t} - t e^{T} e^{- t} + 1.0 e^{T} e^{- t}\\end{matrix}\\right]"
          },
          "metadata": {}
        },
        {
          "output_type": "display_data",
          "data": {
            "text/latex": "\\left[\\begin{matrix}\\left(- 1.0 t + 3.0 e^{t} - 2.0\\right) e^{- t}\\\\1.0 \\left(t - e^{t} + 1\\right) e^{- t}\\end{matrix}\\right]"
          },
          "metadata": {}
        },
        {
          "output_type": "display_data",
          "data": {
            "text/latex": "\\left[\\begin{matrix}\\left(- 1.0 t + 3.0 e^{t} - 2.0\\right) e^{- t} + 1.0 \\left(t - e^{t} + 1\\right) e^{- t}\\end{matrix}\\right]"
          },
          "metadata": {}
        },
        {
          "output_type": "execute_result",
          "data": {
            "text/plain": [
              "(Matrix([\n",
              " [(-1.0*t + 3.0*exp(t) - 2.0)*exp(-t)],\n",
              " [       1.0*(t - exp(t) + 1)*exp(-t)]]),\n",
              " Matrix([[(-1.0*t + 3.0*exp(t) - 2.0)*exp(-t) + 1.0*(t - exp(t) + 1)*exp(-t)]]))"
            ]
          },
          "metadata": {},
          "execution_count": 20
        }
      ]
    },
    {
      "cell_type": "code",
      "source": [
        "sp.expand(sol)"
      ],
      "metadata": {
        "colab": {
          "base_uri": "https://localhost:8080/",
          "height": 58
        },
        "id": "kVXN4C5Cvt3o",
        "outputId": "299abc89-a51e-4895-b560-6d381e1cc34b"
      },
      "execution_count": null,
      "outputs": [
        {
          "output_type": "execute_result",
          "data": {
            "text/plain": [
              "Matrix([\n",
              "[-1.0*t*exp(-t) + 3.0 - 2.0*exp(-t)],\n",
              "[ 1.0*t*exp(-t) - 1.0 + 1.0*exp(-t)]])"
            ],
            "text/latex": "$\\displaystyle \\left[\\begin{matrix}- 1.0 t e^{- t} + 3.0 - 2.0 e^{- t}\\\\1.0 t e^{- t} - 1.0 + 1.0 e^{- t}\\end{matrix}\\right]$"
          },
          "metadata": {},
          "execution_count": 68
        }
      ]
    },
    {
      "cell_type": "code",
      "source": [
        "A=sp.Matrix([[0,1],[-2,-3]])\n",
        "\n",
        "B=sp.Matrix([[-1],\n",
        "             [1]])\n",
        "                 \n",
        "C=sp.Matrix([[0,1]])\n",
        "\n",
        "u=sp.symbols('u')\n",
        "U=sp.Matrix([[1]])\n",
        "X0=sp.Matrix([[1],[-1]])\n",
        "t0=0\n",
        "sol=solucionar(A,B,C,U,X0,t0)\n",
        "sol"
      ],
      "metadata": {
        "colab": {
          "base_uri": "https://localhost:8080/",
          "height": 298
        },
        "id": "J99pQBogejmz",
        "outputId": "138b39ab-727e-49f0-c1d8-1ecc42c870b1"
      },
      "execution_count": null,
      "outputs": [
        {
          "output_type": "display_data",
          "data": {
            "text/latex": "P(\\lambda)=\\lambda^{2} + 3 \\lambda + 2"
          },
          "metadata": {}
        },
        {
          "output_type": "display_data",
          "data": {
            "text/latex": "Raices=\\left[ -1, \\  -2\\right]"
          },
          "metadata": {}
        },
        {
          "output_type": "display_data",
          "data": {
            "text/latex": "r(\\lambda)-f(\\lambda)=\\lambda a_{1} + a_{0} - e^{\\lambda t}"
          },
          "metadata": {}
        },
        {
          "output_type": "display_data",
          "data": {
            "text/latex": "Sistema=\\left[\\begin{matrix}a_{0} - a_{1} - e^{- t}\\\\a_{0} - 2.0 a_{1} - e^{- 2 t}\\end{matrix}\\right]"
          },
          "metadata": {}
        },
        {
          "output_type": "display_data",
          "data": {
            "text/latex": "a_n=\\left\\{\\left( 1.0 \\left(1.0 e^{t} - 1.0\\right) e^{- 2 t}, \\  1.0 \\left(2.0 e^{t} - 1.0\\right) e^{- 2 t}\\right)\\right\\}"
          },
          "metadata": {}
        },
        {
          "output_type": "display_data",
          "data": {
            "text/latex": "e^{A{(t-\tau)}}=\\left[\\begin{matrix}- 1.0 e^{2 T} e^{- 2 t} + 2.0 e^{T} e^{- t} & - 1.0 e^{2 T} e^{- 2 t} + 1.0 e^{T} e^{- t}\\\\2.0 e^{2 T} e^{- 2 t} - 2.0 e^{T} e^{- t} & 2.0 e^{2 T} e^{- 2 t} - 1.0 e^{T} e^{- t}\\end{matrix}\\right]"
          },
          "metadata": {}
        },
        {
          "output_type": "display_data",
          "data": {
            "text/latex": "\\left[\\begin{matrix}-1.0 + 2.0 e^{- t}\\\\1.0 - 2.0 e^{- t}\\end{matrix}\\right]"
          },
          "metadata": {}
        },
        {
          "output_type": "display_data",
          "data": {
            "text/latex": "\\left[\\begin{matrix}1.0 - 2.0 e^{- t}\\end{matrix}\\right]"
          },
          "metadata": {}
        },
        {
          "output_type": "execute_result",
          "data": {
            "text/plain": [
              "(Matrix([\n",
              " [-1.0 + 2.0*exp(-t)],\n",
              " [ 1.0 - 2.0*exp(-t)]]), Matrix([[1.0 - 2.0*exp(-t)]]))"
            ]
          },
          "metadata": {},
          "execution_count": 27
        }
      ]
    },
    {
      "cell_type": "markdown",
      "source": [
        "#Linealización"
      ],
      "metadata": {
        "id": "B4LrrGG1msZx"
      }
    },
    {
      "cell_type": "code",
      "source": [
        "def linealizarx(f:list,h:list,varx:list,varu:list)->sp.Matrix:\n",
        "  def deriv(f,var):\n",
        "    p0=sp.symbols('p0')\n",
        "    A=[]\n",
        "    for i in range(len(f)):\n",
        "      A.append([])\n",
        "      for j in var:\n",
        "        A[-1].append(sp.diff(f[i],j).subs(j,p0))\n",
        "    return sp.Matrix(A)\n",
        "  A=deriv(f,varx)\n",
        "  display_latex(Latex(r\"A=\"+sp.latex(A)))\n",
        "  B=deriv(f,varu)\n",
        "  display_latex(Latex(r\"B=\"+sp.latex(B)))\n",
        "  C=deriv(h,varx)\n",
        "  display_latex(Latex(r\"C=\"+sp.latex(C)))\n",
        "  D=deriv(h,varu)\n",
        "  display_latex(Latex(r\"D=\"+sp.latex(D)))\n",
        "  return A,B,C,D\n"
      ],
      "metadata": {
        "id": "AwTZxEDymuER"
      },
      "execution_count": null,
      "outputs": []
    },
    {
      "cell_type": "code",
      "source": [
        "x1,x2,ta=sp.symbols('x1 x2 ta')\n",
        "\n",
        "f=[x2,\n",
        "   4*x1-x1**3-sp.sqrt(x2**3)+ta]\n",
        "h=[x2]\n",
        "A,B,C,D=linealizarx(f,h,[x1,x2],[ta])"
      ],
      "metadata": {
        "colab": {
          "base_uri": "https://localhost:8080/",
          "height": 151
        },
        "id": "TBjSmpCen9p2",
        "outputId": "119a8809-46ec-4a35-f674-17b7353e12d7"
      },
      "execution_count": null,
      "outputs": [
        {
          "output_type": "display_data",
          "data": {
            "text/latex": "A=\\left[\\begin{matrix}0 & 1\\\\4 - 3 p_{0}^{2} & - \\frac{3 \\sqrt{p_{0}^{3}}}{2 p_{0}}\\end{matrix}\\right]"
          },
          "metadata": {}
        },
        {
          "output_type": "display_data",
          "data": {
            "text/latex": "B=\\left[\\begin{matrix}0\\\\1\\end{matrix}\\right]"
          },
          "metadata": {}
        },
        {
          "output_type": "display_data",
          "data": {
            "text/latex": "C=\\left[\\begin{matrix}0 & 1\\end{matrix}\\right]"
          },
          "metadata": {}
        },
        {
          "output_type": "display_data",
          "data": {
            "text/latex": "D=\\left[\\begin{matrix}0\\end{matrix}\\right]"
          },
          "metadata": {}
        }
      ]
    },
    {
      "cell_type": "markdown",
      "source": [
        "#transformación de similitud"
      ],
      "metadata": {
        "id": "3oBak1Zuqw_A"
      }
    },
    {
      "cell_type": "code",
      "source": [
        "def Tsim(A :sp.Matrix,B : sp.Matrix):\n",
        "  k=sp.symbols('\\lambda')\n",
        "  poli=sp.det(A-k*sp.eye(A.shape[0]))\n",
        "  display_latex(Latex(r\"p(\\lambda)=\"+sp.latex(poli)))\n",
        "  coeficientes=[poli.coeff(k**i) for i in range(1,sp.degree(poli))]+[1]\n",
        "  P=sp.zeros(sp.degree(poli))\n",
        "  for i in range(sp.degree(poli)):\n",
        "    for j in range(sp.degree(poli)-i):\n",
        "      P[i,j]=coeficientes[j+i]\n",
        "  display_latex(Latex(r\"P=\"+sp.latex(P)))\n",
        "  C0=[]\n",
        "  for i in range(sp.degree(poli)):\n",
        "    C0.append(list((A**i)*B))\n",
        "  C0=sp.Matrix(C0).T\n",
        "  display_latex(Latex(r\"C_0=\"+sp.latex(C0)))\n",
        "  \n",
        "  M=C0*P\n",
        "\n",
        "  display_latex(Latex(r\"M=\"+sp.latex(M)))\n",
        "  return P,C0,M\n"
      ],
      "metadata": {
        "id": "nlPonzeUroOk"
      },
      "execution_count": null,
      "outputs": []
    },
    {
      "cell_type": "code",
      "source": [
        "EstadosAFTransf=lambda A,B,C:C*(sp.symbols('s')*sp.eye(2)-A).inv()*B"
      ],
      "metadata": {
        "id": "8s-H9-DXxw78"
      },
      "execution_count": null,
      "outputs": []
    },
    {
      "cell_type": "code",
      "source": [
        "A=sp.Matrix([[1,2,1,1],[3,1,-1,3],[2,1,1,2],[-1,0,0,3]])\n",
        "B=sp.Matrix([[0],[2],[1],[1]])\n",
        "Tsim(A,B)"
      ],
      "metadata": {
        "colab": {
          "base_uri": "https://localhost:8080/",
          "height": 508
        },
        "id": "gftvowH1u8Or",
        "outputId": "75e43923-8a08-4b24-f9b1-26b376fa51f6"
      },
      "execution_count": null,
      "outputs": [
        {
          "output_type": "display_data",
          "data": {
            "text/latex": "p(\\lambda)=\\lambda^{4} - 6 \\lambda^{3} + 6 \\lambda^{2} + 25 \\lambda - 28"
          },
          "metadata": {}
        },
        {
          "output_type": "display_data",
          "data": {
            "text/latex": "P=\\left[\\begin{matrix}25 & 6 & -6 & 1\\\\6 & -6 & 1 & 0\\\\-6 & 1 & 0 & 0\\\\1 & 0 & 0 & 0\\end{matrix}\\right]"
          },
          "metadata": {}
        },
        {
          "output_type": "display_data",
          "data": {
            "text/latex": "C_0=\\left[\\begin{matrix}0 & 6 & 22 & 104\\\\2 & 4 & 26 & 74\\\\1 & 5 & 27 & 103\\\\1 & 3 & 3 & -13\\end{matrix}\\right]"
          },
          "metadata": {}
        },
        {
          "output_type": "display_data",
          "data": {
            "text/latex": "M=\\left[\\begin{matrix}8 & -14 & 6 & 0\\\\-8 & 14 & -8 & 2\\\\-4 & 3 & -1 & 1\\\\12 & -9 & -3 & 1\\end{matrix}\\right]"
          },
          "metadata": {}
        },
        {
          "output_type": "execute_result",
          "data": {
            "text/plain": [
              "(Matrix([\n",
              " [25,  6, -6, 1],\n",
              " [ 6, -6,  1, 0],\n",
              " [-6,  1,  0, 0],\n",
              " [ 1,  0,  0, 0]]), Matrix([\n",
              " [0, 6, 22, 104],\n",
              " [2, 4, 26,  74],\n",
              " [1, 5, 27, 103],\n",
              " [1, 3,  3, -13]]), Matrix([\n",
              " [ 8, -14,  6, 0],\n",
              " [-8,  14, -8, 2],\n",
              " [-4,   3, -1, 1],\n",
              " [12,  -9, -3, 1]]))"
            ]
          },
          "metadata": {},
          "execution_count": 33
        }
      ]
    },
    {
      "cell_type": "code",
      "source": [
        "def TCanObs(A :sp.Matrix,C : sp.Matrix):\n",
        "  k=sp.symbols('\\lambda')\n",
        "  poli=sp.det(A-k*sp.eye(A.shape[0]))\n",
        "  display_latex(Latex(r\"p(\\lambda)=\"+sp.latex(poli)))\n",
        "  coeficientes=[poli.coeff(k**i) for i in range(1,sp.degree(poli))]+[1]\n",
        "  P=sp.zeros(sp.degree(poli))\n",
        "  for i in range(sp.degree(poli)):\n",
        "    for j in range(sp.degree(poli)-i):\n",
        "      P[i,-j-1]=coeficientes[j+i]\n",
        "  P=P.T\n",
        "  display_latex(Latex(r\"P=\"+sp.latex(P)))\n",
        "  Ob=[]\n",
        "  for i in range(sp.degree(poli)):\n",
        "    Ob.append(list(C*(A**i)))\n",
        "  Ob=sp.Matrix(Ob)\n",
        "\n",
        "  display_latex(Latex(r\"O_b=\"+sp.latex(Ob)))\n",
        "  M=P*Ob\n",
        "  display_latex(Latex(r\"P*O_b=\"+sp.latex(M)))\n",
        "  M=(M).inv()\n",
        "\n",
        "  display_latex(Latex(r\"M=\"+sp.latex(M)))\n",
        "  return P,Ob,M"
      ],
      "metadata": {
        "id": "2nUmqKCyz64v"
      },
      "execution_count": null,
      "outputs": []
    },
    {
      "cell_type": "code",
      "source": [
        "C=sp.Matrix([[1,-1,2,0]])\n",
        "TCanObs(A,C)"
      ],
      "metadata": {
        "colab": {
          "base_uri": "https://localhost:8080/",
          "height": 590
        },
        "id": "pjhRz0NV0ZUm",
        "outputId": "1d6c600b-d497-4471-d442-93823d3eca52"
      },
      "execution_count": null,
      "outputs": [
        {
          "output_type": "display_data",
          "data": {
            "text/latex": "p(\\lambda)=\\lambda^{4} - 6 \\lambda^{3} + 6 \\lambda^{2} + 25 \\lambda - 28"
          },
          "metadata": {}
        },
        {
          "output_type": "display_data",
          "data": {
            "text/latex": "P=\\left[\\begin{matrix}1 & 0 & 0 & 0\\\\-6 & 1 & 0 & 0\\\\6 & -6 & 1 & 0\\\\25 & 6 & -6 & 1\\end{matrix}\\right]"
          },
          "metadata": {}
        },
        {
          "output_type": "display_data",
          "data": {
            "text/latex": "O_b=\\left[\\begin{matrix}1 & -1 & 2 & 0\\\\2 & 3 & 4 & 2\\\\17 & 11 & 3 & 25\\\\31 & 48 & 9 & 131\\end{matrix}\\right]"
          },
          "metadata": {}
        },
        {
          "output_type": "display_data",
          "data": {
            "text/latex": "P*O_b=\\left[\\begin{matrix}1 & -1 & 2 & 0\\\\-4 & 9 & -8 & 2\\\\11 & -13 & -9 & 13\\\\-34 & -25 & 65 & -7\\end{matrix}\\right]"
          },
          "metadata": {}
        },
        {
          "output_type": "display_data",
          "data": {
            "text/latex": "M=\\left[\\begin{matrix}\\frac{117}{235} & - \\frac{1}{235} & - \\frac{2}{235} & - \\frac{4}{235}\\\\\\frac{3433}{5875} & \\frac{756}{5875} & - \\frac{133}{5875} & - \\frac{31}{5875}\\\\\\frac{6383}{11750} & \\frac{781}{11750} & - \\frac{83}{11750} & \\frac{69}{11750}\\\\\\frac{1267}{2350} & \\frac{419}{2350} & \\frac{133}{2350} & \\frac{31}{2350}\\end{matrix}\\right]"
          },
          "metadata": {}
        },
        {
          "output_type": "execute_result",
          "data": {
            "text/plain": [
              "(Matrix([\n",
              " [ 1,  0,  0, 0],\n",
              " [-6,  1,  0, 0],\n",
              " [ 6, -6,  1, 0],\n",
              " [25,  6, -6, 1]]), Matrix([\n",
              " [ 1, -1, 2,   0],\n",
              " [ 2,  3, 4,   2],\n",
              " [17, 11, 3,  25],\n",
              " [31, 48, 9, 131]]), Matrix([\n",
              " [   117/235,    -1/235,    -2/235,   -4/235],\n",
              " [ 3433/5875,  756/5875, -133/5875, -31/5875],\n",
              " [6383/11750, 781/11750, -83/11750, 69/11750],\n",
              " [ 1267/2350,  419/2350,  133/2350,  31/2350]]))"
            ]
          },
          "metadata": {},
          "execution_count": 34
        }
      ]
    },
    {
      "cell_type": "markdown",
      "source": [
        "#Test de routh"
      ],
      "metadata": {
        "id": "ustOtzWOS5ci"
      }
    },
    {
      "cell_type": "code",
      "source": [
        "def routhTest(polinomio,K=sp.symbols('k',real=True)):\n",
        "  s,e=sp.symbols('s \\epsilon')\n",
        "  '''\n",
        "  try:\n",
        "    r=[sp.N(i) for i in sp.roots(polinomio)]\n",
        "    raices=[(i+i.conjugate())/2 for i in r]\n",
        "    display_latex(Latex(\"s_i=\"+sp.latex(raices)))\n",
        "    raices=np.array(raices)\n",
        "    if len(raices)>len(raices[raices<0]):\n",
        "      return False\n",
        "  except:\n",
        "    pass\n",
        "  '''\n",
        "  grado=sp.degree(polinomio,s)\n",
        "\n",
        "\n",
        "  display_latex(Latex(\"deg(p(s))=\"+str(grado)))\n",
        "\n",
        "\n",
        "  coeficientes=[polinomio.coeff(s**i) for i in reversed(range(1,grado+1))]+[polinomio.subs(s,0)]\n",
        "  tabla=sp.zeros(grado+1)\n",
        "  tabla[0,:len(range(0,len(coeficientes),2))]=sp.Matrix([[coeficientes[i] for i in range(0,len(coeficientes),2)]])\n",
        "  tabla[1,:len(range(1,len(coeficientes),2))]=sp.Matrix([[coeficientes[i] for i in range(1,len(coeficientes),2)]])\n",
        "  Ki=None\n",
        "  for i in range(1,grado):\n",
        "    if Ki==None:\n",
        "      Ki=[tabla[0,0]/tabla[1,0]]\n",
        "    else:\n",
        "      Ki.append(tabla[i-1,0]/(tabla[i,0] if tabla[i,0]!=0 else e))\n",
        "    temp=list(tabla[i-1,:]-Ki[-1]*tabla[i,:])\n",
        "    temp.pop(0)\n",
        "    temp.append(0)\n",
        "    tabla[i+1,:]=sp.Matrix([temp])\n",
        "  tabla=sp.expand(tabla)\n",
        "  tabla=sp.simplify(tabla)\n",
        "\n",
        "  temp=r\"\"\n",
        "  for i in range(len(Ki)):\n",
        "    temp+=r\"k_{}=& {}\\\\\".format(grado-1-i,sp.latex(sp.simplify(Ki[i])))\n",
        "\n",
        "  display_latex(Latex(r\"\\begin{cases}\"+temp+r\"\\end{cases}\"))\n",
        "\n",
        "  del(temp)\n",
        "\n",
        "  display_latex(Latex(sp.latex(tabla)))\n",
        "\n",
        "\n",
        "  condiciones=[sp.solve(i>0) for i in tabla[:,0]]\n",
        "\n",
        "  return condiciones\n",
        "  try:\n",
        "    s=None\n",
        "    for i in condiciones:\n",
        "      print(\"E\", i)\n",
        "      if s==None:\n",
        "        if type(i)!=list:\n",
        "          print(i)\n",
        "          s=i\n",
        "        continue\n",
        "      s=s and i\n",
        "      print(\"s\",s)\n",
        "\n",
        "    print(v)\n",
        "  except:\n",
        "    v=True\n",
        "    for i in condiciones:\n",
        "      v= v and i\n",
        "\n",
        "  if v==True:\n",
        "    return \"Es hurtwiz\"\n",
        "  elif v==False:\n",
        "    return \"No es hurtwiz\"\n"
      ],
      "metadata": {
        "id": "2_aXoIoCTRlz"
      },
      "execution_count": 95,
      "outputs": []
    },
    {
      "cell_type": "code",
      "source": [
        "s=sp.symbols('s')\n",
        "p=2*s**4+s**3+5*s**2+2*s+1\n",
        "#p=2*s**4+s**3+5*s**2+3*s+4 \n",
        "p"
      ],
      "metadata": {
        "colab": {
          "base_uri": "https://localhost:8080/",
          "height": 38
        },
        "id": "Q56P5SojVs1y",
        "outputId": "ad9d8a84-c5e3-4d55-93b5-d21e6c7cfa5f"
      },
      "execution_count": 71,
      "outputs": [
        {
          "output_type": "execute_result",
          "data": {
            "text/plain": [
              "   4    3      2          \n",
              "2⋅s  + s  + 5⋅s  + 2⋅s + 1"
            ],
            "image/png": "[encoded data removed]",
            "text/latex": "$\\displaystyle 2 s^{4} + s^{3} + 5 s^{2} + 2 s + 1$"
          },
          "metadata": {},
          "execution_count": 71
        }
      ]
    },
    {
      "cell_type": "code",
      "source": [
        "routhTest(p)"
      ],
      "metadata": {
        "colab": {
          "base_uri": "https://localhost:8080/",
          "height": 230
        },
        "id": "PqhmpzyYdQ2p",
        "outputId": "adf42d06-6d2e-4d7c-bdbd-36b15f07a407"
      },
      "execution_count": 72,
      "outputs": [
        {
          "output_type": "display_data",
          "data": {
            "text/latex": "deg(p(s))=4"
          },
          "metadata": {}
        },
        {
          "output_type": "display_data",
          "data": {
            "text/latex": "\\begin{cases}k_3=& 2\\\\k_2=& 1\\\\k_1=& 1\\\\\\end{cases}"
          },
          "metadata": {}
        },
        {
          "output_type": "display_data",
          "data": {
            "text/latex": "\\left[\\begin{matrix}2 & 5 & 1 & 0 & 0\\\\1 & 2 & 0 & 0 & 0\\\\1 & 1 & 0 & 0 & 0\\\\1 & 0 & 0 & 0 & 0\\\\1 & 0 & 0 & 0 & 0\\end{matrix}\\right]"
          },
          "metadata": {}
        },
        {
          "output_type": "stream",
          "name": "stdout",
          "text": [
            "[[], [], [], [], []]\n"
          ]
        }
      ]
    },
    {
      "cell_type": "markdown",
      "source": [
        "Probar \n",
        "$$s^3+(5+k)s^2+(12-2k)s+5k-18$$"
      ],
      "metadata": {
        "id": "P0lRgyJSej1S"
      }
    },
    {
      "cell_type": "code",
      "source": [
        "s,k=sp.symbols('s k')\n",
        "p=s**3+(5+k)*s**2+(12-2*k)*s+5*k-18 \n",
        "p"
      ],
      "metadata": {
        "colab": {
          "base_uri": "https://localhost:8080/",
          "height": 38
        },
        "id": "wm9e4kkyrgJc",
        "outputId": "c31bb151-b3ec-479a-d031-c51d37233e68"
      },
      "execution_count": 96,
      "outputs": [
        {
          "output_type": "execute_result",
          "data": {
            "text/plain": [
              "       3    2                            \n",
              "5⋅k + s  + s ⋅(k + 5) + s⋅(12 - 2⋅k) - 18"
            ],
            "image/png": "[encoded data removed]",
            "text/latex": "$\\displaystyle 5 k + s^{3} + s^{2} \\left(k + 5\\right) + s \\left(12 - 2 k\\right) - 18$"
          },
          "metadata": {},
          "execution_count": 96
        }
      ]
    },
    {
      "cell_type": "code",
      "source": [
        "M=routhTest(p)\n"
      ],
      "metadata": {
        "colab": {
          "base_uri": "https://localhost:8080/",
          "height": 174
        },
        "id": "83_OOtMIrovK",
        "outputId": "69cb4746-fd5d-4e8d-9703-e9da58c5208c"
      },
      "execution_count": 104,
      "outputs": [
        {
          "output_type": "display_data",
          "data": {
            "text/latex": "deg(p(s))=3"
          },
          "metadata": {}
        },
        {
          "output_type": "display_data",
          "data": {
            "text/latex": "\\begin{cases}k_2=& \\frac{1}{k + 5}\\\\k_1=& - \\frac{\\left(k + 5\\right)^{2}}{2 k^{2} + 3 k - 78}\\\\\\end{cases}"
          },
          "metadata": {}
        },
        {
          "output_type": "display_data",
          "data": {
            "text/latex": "\\left[\\begin{matrix}1 & 12 - 2 k & 0 & 0\\\\k + 5 & 5 k - 18 & 0 & 0\\\\\\frac{- 2 k^{2} - 3 k + 78}{k + 5} & 0 & 0 & 0\\\\5 k - 18 & 0 & 0 & 0\\end{matrix}\\right]"
          },
          "metadata": {}
        }
      ]
    },
    {
      "cell_type": "code",
      "source": [
        "M=M[1:]"
      ],
      "metadata": {
        "colab": {
          "base_uri": "https://localhost:8080/"
        },
        "id": "vMoyOP_8Resa",
        "outputId": "876b12f1-22b8-40de-9472-b51f9c906a1f"
      },
      "execution_count": 105,
      "outputs": [
        {
          "output_type": "stream",
          "name": "stdout",
          "text": [
            "[(-5 < k) & (k < oo), ((-oo < k) & (k < -sqrt(633)/4 - 3/4)) | ((-5 < k) & (k < -3/4 + sqrt(633)/4)), (18/5 < k) & (k < oo)]\n"
          ]
        }
      ]
    },
    {
      "cell_type": "code",
      "source": [
        "M"
      ],
      "metadata": {
        "colab": {
          "base_uri": "https://localhost:8080/",
          "height": 68
        },
        "id": "0xvdiKneTbpQ",
        "outputId": "07f21ee3-7ecb-4500-9fcf-c7949eea42f5"
      },
      "execution_count": 109,
      "outputs": [
        {
          "output_type": "execute_result",
          "data": {
            "text/plain": [
              "⎡                ⎛               √633   3⎞   ⎛               3   √633⎞        \n",
              "⎢-5 < k ∧ k < ∞, ⎜-∞ < k ∧ k < - ──── - ─⎟ ∨ ⎜-5 < k ∧ k < - ─ + ────⎟, 18/5 <\n",
              "⎣                ⎝                4     4⎠   ⎝               4    4  ⎠        \n",
              "\n",
              "          ⎤\n",
              " k ∧ k < ∞⎥\n",
              "          ⎦"
            ],
            "image/png": "[encoded data removed]",
            "text/latex": "$\\displaystyle \\left[ -5 < k \\wedge k < \\infty, \\  \\left(-\\infty < k \\wedge k < - \\frac{\\sqrt{633}}{4} - \\frac{3}{4}\\right) \\vee \\left(-5 < k \\wedge k < - \\frac{3}{4} + \\frac{\\sqrt{633}}{4}\\right), \\  \\frac{18}{5} < k \\wedge k < \\infty\\right]$"
          },
          "metadata": {},
          "execution_count": 109
        }
      ]
    },
    {
      "cell_type": "code",
      "source": [],
      "metadata": {
        "colab": {
          "base_uri": "https://localhost:8080/",
          "height": 287
        },
        "id": "qFhPWxgRRnrn",
        "outputId": "07d78261-4606-4600-c1b9-fa38b3d7fb0d"
      },
      "execution_count": 120,
      "outputs": [
        {
          "output_type": "error",
          "ename": "AttributeError",
          "evalue": "ignored",
          "traceback": [
            "\u001b[0;31m---------------------------------------------------------------------------\u001b[0m",
            "\u001b[0;31mAttributeError\u001b[0m                            Traceback (most recent call last)",
            "\u001b[0;32m<ipython-input-120-65a575acf67e>\u001b[0m in \u001b[0;36m<module>\u001b[0;34m\u001b[0m\n\u001b[0;32m----> 1\u001b[0;31m \u001b[0mreduce_rational_inequalities\u001b[0m\u001b[0;34m(\u001b[0m\u001b[0;34m[\u001b[0m\u001b[0;34m[\u001b[0m\u001b[0mM\u001b[0m\u001b[0;34m[\u001b[0m\u001b[0;36m0\u001b[0m\u001b[0;34m]\u001b[0m\u001b[0;34m]\u001b[0m\u001b[0;34m]\u001b[0m\u001b[0;34m,\u001b[0m\u001b[0mk\u001b[0m\u001b[0;34m)\u001b[0m\u001b[0;34m\u001b[0m\u001b[0;34m\u001b[0m\u001b[0m\n\u001b[0m",
            "\u001b[0;32m/usr/local/lib/python3.8/dist-packages/sympy/solvers/inequalities.py\u001b[0m in \u001b[0;36mreduce_rational_inequalities\u001b[0;34m(exprs, gen, relational)\u001b[0m\n\u001b[1;32m    245\u001b[0m                 \u001b[0mnumer\u001b[0m\u001b[0;34m,\u001b[0m \u001b[0mdenom\u001b[0m\u001b[0;34m,\u001b[0m \u001b[0mrel\u001b[0m \u001b[0;34m=\u001b[0m \u001b[0mS\u001b[0m\u001b[0;34m.\u001b[0m\u001b[0mOne\u001b[0m\u001b[0;34m,\u001b[0m \u001b[0mS\u001b[0m\u001b[0;34m.\u001b[0m\u001b[0mOne\u001b[0m\u001b[0;34m,\u001b[0m \u001b[0;34m'=='\u001b[0m\u001b[0;34m\u001b[0m\u001b[0;34m\u001b[0m\u001b[0m\n\u001b[1;32m    246\u001b[0m             \u001b[0;32melse\u001b[0m\u001b[0;34m:\u001b[0m\u001b[0;34m\u001b[0m\u001b[0;34m\u001b[0m\u001b[0m\n\u001b[0;32m--> 247\u001b[0;31m                 \u001b[0mnumer\u001b[0m\u001b[0;34m,\u001b[0m \u001b[0mdenom\u001b[0m \u001b[0;34m=\u001b[0m \u001b[0mexpr\u001b[0m\u001b[0;34m.\u001b[0m\u001b[0mtogether\u001b[0m\u001b[0;34m(\u001b[0m\u001b[0;34m)\u001b[0m\u001b[0;34m.\u001b[0m\u001b[0mas_numer_denom\u001b[0m\u001b[0;34m(\u001b[0m\u001b[0;34m)\u001b[0m\u001b[0;34m\u001b[0m\u001b[0;34m\u001b[0m\u001b[0m\n\u001b[0m\u001b[1;32m    248\u001b[0m \u001b[0;34m\u001b[0m\u001b[0m\n\u001b[1;32m    249\u001b[0m             \u001b[0;32mtry\u001b[0m\u001b[0;34m:\u001b[0m\u001b[0;34m\u001b[0m\u001b[0;34m\u001b[0m\u001b[0m\n",
            "\u001b[0;31mAttributeError\u001b[0m: 'And' object has no attribute 'together'"
          ]
        }
      ]
    }
  ]
}